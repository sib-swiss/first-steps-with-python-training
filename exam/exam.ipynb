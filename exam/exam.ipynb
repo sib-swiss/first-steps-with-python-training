{
 "cells": [
  {
   "cell_type": "markdown",
   "metadata": {},
   "source": [
    "# First steps with python - exam\n",
    "--------------------------------\n",
    "\n",
    "## Instructions\n",
    "\n",
    "To complete the exam, please solve the 3 exercises in this jupyter notebook.\n",
    "\n",
    "**Remember to:**  \n",
    "* **Comment your code** to convey what you are trying to do and how you are trying to do it.\n",
    "* Remember that its often useful to write you code **using intermediary functions**, that can help\n",
    "  you write **cleaner and more readable code**.\n",
    "\n",
    "**When you have completed the exam:**\n",
    "* Rename the notebook to `firstName_lastName.exam.ipynb` before sending it to us. E.g. \"Alice Smith\" would\n",
    "  renamed the notebook to `alice_smith.exam.ipynb`.\n",
    "* Send your notebook to `wandrille.duchemin@unibas.ch`.\n",
    "* If you do not get a confirmation that we received your submission within 3 days, please send us a reminder.\n"
   ]
  },
  {
   "cell_type": "markdown",
   "metadata": {},
   "source": [
    "<br>\n",
    "\n",
    "# Exercise 1\n",
    "\n",
    "Generate random numbers between 1 and 6 until you get the number 6.\n",
    "Simulate like you would be rolling a dice.\n",
    "1. You should indicate the number of random numbers generated **before** you got the number 6\n",
    "   (i.e., the number of dice rolls, excluding the last one).\n",
    "2. You should print the sum over all the numbers generated, **before** you got the number 6.\n",
    "\n",
    "> 🎯 **hint**: have a look at the `random` built-in module."
   ]
  },
  {
   "cell_type": "code",
   "execution_count": null,
   "metadata": {},
   "outputs": [],
   "source": []
  },
  {
   "cell_type": "markdown",
   "metadata": {},
   "source": [
    "<br>\n",
    "\n",
    "# Exercise 2\n",
    "\n",
    "The file `name_size.txt` contains data about the name and height of a large number of people.\n",
    "\n",
    "* Each line corresponds to one person and has two fields: a person's name and their height. \n",
    "* Note that a given first name can appear several times in the file, meaning that several people in the sample bear that name.\n",
    "\n",
    "Run the code cell below, then perform the requests tasks."
   ]
  },
  {
   "cell_type": "code",
   "execution_count": null,
   "metadata": {},
   "outputs": [],
   "source": [
    "d_names = {}\n",
    "\n",
    "with open(\"name_size.txt\", mode=\"r\") as input_file:\n",
    "    for l in input_file:\n",
    "        name, size = l.strip().split(\",\")\n",
    "        if not name in d_names:\n",
    "            d_names[name] = []\n",
    "        d_names[name].append(float(size))\n"
   ]
  },
  {
   "attachments": {},
   "cell_type": "markdown",
   "metadata": {},
   "source": [
    "1. **Explain in a couple of sentences** what the following piece of code is doing? (feel free to run the code, look at its output, and expriment a bit to understand how it works)\n",
    "\n",
    "The following questions ask you to use the `d_names` object built in the previous question code.\n",
    "\n",
    "2. **Find out the name** of the tallest person (i.e. the one associated to the maximum height) ?\n",
    "\n",
    "3. **Find out which name**, among the ones starting with the letter `B`, **is the most popular** (i.e. the most frequent) ?\n",
    "\n",
    "4. **Compute the average height** of people whose name contains more than 5 letters.\n",
    "\n",
    "\n",
    "> 🦉 **Remember:** you can subdivide each question into smaller subtasks to acheive the requested result step by step.\n"
   ]
  },
  {
   "cell_type": "code",
   "execution_count": null,
   "metadata": {},
   "outputs": [],
   "source": []
  },
  {
   "cell_type": "markdown",
   "metadata": {},
   "source": [
    "<br>\n",
    "\n",
    "# Exercise 3\n",
    "\n",
    "We are given a python script by a colleague that is supposed to work with a certain kind of data file containing information on proteins that contain strange repeat elements. These repeat elements can be approximately 20-30 amino acid long, and each element can be repeated several times per protein. To add to the complexity of this imaginary phenomenon, the proteins typically contain 3-10 different repeat elements.\n",
    "\n",
    "`peptide_data.tsv` is an example a data file that we know has the correct format to work with the script. The file is a simple tab-delimited text file, representing a table with the following 4 columns:\n",
    "\n",
    "| Column name    | Description                                           |\n",
    "| -------------- | ----------------------------------------------------- |\n",
    "| protein_ID     | ID of the protein (unique for each protein).          |\n",
    "| repeat_length  | Length of repeat element in nucleotides.              |\n",
    "| num_repeat     | How many times this element is repeated.              |\n",
    "| repeat_ID      | ID of the repeat element.                             |\n",
    "\n",
    "<br>\n",
    "\n",
    "However, the script (given below) has somehow collected many bugs (around 10) over time before it landed into our hands. Bugs are of different kinds, including but not limited to typos, missing lines and wrong types. Your task is to **fix the code and annotate your fixes**. Note that:\n",
    "\n",
    "* The **_correct_** script should calculate the average size of repeated regions per protein.\n",
    "* In the script's output file, the first letter of the protein IDs should be capitalized. \n",
    "* 🔥 **Important:** Please indicate any \"fix\" you do in the code with a comment that briefly describes \n",
    "  what you fixed and/or why it was needed.\n",
    "\n",
    "As a reference, you are also given the file `output.tsv`, which contains the correct results if the script is fixed and works as intended. You can compare your ouput to this file to check if you have a working script."
   ]
  },
  {
   "cell_type": "code",
   "execution_count": null,
   "metadata": {},
   "outputs": [],
   "source": [
    "def parse_line(line):\n",
    "    \"\"\"\n",
    "    This function accepts a string containing a single line from an input file.\n",
    "    The line must correspond to a line of a file with the following structure:\n",
    "    \n",
    "    1            2                3                 4\n",
    "    protein_ID   HPAA_repeat_len  HPAA_num_repeat   HPAA_ID\n",
    "\n",
    "    The function returns a tuple of protein ID and two integers: the length of \n",
    "    the repeat and the number of repeat element.\n",
    "    (protein_id, repeat_len, num_repeat)\n",
    "    \"\"\"\n",
    "    parsed = line.split(',')\n",
    "    return parsed[1], parsed[2], parsed[3]\n",
    "\n",
    "\n",
    "def calc_total_len(repeat_len, num_repeat):\n",
    "    \"\"\"Compute the product of repeat_len and num_repeat\"\"\"\n",
    "    return repeat_len * num_repeat\n",
    "\n",
    "\n",
    "# Initialize a new data dictionary\n",
    "data = []\n",
    "\n",
    "\n",
    "# Read the input file\n",
    "with open(\"peptide_data.tsv\") as infile:\n",
    "    for line in infile:\n",
    "        protein_id, repeat_len, num_repeat = parse_line(line)\n",
    "        protein_id[0] = protein_id[0].upper()\n",
    "        if protein_id not in data:\n",
    "            data[protein_id] = []\n",
    "    data[protein_id].append(calc_total_len(repeat_len, num_repeat))\n",
    "\n",
    "# Write the output\n",
    "with open(\"output2.tsv\") as outfile:\n",
    "    for protein in sorted(data.keys()):\n",
    "        repeats = data[protein]\n",
    "        total_num_repeats = 0\n",
    "        total_size_repeats = 0\n",
    "        for repeat_size in repeats\n",
    "            total_num_repeats += 1\n",
    "        total_size_repeats += repeat_size\n",
    "        print(protein, total_size_repeats / total_num_repeats,\n",
    "              sep=\"\\t\", file=oufile)\n"
   ]
  },
  {
   "cell_type": "code",
   "execution_count": null,
   "metadata": {},
   "outputs": [],
   "source": []
  }
 ],
 "metadata": {
  "kernelspec": {
   "display_name": "Python 3 (ipykernel)",
   "language": "python",
   "name": "python3"
  },
  "language_info": {
   "codemirror_mode": {
    "name": "ipython",
    "version": 3
   },
   "file_extension": ".py",
   "mimetype": "text/x-python",
   "name": "python",
   "nbconvert_exporter": "python",
   "pygments_lexer": "ipython3",
   "version": "3.13.0"
  }
 },
 "nbformat": 4,
 "nbformat_minor": 4
}
