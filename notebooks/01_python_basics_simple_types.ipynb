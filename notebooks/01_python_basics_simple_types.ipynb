{
 "cells": [
  {
   "cell_type": "markdown",
   "metadata": {},
   "source": [
    "<br>\n",
    "\n",
    "# Module 1 - Python basics <a id='0'></a>\n",
    "--------------------------"
   ]
  },
  {
   "cell_type": "markdown",
   "metadata": {},
   "source": [
    "### Table of Content <a id='toc'></a>\n",
    "\n",
    "[**Python basics**](#0)  \n",
    "&nbsp;&nbsp;&nbsp;&nbsp;[Variables](#1)  \n",
    "&nbsp;&nbsp;&nbsp;&nbsp;[Code indentation - the importance of white spaces in Python](#2)  \n",
    "&nbsp;&nbsp;&nbsp;&nbsp;[Functions](#3)  \n",
    "&nbsp;&nbsp;&nbsp;&nbsp;&nbsp;&nbsp;&nbsp;&nbsp;[The help function - your best friend in Python](#4)  \n",
    "&nbsp;&nbsp;&nbsp;&nbsp;[Reading and understanding errors](#5)  \n",
    "&nbsp;&nbsp;&nbsp;&nbsp;[Micro Exercise 1](#6)  \n",
    "\n",
    "[**Object types: simple types**](#7)  \n",
    "&nbsp;&nbsp;&nbsp;&nbsp;[Type conversion](#8)  \n",
    "&nbsp;&nbsp;&nbsp;&nbsp;[Micro Exercise 2](#9)  \n",
    "&nbsp;&nbsp;&nbsp;&nbsp;[Operators](#10)  \n",
    "&nbsp;&nbsp;&nbsp;&nbsp;[Arithmetic operators](#11)  \n",
    "&nbsp;&nbsp;&nbsp;&nbsp;[Comparison operators](#12)  \n",
    "&nbsp;&nbsp;&nbsp;&nbsp;[Micro Exercise 3](#13)\n",
    "\n",
    "\n",
    "\n",
    "[**Exercises 1.1 - 1.2**](#27)\n",
    "\n"
   ]
  },
  {
   "cell_type": "markdown",
   "metadata": {},
   "source": [
    "<br>\n",
    "\n",
    "## Python documentation and learning resources\n",
    "\n",
    "* **Official [python documentation](https://www.python.org/doc/)**: this is the official python documentation. It also contains some tutorials.\n",
    "* **[Alternative documentation](https://www.w3schools.com/python/python_reference.asp)**: reference for built-in functions and types (easier to read, and sometimes more complete than the `help()` function). \n"
   ]
  },
  {
   "cell_type": "markdown",
   "metadata": {},
   "source": [
    "<br>\n",
    "<br>\n",
    "<br>\n",
    "\n",
    "## Python basics <a id='0'></a>\n",
    "---------------------\n",
    "\n",
    "### Variables <a id='1'></a>\n",
    "In python, as in many programming language, **objects are stored in variables**.\n",
    "* A value is **assigned** to a variable using the **`=`** sign. \n",
    "* **Important:** unlike in mathematics, the `=` sign in python is directional: the variable name must\n",
    "  always be on the left of the `=`, and the value to assign to the variable on the right.  \n",
    "\n",
    "  Example:\n",
    "  ```python\n",
    "  a = 23    # Valid assignment.\n",
    "  8 = b     # NOT a valid assignment.\n",
    "  ```\n",
    "\n",
    "<br>\n",
    "\n",
    "When we create a variable, python associates the variable name to a section of your computer's memory (i.e. the [RAM](https://en.wikipedia.org/wiki/Random-access_memory)) which will contain the data for the variable.\n",
    "\n",
    "<img src=\"img/var_simple.png\" alt=\"representation of a simple variable in memory\" style=\"width:150px;\" />\n",
    "\n",
    "<br>\n",
    "\n",
    "In python, variables names must adhere to these restrictions:\n",
    "* Variable names must be **composed solely of uppercase and lowercase letters** (`A-Z`, `a-z`), \n",
    "  **digits** (`0-9`), and the **underscore** character `_`.\n",
    "* The **first character** of a variable name **cannot be a digit**.\n",
    "* By convention, **variable names starting with a single or double underscore `_`/`__` are reserved \n",
    "  for \"special\" variables** (class private attributes, \"magic\" variables).\n",
    "* Examples:\n",
    "    * `var_1` is a valid variable name.\n",
    "    * `1_var` is **not** a valid name (starts with a digit).\n",
    "    * `var-1` is **not** a valid name (contains a the non-authorized character `-`).\n",
    "    * `__var_1__` is valid, but **should not be used**, with the exception of very specific situations.\n",
    "\n",
    "<br>\n",
    "\n",
    "**Important tips**:\n",
    "* Using **explicit variable names makes your code easier to read** for others, and possibly yourself \n",
    "  in a not-so-distant future.  \n",
    "  E.g. `input_file` is a better variable name than `iptf`, even if it is a bit longer.\n",
    "* **Never use python built-in names as variable names**, otherwise you will overwrite this object in the \n",
    "  namespace.  \n",
    "  E.g. don't call a variable `str`, `int` or `list` (this can be painful to debug)."
   ]
  },
  {
   "cell_type": "code",
   "execution_count": null,
   "metadata": {
    "scrolled": true
   },
   "outputs": [],
   "source": [
    "my_variable = 35        # Assign the value 35 to the variable name \"my_variable\".\n",
    "var_a = \"hello python\"  # Assign the value \"hello python\" to variable \"var_a\".\n",
    "var_b = var_a           # Assign the value of \"var_a\" to \"var_b\".\n",
    "\n",
    "# By the way, text located after a \"#\" character - just like this line - are \"comments\".\n",
    "# Comments are text that will not be executed, but is useful for code documentation.\n",
    "print(my_variable)\n",
    "print(var_a)\n",
    "print(var_b)"
   ]
  },
  {
   "cell_type": "markdown",
   "metadata": {},
   "source": [
    "<br>\n",
    "\n",
    "[Back to ToC](#toc)\n",
    "\n",
    "### Code indentation - the importance of white spaces in Python <a id='2'></a>\n",
    "\n",
    "**Indentation** is the number of **white spaces before the first text element** (on a given line).\n",
    "\n",
    "```python\n",
    "    |var_1 = 2    # This line is not indented.\n",
    "    | var_1 = 2   # This line is indented by 1 space.\n",
    "     ^\n",
    "    |  var_1 = 2  # This line is indented by 2 spaces.\n",
    "     ^^\n",
    "```\n",
    "\n",
    "* Unlike many other languages, **indentation is part of the language syntax in Python**,\n",
    "  and it has a very important meaning: it is used to define a so-called **\"code block\"**\n",
    "  (more on that later in the course).\n",
    "* Using proper **indentation is an integral part of python** - unlike most other languages where it's\n",
    "  just good practice.\n",
    "* When outside of a \"code block\", there should be no indentation on the line.\n",
    "* A wrong level of indentation will trigger an `IndentationError`.\n",
    "* Comments can have any indentation level."
   ]
  },
  {
   "cell_type": "code",
   "execution_count": null,
   "metadata": {},
   "outputs": [],
   "source": [
    "var_1 = \"abc\"    # No indentation -> valid syntax.\n",
    " var_1 = \"abc\"   # unexpected indentation (i.e. outside of a code block) -> IndentationError\n",
    " \n",
    "     # Comment lines, however, can be indented as you wish."
   ]
  },
  {
   "cell_type": "markdown",
   "metadata": {},
   "source": [
    "When assigning a variable, white spaces after the variable name do not matter. However the [Python style convention](https://www.python.org/dev/peps/pep-0008/#whitespace-in-expressions-and-statements) is to have **exactly 1 space** on each side of the `=` operator when assigning a variable.\n"
   ]
  },
  {
   "cell_type": "code",
   "execution_count": null,
   "metadata": {},
   "outputs": [],
   "source": [
    "var_1 = \"abc\"                   # Valid syntax and good style.\n",
    "var_1           =        \"abc\"  # Valid syntax but bad style -> please avoid.\n",
    "print(var_1)"
   ]
  },
  {
   "cell_type": "markdown",
   "metadata": {},
   "source": [
    "<br>\n",
    "\n",
    "[Back to ToC](#toc)\n",
    "\n",
    "### Functions <a id='3'></a>\n",
    "Another very important concept in Python - as in most programming language - are **functions**:\n",
    "* Functions are **re-usable blocks of code** that have been given a name and are designed to perform an action.\n",
    "  How to define your own functions will be covered in Module 2 of this course.\n",
    "* Functions can be written to perform anything, from the simplest task to the most complex.\n",
    "* To **call a function**, one uses its name followed by parentheses `()`, which can contain an eventual set of \n",
    "  **arguments**.\n",
    "* Values passed to functions are called **arguments**, they can be **mandatory** (positional arguments)\n",
    "  or **optional** (keyword arguments).\n",
    "\n",
    "**Example:** to call the \"print\" function, we type `print()` and pass the text to print inside the `()`.\n",
    "  "
   ]
  },
  {
   "cell_type": "code",
   "execution_count": null,
   "metadata": {},
   "outputs": [],
   "source": [
    "print(\"This will be printed\")                     # 1 argument is passed to the print().\n",
    "print(\"This\", \"will\", \"be\", \"printed\", sep=\"--\")  # 5 arguments are passed to print()."
   ]
  },
  {
   "cell_type": "markdown",
   "metadata": {},
   "source": [
    "<br>\n",
    "\n",
    "#### Positional vs. keyword arguments\n",
    "\n",
    "**Arguments** are the variables/values that the function uses as input to do its job. \n",
    "\n",
    "Example of the `print()` function:\n",
    "\n",
    "    print(value, ..., sep=' ', end='\\n', file=sys.stdout, flush=False)\n",
    "\n",
    "> Note: the above line (function name + arguments) is often referred to as the function's **signature**.\n",
    "\n",
    "<br>\n",
    "\n",
    "In Python, we differentiate between two types of arguments:\n",
    "  * **Positional** arguments:\n",
    "      * **Are mandatory** - the function will not execute without them.\n",
    "      * Their position in the call to the function is important.  \n",
    "        E.g. `divmod(11, 5)` - [which returns the quotient and remainder of a \n",
    "        division](https://docs.python.org/3/library/functions.html#divmod) - \n",
    "        does not give the same result as `divmod(5, 11)`.\n",
    "\n",
    "<br>\n",
    "\n",
    "  * **Keyword** arguments:\n",
    "      * **Are optional** and have a **default value**.\n",
    "      * Are passed to the function with the syntax `function(argument_name=value)`.\n",
    "      * Keyword arguments **can be passed in any order**... as long as they are passed\n",
    "        **after positional arguments**."
   ]
  },
  {
   "cell_type": "code",
   "execution_count": null,
   "metadata": {},
   "outputs": [],
   "source": [
    "answer = 42\n",
    "print(\"The answer is\", answer, sep=\" -> \", end=\"--\\n\")\n",
    "print(\"The answer is\", answer, end=\"--\\n\", sep=\" -> \")"
   ]
  },
  {
   "cell_type": "markdown",
   "metadata": {},
   "source": [
    "<br>\n",
    "\n",
    "**Positional** arguments must always be passed **before keyword arguments**. Otherwise, a **`SyntaxError`** is raised:"
   ]
  },
  {
   "cell_type": "code",
   "execution_count": null,
   "metadata": {},
   "outputs": [],
   "source": [
    "print(sep=\"--\", \"This\", \"will\", \"be\", \"printed\")   #  -> raises a SyntaxError"
   ]
  },
  {
   "cell_type": "markdown",
   "metadata": {},
   "source": [
    "Very often (but not always, it depends on the function), keyword arguments can also be passed without their name being specified - in which case they must be passed in the correct order:"
   ]
  },
  {
   "cell_type": "code",
   "execution_count": null,
   "metadata": {
    "scrolled": true
   },
   "outputs": [],
   "source": [
    "# In the print function, all keyword arguments must be passed with their name.\n",
    "print(\"This\", \"will\", \"be\", \"printed\", sep=\"--\")\n",
    "print(\"This\", \"will\", \"be\", \"printed\", \"--\")"
   ]
  },
  {
   "cell_type": "markdown",
   "metadata": {},
   "source": [
    "<br>\n",
    "\n",
    "[Back to ToC](#toc)\n",
    "\n",
    "#### The help function - your best friend in Python <a id='4'></a>\n",
    "In python, almost any object or function is extensively documented: what it is, what it does, how to use it, ...  \n",
    "This information is accessed using the `help()` function, which takes as argument the object we want to get help with.\n",
    "\n",
    "Let's try to look up the help page of the `print()` function that we encountered moments ago:"
   ]
  },
  {
   "cell_type": "code",
   "execution_count": null,
   "metadata": {},
   "outputs": [],
   "source": [
    "help(print)"
   ]
  },
  {
   "cell_type": "markdown",
   "metadata": {},
   "source": [
    "**It tells us that:**\n",
    " * `print` is a function (more specifically a **built-in** function).\n",
    " * It gives a description of what `print()` does:\n",
    " \n",
    "   > Prints the values to a stream, or to sys.stdout by default.\n",
    "   \n",
    "   So the function prints the values that are passed to it to the console (or possibly to a file).\n",
    " * It takes one or more positional (mandatory) arguments `args` (or `value` in the help of older python\n",
    "   versions), which are the things that will be printed.\n",
    "   * Note that `print()` is a bit of a special case, as it is possible to pass multiple values for\n",
    "     the first argument.\n",
    "   * The fact that multiple arguments can be passed is indicated by the `*` (or `...` on older\n",
    "     python versions).\n",
    "     \n",
    " * It has 4 optional keyword arguments that refine its use, among which are `sep` and `end`.\n",
    " * The **default values** for the keyword arguments are shown in the function's signature:\n",
    " \n",
    "    > print(value, ..., sep=' ', end='\\n', file=sys.stdout, flush=False)\n",
    "    \n",
    "    E.g. the default value for `sep` is a single white space (` `), and the default for `end` is\n",
    "    the \"new line\" (`\\n`) character.\n",
    "\n",
    "<br>\n",
    "\n",
    "Let's try to apply our new knowledge of the `print` function :"
   ]
  },
  {
   "cell_type": "code",
   "execution_count": null,
   "metadata": {},
   "outputs": [],
   "source": [
    "# Simple usage.\n",
    "print(\"test\")\n",
    "\n",
    "# We can make it print several values by passing several arguments. By default, they are separated by 1 space.\n",
    "print(\"Please collect\" , 42, \"Shrubberies\")\n",
    "\n",
    "# The \"sep\" argument can be used to change the separator between values.\n",
    "print(\"Please collect\" , 42, \"Shrubberies\", sep=\"/\")\n",
    "\n",
    "# The 'end' argument can be used to modify the character printed at\n",
    "# the end of each line. It defaults to \"\\n\", the new line character.\n",
    "print(\"first line\", end=\"\")\n",
    "                             \n",
    "print(\"second line\")"
   ]
  },
  {
   "cell_type": "markdown",
   "metadata": {},
   "source": [
    "<br>\n",
    "\n",
    "**Don't hesitate to use the `help` function on any object (e.g. functions) to understand how they work.**"
   ]
  },
  {
   "cell_type": "markdown",
   "metadata": {},
   "source": [
    "<br>\n",
    "\n",
    "[Back to ToC](#toc)\n",
    "\n",
    "### Methods\n",
    "\n",
    "**Methods** are very similar to functions, except that they **are associated to a specific object type**.  \n",
    "Since methods are associated to a specific object type, the syntax used to call them is the following:\n",
    "\n",
    "* `object.method()` - syntax to call a **method of an object**.\n",
    "\n",
    "\n",
    "<br>\n",
    "\n",
    "**Example:** calling the `.upper()` method of a string."
   ]
  },
  {
   "cell_type": "code",
   "execution_count": null,
   "metadata": {},
   "outputs": [],
   "source": [
    "test_string = \"hello world!\"\n",
    "upper_case_string = test_string.upper()\n",
    "\n",
    "print(upper_case_string)"
   ]
  },
  {
   "cell_type": "markdown",
   "metadata": {},
   "source": [
    "> **Important:** don't forget the `()` when calling a method/function that takes no arguments.\n",
    "> Otherwise you will not call the method/function, but access the \"function object\" itself.\n",
    ">\n",
    "> ```python\n",
    "> test_string.upper()  # -> calls the \"upper\" method on \"test_string\".\n",
    "> test_string.upper    # -> returns a function object.\n",
    "> ```"
   ]
  },
  {
   "cell_type": "markdown",
   "metadata": {},
   "source": [
    "<br>\n",
    "\n",
    "**Methods are a very important part of python**, and provide tons of functionalities to objects.  \n",
    "Before you start writing your own code to manipulate an object, **always check** if the object\n",
    "already has a method that does exactly (or nearly) what you want.\n",
    "This will save you a lot of time and grief.\n",
    "\n",
    "\n",
    "In the help, **methods can be identified** by the fact that their first argument is the special keyword **`self`**.\n",
    "\n",
    "Example of `help(str.upper)`:\n",
    "\n",
    "```py\n",
    "upper(self, /)\n",
    "    Return a copy of the string converted to uppercase.\n",
    "```\n",
    "\n",
    "<br>\n",
    "\n",
    "> Notes:\n",
    "> * To get the help of an object method, you need to specify it's class: `help(class.method)`\n",
    ">   * `help(str.upper)` works.\n",
    ">   * But `help(upper)` does not.\n",
    ">\n",
    ">   <br>  \n",
    ">\n",
    "> * The `/` symbol found in method/function signatures indicates that all arguments\n",
    ">   present before the `/` can only be passed as positional arguments, even if they have\n",
    ">   a default value. In other words:\n",
    ">   * These arguments **cannot be passed with their argument name**, i.e. `argument_name=value`.\n",
    ">   * These arguments have to be **passed in the correct order**.\n",
    ">   \n",
    ">   In the case of the `str.upper()` method, this information is not very meaningful as this\n",
    ">   method does not take any argument (well, technically you could write `str.upper(\"hello world\")`\n",
    ">   but nobody does this).\n",
    ">\n",
    ">   However, if we consider e.g. the builtin `divmod` function, the `/` in its signature\n",
    ">   has practical implications:\n",
    ">\n",
    ">   ```python\n",
    ">   help(divmod)       # -> divmod(x, y, /)\n",
    ">   divmod(x=23, y=7)  # -> Not allowed, raises a TypeError: divmod() takes no keyword arguments\n",
    ">   divmod(23, 7)      # -> OK\n",
    ">   ```"
   ]
  },
  {
   "cell_type": "markdown",
   "metadata": {},
   "source": [
    "<br>\n",
    "\n",
    "[Back to ToC](#toc)\n",
    "\n",
    "### Reading and understanding errors <a id='5'></a>\n",
    "\n",
    "Unless you are a perfect human being, your code will contain errors at some point.  \n",
    "Errors ~~can sometimes be~~ are frustrating, but they are unavoidable, and the best way to correct them is to read and try to understand them.\n",
    "\n",
    "Here is an error example:"
   ]
  },
  {
   "cell_type": "code",
   "execution_count": null,
   "metadata": {
    "scrolled": true
   },
   "outputs": [],
   "source": [
    "var_a = 42\n",
    "var_b = var_a + 3\n",
    "print(var_c)"
   ]
  },
  {
   "cell_type": "markdown",
   "metadata": {},
   "source": [
    "The python error message gives us a number of useful info:\n",
    "* The first line indicates the **type** of the error. In our example we got a `NameError`, meaning that \n",
    "  a name (of an object) has not been found, which means that there is no variable/function/class with said\n",
    "  name currently defined. If you want to know more about a certain error type, you can use the help \n",
    "  function on it: `help(NameError)`.\n",
    "* The following lines indicate **where the error occurred**, which is very useful when there are hundreds of \n",
    "  lines in your code. Here the error occurred on line `3` (as indicated by the arrow `----> 3`).\n",
    "* Finally, we have the **error message**: `NameError: name 'var_c' is not defined`. This points out\n",
    "  that we tried to access a variable named `var_c`, when in fact that variable does not exist (i.e., that name\n",
    "  is not defined).\n",
    "\n",
    "> <span style=\"color:blue\">Arguably, being able to **read and understand errors** and being able to **read the help** accounts for ~50% of \"coding skills\"...</span>.\n",
    "\n"
   ]
  },
  {
   "cell_type": "markdown",
   "metadata": {},
   "source": [
    "<br>\n",
    "\n",
    "<div class=\"alert alert-block alert-success\">\n",
    "    \n",
    "### Micro Exercise 1 <a id='6'></a>\n",
    "* Copy/paste the line below in a code cell and execute it.\n",
    "    ```python\n",
    "    a = 10\n",
    "    42 + \"a\"\n",
    "    ```\n",
    "    <br>\n",
    "    \n",
    "* Look at the error that was raised. Try to understand it, and modify the code to fix it.\n",
    "\n",
    "<div>\n"
   ]
  },
  {
   "cell_type": "code",
   "execution_count": null,
   "metadata": {},
   "outputs": [],
   "source": []
  },
  {
   "cell_type": "markdown",
   "metadata": {},
   "source": [
    "<br>\n",
    "<br>\n",
    "\n",
    "[Back to ToC](#toc)\n",
    "\n",
    "## Object types: simple types <a id='7'></a>\n",
    "\n",
    "**Everything in python is an object**, and each object is of a specific **type** (the type is the class of the object).\n",
    "\n",
    "There exist plenty of types (it is even common to define your own new type), but there are a few very common ones - known as **built-in** types - that you ought to know:\n",
    "\n",
    "* **`bool`**: boolean/logical values, either `True` or `False`, like 0 or 1.\n",
    "* **`int`**: integer number.\n",
    "* **`float`**: floating point number (numbers with a decimal fraction).\n",
    "\n",
    "To know the type of an object, we can make use of the **`type()`** function.  \n"
   ]
  },
  {
   "cell_type": "code",
   "execution_count": null,
   "metadata": {},
   "outputs": [],
   "source": [
    "print(type(True))\n",
    "print(type(11))\n",
    "print(type(\"hello world\"))\n",
    "print(type(print))"
   ]
  },
  {
   "cell_type": "markdown",
   "metadata": {},
   "source": [
    "<br>\n",
    "\n",
    "**A few comments about types in python:**\n",
    "* Python is a **dynamically typed** language\\*\\* (as opposed to **statically typed** \n",
    "  languages such as C or C++ e.g.). This means that variables are declared without a specific type, \n",
    "  and the type is assigned based on what object is assigned to the variable.  \n",
    "  This has its advantages (easier and faster to write code) and downsides (e.g. type error bugs can \n",
    "  remain hidden for a long time until they are triggered by some unusual input data).\n",
    "\n",
    "  \\*\\* Starting with python 3.6, it is possible (as an option) to add **type annotations** for\n",
    "  variables, but these are not enforced at runtime.\n",
    "  \n",
    "  <br>\n",
    "  \n",
    "* A corollary is that variables in Python are not restricted to a single type and can be reassigned \n",
    "  another type of value at any time.\n",
    " \n",
    "<br>\n",
    "\n",
    "**Example:** here we successively assign different values and types to the variable `a`."
   ]
  },
  {
   "cell_type": "code",
   "execution_count": null,
   "metadata": {
    "scrolled": true
   },
   "outputs": [],
   "source": [
    "# Boolean\n",
    "a = True\n",
    "print(\"Type of a is now:\", type(a))\n",
    "\n",
    "# Float\n",
    "a = 4.2\n",
    "print(\"Type of a is now:\", type(a))\n",
    "\n",
    "# Integer\n",
    "a = 42\n",
    "print(\"Type of a is now:\", type(a))"
   ]
  },
  {
   "cell_type": "markdown",
   "metadata": {},
   "source": [
    "<br>\n",
    "\n",
    "[Back to ToC](#toc)\n",
    "\n",
    "### Type conversion <a id='8'></a>\n",
    "\n",
    "Converting from one type to another is (often) fairly easy: just use the type name as a function.\n",
    "\n",
    "**Example:** convert an integer to a float."
   ]
  },
  {
   "cell_type": "code",
   "execution_count": null,
   "metadata": {},
   "outputs": [],
   "source": [
    "a = 42\n",
    "print(\"Type of 'a' before conversion:\", type(a), \", a = \", a)\n",
    "\n",
    "a = float(a)\n",
    "print(\"Type of 'a' after conversion:\", type(a), \", a = \", a)"
   ]
  },
  {
   "cell_type": "markdown",
   "metadata": {},
   "source": [
    "**Example:** convert to string"
   ]
  },
  {
   "cell_type": "code",
   "execution_count": null,
   "metadata": {},
   "outputs": [],
   "source": [
    "a = str(a)\n",
    "print(\"Type of 'a' after conversion:\", type(a), \", a = \", a)"
   ]
  },
  {
   "cell_type": "markdown",
   "metadata": {
    "vscode": {
     "languageId": "python"
    }
   },
   "source": [
    "Converting to string is useful when concatenating a string and a number:"
   ]
  },
  {
   "cell_type": "code",
   "execution_count": null,
   "metadata": {},
   "outputs": [],
   "source": [
    "# This fails, because we cannot add strings and integers types.\n",
    "print(\"This will fail, \" + 2 + \" bad\")"
   ]
  },
  {
   "cell_type": "code",
   "execution_count": null,
   "metadata": {},
   "outputs": [],
   "source": [
    "# This works, because we convert the integer 4 to a string \"4\" before the concatenation.\n",
    "print(\"This will work \" + str(4) + \" sure\")"
   ]
  },
  {
   "cell_type": "markdown",
   "metadata": {},
   "source": [
    "<br>\n",
    "\n",
    "<div class=\"alert alert-block alert-success\">\n",
    "\n",
    "### Micro Exercise 2 <a id='9'></a>\n",
    "* Set `a = \"42\"`, then convert `a` back to an integer (`int`). Look up the `help` for integers.  \n",
    "* If you have time, try to now set `a = \"42.0\"` and do the type conversion. Does it still work? If not, how\n",
    "  can you fix the issue?\n",
    "\n",
    "<div>"
   ]
  },
  {
   "cell_type": "code",
   "execution_count": null,
   "metadata": {},
   "outputs": [],
   "source": []
  },
  {
   "cell_type": "markdown",
   "metadata": {},
   "source": [
    "<br>\n",
    "<br>\n",
    "\n",
    "[Back to ToC](#toc)\n",
    "\n",
    "## Operators <a id='10'></a>\n",
    "Now that we have variables containing objects of a certain **type**, we can begin to manipulate them using **operators**.\n",
    "<br>\n",
    "\n",
    "### Arithmetic operators  <a id='11'></a>\n",
    "You know most of these already:"
   ]
  },
  {
   "cell_type": "code",
   "execution_count": null,
   "metadata": {
    "scrolled": true
   },
   "outputs": [],
   "source": [
    "print( 3 + 7 )      # + : addition\n",
    "print( 1.1 - 5 )    # - : subtraction\n",
    "print( 5 * 2 )      # * : multiplication\n",
    "print( 5 / 2 )      # / : division\n",
    "print( 2 ** 4 )     # **: power\n",
    "print( 5 // 2 )     # //: integer division (only the integer part of the quotient is kept,\n",
    "                    #     the fractional part is discarded: 2.5 -> 2)\n",
    "print( 5 % 2 )      # % : modulus = remainder of the integer division: 5 % 2 -> 1\n",
    "\n",
    "# As you would expect, variables can be used with operators as well:\n",
    "x = 4\n",
    "y = 16 * x**2 - 2 * x + 0.5 \n",
    "print(y)"
   ]
  },
  {
   "cell_type": "markdown",
   "metadata": {},
   "source": [
    "**Tip:** when modifying the value of a variable, you can use the following **shortcut operators** (useful e.g. to increment the value of a variable in a loop):"
   ]
  },
  {
   "cell_type": "code",
   "execution_count": null,
   "metadata": {},
   "outputs": [],
   "source": [
    "a = 0\n",
    "print(\"The start value of 'a' is\", a)\n",
    "\n",
    "# Same as a = a + 3\n",
    "a += 3\n",
    "print(\"The value of 'a' is now:\", a)\n",
    "\n",
    "# Same as a = a - 1\n",
    "a -= 1                                 \n",
    "print(\"The value of 'a' is now:\", a)\n",
    "\n",
    "# Same as a = a * 3\n",
    "a *= 3\n",
    "print(\"The value of 'a' is now:\", a)\n",
    "\n",
    "# Same as a = a / 2\n",
    "a /= 2\n",
    "print(\"The value of 'a' is now:\", a)"
   ]
  },
  {
   "cell_type": "markdown",
   "metadata": {},
   "source": [
    "<br>\n",
    "\n",
    "[Back to ToC](#toc)\n",
    "\n",
    "### Comparison operators <a id='12'></a>\n",
    "\n",
    "These operators return a `bool` value: `True` or `False`."
   ]
  },
  {
   "cell_type": "code",
   "execution_count": null,
   "metadata": {},
   "outputs": [],
   "source": [
    "a = 5\n",
    "\n",
    "print(\"is a equal to 1?:\", a == 1)              # == : equality\n",
    "print(\"is a different to 13.37?:\", a != 13.37)  # != : inequality\n",
    "print(\"is a greater than 5?:\", a > 5 )          # >  : larger than\n",
    "print(\"is a lower than 10?:\", a < 10 )          # <  : lower than\n",
    "print(\"is a above 5?:\", a >= 5 )                # <= : lower or equal\n",
    "print(\"is a lower than 10?:\", a <= 10 )         # >= : larger or equal"
   ]
  },
  {
   "cell_type": "markdown",
   "metadata": {},
   "source": [
    "**Warning:** comparisons are type-sensitive, so the following expression evaluates to `False`:"
   ]
  },
  {
   "cell_type": "code",
   "execution_count": null,
   "metadata": {},
   "outputs": [],
   "source": [
    "a = 5\n",
    "print(\"is 'a' equal to '5'?:\", a == \"5\")"
   ]
  },
  {
   "cell_type": "markdown",
   "metadata": {},
   "source": [
    "Boolean values (the result from a comparison) can be:\n",
    "* **Combined** using `and` or `or`:\n",
    "\n",
    "    | Combining with `and` | **True** | **False** |\n",
    "    |----------------------|----------|-----------|\n",
    "    | **True**             | True     |  False    |\n",
    "    | **False**            | Flase    |  False    |\n",
    "  \n",
    "    | Combining with `or`  | **True** | **False** |\n",
    "    |----------------------|----------|-----------|\n",
    "    | **True**             | True     |  True     |\n",
    "    | **False**            | True     |  False    |\n",
    "  \n",
    "  <br>\n",
    "  \n",
    "* **Inverted** using `not`: `True` becomes `False`, and `False` becomes `True`."
   ]
  },
  {
   "cell_type": "code",
   "execution_count": null,
   "metadata": {},
   "outputs": [],
   "source": [
    "a = 5\n",
    "\n",
    "print(\"'and' requires both elements to be True:\" , True and ( 1 + 1 != 2 ) )\n",
    "print(\"'or' requires at least element to be True:\" , ( a * 2 > 10 ) or ( a > 0 ) )\n",
    "print(\"'not' inverses a boolean value! This is simply\", not False)"
   ]
  },
  {
   "cell_type": "markdown",
   "metadata": {},
   "source": [
    "<br>\n",
    "\n",
    "<div class=\"alert alert-block alert-success\">\n",
    "\n",
    "### Micro Exercise 3 <a id='13'></a>\n",
    "* Compute the product of 348 and 157.2.\n",
    "* Use a comparison operator to check if the result is larger than 230 square (`230 ** 2`)\n",
    "\n",
    "<div>"
   ]
  },
  {
   "cell_type": "code",
   "execution_count": null,
   "metadata": {},
   "outputs": [],
   "source": []
  },
  {
   "cell_type": "markdown",
   "metadata": {},
   "source": [
    "<br>\n",
    "<br>\n",
    "\n",
    "## Exercises 1.1 - 1.2 <a id='27'></a>\n",
    "--------------------------\n",
    "\n",
    "* Exercises are found in a separate Jupyter Notebook.\n",
    "* If you have time, feel free to try the **additional exercises**.\n",
    "\n",
    "<br>"
   ]
  }
 ],
 "metadata": {
  "kernelspec": {
   "display_name": "Python 3 (ipykernel)",
   "language": "python",
   "name": "python3"
  },
  "language_info": {
   "codemirror_mode": {
    "name": "ipython",
    "version": 3
   },
   "file_extension": ".py",
   "mimetype": "text/x-python",
   "name": "python",
   "nbconvert_exporter": "python",
   "pygments_lexer": "ipython3",
   "version": "3.11.6"
  }
 },
 "nbformat": 4,
 "nbformat_minor": 4
}
