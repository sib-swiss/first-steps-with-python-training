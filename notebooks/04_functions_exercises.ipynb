{
 "cells": [
  {
   "cell_type": "markdown",
   "metadata": {},
   "source": [
    "# Exercises module 4 - functions\n",
    "----------------------------------------------------------"
   ]
  },
  {
   "cell_type": "markdown",
   "metadata": {},
   "source": [
    "<br>\n",
    "\n",
    "## Exercise 4.1 - reverse complement\n",
    "\n",
    "**Write a function** that returns the <a href=\"https://en.wikipedia.org/wiki/Complementarity_(molecular_biology)\">reverse complement</a> of a string containing a DNA sequence.\n",
    "\n",
    "The reverse complement is the inverted sequence (i.e. end to start), where each nucleotide is replaced by its complement.  \n",
    "Complementary nucleotides are `A` and `T`, and `G` and `C`.\n",
    "\n",
    "Here are some examples:\n",
    "* `AATGCC` -> `GGCATT`\n",
    "* `AAAGGC` -> `GCCTTT`\n",
    "* `AAATTT` -> `AAATTT`\n",
    "\n",
    "Test your function with the sequence `ATAGAGCGATCGATCCCTAGCTA`, compare your results with what you can get using <a href=\"http://arep.med.harvard.edu/labgc/adnan/projects/Utilities/revcomp.html\">this online tool</a>."
   ]
  },
  {
   "cell_type": "code",
   "execution_count": null,
   "metadata": {},
   "outputs": [],
   "source": []
  },
  {
   "cell_type": "markdown",
   "metadata": {},
   "source": [
    "<br>\n",
    "\n",
    "### Solution:\n",
    "Uncomment and run the cell below to show the solution."
   ]
  },
  {
   "cell_type": "code",
   "execution_count": null,
   "metadata": {},
   "outputs": [],
   "source": [
    "# %load solutions/solution_41.py"
   ]
  },
  {
   "cell_type": "markdown",
   "metadata": {},
   "source": [
    "<br>\n",
    "<br>\n",
    "\n",
    "# Additional exercises\n",
    "----------------------\n",
    "\n",
    "## Additional exercise 4.2\n",
    "\n",
    "A little bit of a puzzle:\n",
    "```python\n",
    "def mysterious_function(n):\n",
    "    if n <= 1:\n",
    "        return 1\n",
    "    return n * mysterious_function(n - 1)\n",
    "```\n",
    "\n",
    "<br>\n",
    "\n",
    "1. What does the `mysterious_function` do?\n",
    "2. Write a function that gives the same result, but using a `for` loop."
   ]
  },
  {
   "cell_type": "code",
   "execution_count": null,
   "metadata": {},
   "outputs": [],
   "source": []
  },
  {
   "cell_type": "markdown",
   "metadata": {},
   "source": [
    "<br>\n",
    "\n",
    "### Solution:\n",
    "Uncomment and run the cell below to show the solution."
   ]
  },
  {
   "cell_type": "code",
   "execution_count": null,
   "metadata": {},
   "outputs": [],
   "source": [
    "# %load solutions/solution_42.py"
   ]
  },
  {
   "cell_type": "markdown",
   "metadata": {},
   "source": [
    "<br>\n",
    "\n",
    "## Additional exercise 4.3\n",
    "\n",
    "Write a function that takes a string of mixed letters and digits, and returns a list of the words (groups of letters) and numbers (group of digits) of the string.  \n",
    "For instance, the string `\"Nobody0expects42the2048Spanish1492Inquisition!\"`  \n",
    "should give `[ \"Nobody\" , 0 , \"expects\" , 42 , \"the\" , 2048 , \"Spanish\" , 1492 , \"Inquisition!\" ]`\n",
    "\n",
    "> This exercise can be a tad harder than what it looks like. Don't despair and take your time; you can make it !\n",
    "\n",
    "**Hint:** you can make use of the string method `isdigit()` to determine whether a character is a number or not."
   ]
  },
  {
   "cell_type": "code",
   "execution_count": null,
   "metadata": {},
   "outputs": [],
   "source": []
  },
  {
   "cell_type": "markdown",
   "metadata": {},
   "source": [
    "<br>\n",
    "\n",
    "### Solution:\n",
    "Uncomment and run the cell below to show the solution."
   ]
  },
  {
   "cell_type": "code",
   "execution_count": null,
   "metadata": {},
   "outputs": [],
   "source": [
    "# %load solutions/solution_43.py"
   ]
  }
 ],
 "metadata": {
  "kernelspec": {
   "display_name": "Python 3 (ipykernel)",
   "language": "python",
   "name": "python3"
  },
  "language_info": {
   "codemirror_mode": {
    "name": "ipython",
    "version": 3
   },
   "file_extension": ".py",
   "mimetype": "text/x-python",
   "name": "python",
   "nbconvert_exporter": "python",
   "pygments_lexer": "ipython3",
   "version": "3.13.0"
  }
 },
 "nbformat": 4,
 "nbformat_minor": 4
}
