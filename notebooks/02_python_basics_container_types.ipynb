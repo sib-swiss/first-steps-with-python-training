{
 "cells": [
  {
   "cell_type": "markdown",
   "metadata": {},
   "source": [
    "<br>\n",
    "\n",
    "# Module 2 - Python basics : container types <a id='0'></a>\n",
    "--------------------------\n",
    "\n",
    "<div class=\"alert alert-block alert-info\">\n",
    "<b>Note:</b> this notebook contains <b>Additional Material</b> sections (in blue boxes, like this one) that will be skipped during the class due to time constraints. If you are going through this notebook on your own, feel free to\n",
    "read these sections or skip them depending on your interest.\n",
    "</div>"
   ]
  },
  {
   "cell_type": "markdown",
   "metadata": {},
   "source": [
    "### Table of Content <a id='toc'></a>\n",
    "\n",
    "* [**Introduction: container types**](#14)  \n",
    "* [**Strings**](#15)  \n",
    "&nbsp;&nbsp;&nbsp;&nbsp;[Length of a string](#16)  \n",
    "&nbsp;&nbsp;&nbsp;&nbsp;[String concatenation](#17)  \n",
    "&nbsp;&nbsp;&nbsp;&nbsp;[String slicing](#18)  \n",
    "&nbsp;&nbsp;&nbsp;&nbsp;[Micro exercise 1](#19)  \n",
    "* [**Lists**](#20)  \n",
    "&nbsp;&nbsp;&nbsp;&nbsp;[List slicing](#21)  \n",
    "&nbsp;&nbsp;&nbsp;&nbsp;[Mutability - an important difference between lists and tuples](#22)  \n",
    "&nbsp;&nbsp;&nbsp;&nbsp;[Manipulating lists: adding and removing elements](#23)  \n",
    "&nbsp;&nbsp;&nbsp;&nbsp;[From list to string, and back again ...](#24)  \n",
    "&nbsp;&nbsp;&nbsp;&nbsp;[Micro Exercise 2](#25)  \n",
    "* [**Dictionaries**](#26)  \n",
    "* [**Exercises 2.1 - 2.3**](#27)\n",
    "* [**Additional Material**](#28)  \n",
    "&nbsp;&nbsp;&nbsp;&nbsp;[Mutability of objects in Python](#29)  \n",
    "&nbsp;&nbsp;&nbsp;&nbsp;[A solution: explicit deep copy](#30)   \n",
    "&nbsp;&nbsp;&nbsp;&nbsp;[Tuple: additionnal informations](#tuple) \n"
   ]
  },
  {
   "cell_type": "markdown",
   "metadata": {},
   "source": [
    "<br>\n",
    "\n",
    "## Python documentation and learning resources\n",
    "\n",
    "* **Official [python documentation](https://www.python.org/doc/)**: this is the official python documentation. It also contains some tutorials.\n",
    "* **[Alternative documentation](https://www.w3schools.com/python/python_reference.asp)**: reference for built-in functions and types (easier to read, and sometimes more complete than the `help()` function). \n"
   ]
  },
  {
   "cell_type": "markdown",
   "metadata": {},
   "source": [
    "<br>\n",
    "<br>\n",
    "\n",
    "## Introduction: container types <a id='14'></a>\n",
    "\n",
    "In this notebook, we will get to know some of the basic Python \"container\" built-in types.  \n",
    "**Container types** are objects (types) that contain other objects:\n",
    "\n",
    "* **`str`**: string - a sequence of characters.\n",
    "* **`list`**: a **mutable** list of objects (mutable = can be modified after it was created).\n",
    "* **`tuple`**: an **immutable** list of objects (immutable = cannot be modified after it was created).\n",
    "* **`dict`**: dictionary - a collection of associated `key:value` pairs.\n",
    "\n",
    "Container objects share some common characteristics, such as:\n",
    "* They have a dedicated **`[]`** operator that lets user access one - or several - of the objects they contain.\n",
    "* The number of objects a container has (its length) can be accessed using the **`len()`** function.\n",
    "* Container objects are **iterables**: one can iterate over them using e.g. a `for` loop (see Notebook 3 of this course).\n",
    "\n",
    "**Important:** in python (unlike e.g. in R), **indexing is zero-based**. This means that the first element of a container type object is accessed with `object[0]`, and not `object[1]`."
   ]
  },
  {
   "cell_type": "markdown",
   "metadata": {},
   "source": [
    "<br>\n",
    "\n",
    "## Strings <a id='15'></a>\n",
    "\n",
    "In python, the **`string`** type is a **sequences of characters** that can be used to represent text of any length.\n",
    "\n",
    "* Strings can be declared using either **single `'`** or **double `\"`** quotes. "
   ]
  },
  {
   "cell_type": "code",
   "execution_count": null,
   "metadata": {
    "scrolled": true
   },
   "outputs": [],
   "source": [
    "gene_seq = \"ATGCGACTGATCGATCGATCGATCGATGATCGATCGATCGATGCTAGCTAC\"\n",
    "name = 'Sir Lancelot of Camelot'\n",
    "\n",
    "print(gene_seq)\n",
    "print(name)"
   ]
  },
  {
   "cell_type": "markdown",
   "metadata": {},
   "source": [
    "<br>\n",
    "\n",
    "In memory, a string variable can be represented as a sequence (container), where each element is a letter (character):\n",
    "\n",
    "<img src=\"img/var_str1.png\" alt=\"representation of a string variable in memory\" style=\"width:250px;\" />\n",
    "\n",
    "<br>\n",
    "\n",
    "Each element is associated with an **index**, starting at 0.\n",
    "\n",
    "<img src=\"img/var_str2_with_indexes.png\" alt=\"representation of a string variable in memory with indexes\" style=\"width:250px;\" />\n"
   ]
  },
  {
   "cell_type": "code",
   "execution_count": null,
   "metadata": {},
   "outputs": [],
   "source": [
    "my_str = \"text\"\n",
    "print(\"The second element of the string is:\", my_str[1])"
   ]
  },
  {
   "cell_type": "markdown",
   "metadata": {},
   "source": [
    "* **Triple quotes** can be used to define **multi-line strings**."
   ]
  },
  {
   "cell_type": "code",
   "execution_count": null,
   "metadata": {},
   "outputs": [],
   "source": [
    "long_string = \"\"\"Let me tell you something, my lad. \n",
    "When you’re walking home tonight and some great \n",
    "homicidal maniac comes after you with a bunch \n",
    "of loganberries, don’t come crying to me!\\n\"\"\"\n",
    "print(long_string)"
   ]
  },
  {
   "cell_type": "markdown",
   "metadata": {},
   "source": [
    "* **Accented and special characters** are possible in strings."
   ]
  },
  {
   "cell_type": "code",
   "execution_count": null,
   "metadata": {},
   "outputs": [],
   "source": [
    "my_quote = \"Gracieux : « aimez-vous à ce point les oiseaux \\\n",
    "que paternellement vous vous préoccupâtes \\\n",
    "de tendre ce perchoir à leurs petites pattes ? »\"\n",
    "\n",
    "print(my_quote)"
   ]
  },
  {
   "cell_type": "markdown",
   "metadata": {},
   "source": [
    "* Inserting **Tab** and **new line** characters:\n",
    "  * **`\\t`** = tab\n",
    "  * **`\\n`** = new line"
   ]
  },
  {
   "cell_type": "code",
   "execution_count": null,
   "metadata": {},
   "outputs": [],
   "source": [
    "print('Hello\\tWorld')  # \\t : tabulation\n",
    "print('Hello\\nWorld')  # \\n : newline"
   ]
  },
  {
   "cell_type": "markdown",
   "metadata": {},
   "source": [
    "<br>\n",
    "\n",
    "<div class=\"alert alert-block alert-success\">\n",
    "\n",
    "**Question:** why do the following 2 lines print exactly the same text?\n",
    "\n",
    "</div>    "
   ]
  },
  {
   "cell_type": "code",
   "execution_count": null,
   "metadata": {},
   "outputs": [],
   "source": [
    "print('Hello World')\n",
    "print('Hello World\\n', end=\"\")"
   ]
  },
  {
   "cell_type": "markdown",
   "metadata": {},
   "source": [
    "<br>\n",
    "\n",
    "* **Combining** single and double quotes."
   ]
  },
  {
   "cell_type": "code",
   "execution_count": null,
   "metadata": {},
   "outputs": [],
   "source": [
    "quote_in_quote_1 = \"Let me tell you 'something', my lad\"\n",
    "quote_in_quote_2 = 'Let me tell you \"something\", my lad'\n",
    "print(quote_in_quote_1)\n",
    "print(quote_in_quote_2)\n",
    "\n",
    "# Note: quotes can also be escaped, but it is a bit less readable than using different quote types.\n",
    "quote_in_quote_3 = \"Let me tell you \\\"something\\\", my lad\"\n",
    "print(quote_in_quote_3)"
   ]
  },
  {
   "cell_type": "markdown",
   "metadata": {},
   "source": [
    "<br>\n",
    "\n",
    "### Length of a string <a id='16'></a>\n",
    "The **`len()`** function can be used on a string to return its length:"
   ]
  },
  {
   "cell_type": "code",
   "execution_count": null,
   "metadata": {},
   "outputs": [],
   "source": [
    "name = \"Sir Lancelot of Camelot\"\n",
    "print(\"The number of characters in the string '\", name, \"' is: \", len(name), sep='')"
   ]
  },
  {
   "cell_type": "markdown",
   "metadata": {},
   "source": [
    "<br>\n",
    "\n",
    "### String concatenation <a id='17'></a>\n",
    "* Strings can be concatenated with the **`+`** operator.\n",
    "* Strings can be \"multiplied\" (i.e. repeatedly concatenated) with the **`*`** operator."
   ]
  },
  {
   "cell_type": "code",
   "execution_count": null,
   "metadata": {},
   "outputs": [],
   "source": [
    "print(\"dead\" + \"-\" + \"parrot\") \n",
    "print(\"spam\" * 5)"
   ]
  },
  {
   "cell_type": "markdown",
   "metadata": {},
   "source": [
    "<div class=\"alert alert-block alert-info\">\n",
    "\n",
    "#### Additional material: f-strings\n",
    "\n",
    "Python [f-strings (formatted string literals)](https://docs.python.org/3/reference/lexical_analysis.html#f-strings) allow to easily create strings that combine one or more variables with some hard-coded characters.\n",
    "\n",
    "The syntax is simply to:\n",
    "* Prefix the string with `f\"This is an f-string\"`.\n",
    "* Inside an f-string, variable content can be accessed using curly braces, as in\n",
    "  `f\"This is a {variable_name}\"`.  \n",
    "  Here, `{variable_name}` will expand to the content of the variable `variable_name`.\n",
    "\n",
    "**Examples:**\n",
    "\n",
    "```python\n",
    "# Example 1:\n",
    "first_name = \"Alice\"\n",
    "last_name = \"Smith\"\n",
    "\n",
    "full_name = f\"{first_name} {last_name}\"   # Same as: full_name = first_name + \" \" + last_name\"\n",
    "print(f\"Her full name is {full_name}.\")   # -> Her full name is Alice Smith.\n",
    "\n",
    "# Example 2:\n",
    "animal = \"cat\"\n",
    "container = \"bag\"\n",
    "\n",
    "print(f\"The {animal} is out of the {container}!\")  # -> The cat is out of the bag!\n",
    "```\n",
    "    \n",
    "</div>"
   ]
  },
  {
   "cell_type": "markdown",
   "metadata": {},
   "source": [
    "<br>\n",
    "\n",
    "### String slicing <a id='18'></a>\n",
    "\n",
    "Because strings are a type of sequence (a sequence of characters), the different characters of a string can be accessed using the **`[]` operator**, with the index of the desired element(s).  \n",
    "\n",
    "<img src=\"img/var_str3_with_indexes_and_access.png\" alt=\"representation of a string variable in memory with indexes and access to an element\" style=\"width:250px;\" />\n",
    "\n",
    "<br>\n",
    "\n",
    "* Remember that in python, **the index of the first element is `[0]`**.\n",
    "* Negative indices will access characters starting from the end of the string. E.g. `[-1]` returns the\n",
    "  last character in the string.\n",
    "  \n",
    "<img src=\"img/var_str3_with_indexes_and_reverse_access.png\" alt=\"representation of a string variable in memory with indexes and access to an element using reverse indexing\" style=\"width:400px;\" />\n",
    "  "
   ]
  },
  {
   "cell_type": "code",
   "execution_count": null,
   "metadata": {},
   "outputs": [],
   "source": [
    "my_string = \"And now, something completely different.\"\n",
    "\n",
    "print(\"The first element of this string is:\", my_string[0] )  # 0 is the index of the 1st element of the string.\n",
    "print(\"The 5th element of this string is:\", my_string[4] )    # 5th element of the string.\n",
    "print(\"The last element of this string is:\", my_string[-1] )  # -1 is the index of the last element of the string."
   ]
  },
  {
   "cell_type": "markdown",
   "metadata": {},
   "source": [
    "<br>\n",
    "\n",
    "Indices can also be used to retrieve several elements at once: this is called a **slice operation** or **slicing**:\n",
    "* The general syntax of slicing is `[start index: end index (excluded): step]`\n",
    "* The end index position is **excluded from the slice**.\n",
    "* The **default step value is 1**. It can be omitted (and usually is).\n",
    "* If the start index is omitted, the slicing is implicitly done from the beginning of the string. `string[:10]`\n",
    "* If the end index is omitted, the slicing is implicitly done until the end of the string. `string[10:]`"
   ]
  },
  {
   "cell_type": "code",
   "execution_count": null,
   "metadata": {},
   "outputs": [],
   "source": [
    "my_string = \"And now, something completely different.\"\n",
    "\n",
    "print(my_string)\n",
    "print(my_string[0:5])   # Slice operation: get all elements from index 0 (included) to index 5 (excluded)\n",
    "print(my_string[:5])    # Implicitly slices from the beginning of the string up to (but not included) index 5.\n",
    "print(my_string[5:])    # Implicitly slices until the end of the string.\n",
    "print(my_string[5::2])  # Keep every second letter, starting from index 5 to the end of the string."
   ]
  },
  {
   "cell_type": "markdown",
   "metadata": {},
   "source": [
    "**Tip:** you can reverse a sequence (such as a string) by using the **`[::-1]`** slicing operation."
   ]
  },
  {
   "cell_type": "code",
   "execution_count": null,
   "metadata": {},
   "outputs": [],
   "source": [
    "print(my_string[::-1])  # Goes through the string from end to start -> reverses the string !"
   ]
  },
  {
   "cell_type": "markdown",
   "metadata": {},
   "source": [
    "<br>\n",
    "\n",
    "<div class=\"alert alert-block alert-success\">\n",
    "\n",
    "### Micro Exercise 1 <a id='19'></a>\n",
    "* Create a string variable containing your name.\n",
    "* Extract the last 3 letters from it using slicing.\n",
    "\n",
    "</div>"
   ]
  },
  {
   "cell_type": "code",
   "execution_count": null,
   "metadata": {},
   "outputs": [],
   "source": []
  },
  {
   "cell_type": "markdown",
   "metadata": {},
   "source": [
    "<br>\n",
    "<br>\n",
    "\n",
    "[Back to ToC](#toc)\n",
    "\n",
    "## Lists <a id='20'></a>\n",
    "------------------------\n",
    "\n",
    "Lists are **sequence type** objects that can contain any type of elements (other objects).\n",
    "* **Lists** are declared by surrounding a comma separated list of objects with **`[]`**.  \n",
    "  Example: `[\"This\", \"is\", \"a list\", \"with\", 6, \"items\"]`\n",
    "\n",
    "<br>\n",
    "\n",
    "#### Creating a list"
   ]
  },
  {
   "cell_type": "code",
   "execution_count": null,
   "metadata": {},
   "outputs": [],
   "source": [
    "# Create a new list.\n",
    "my_list = [\"item 0\", \"item 1\", \"item 2\"]\n",
    "\n",
    "print(\"List content:\", my_list)\n",
    "print(\"List length :\", len(my_list))"
   ]
  },
  {
   "cell_type": "code",
   "execution_count": null,
   "metadata": {},
   "outputs": [],
   "source": [
    "# Create a new list, here populated with integer numbers.\n",
    "another_list = [0, 1, 1, 2, 3, 5, 8, 13, 21, 34]\n",
    "\n",
    "print(\"List content:\", another_list)\n",
    "print(\"List length :\", len(another_list))"
   ]
  },
  {
   "cell_type": "markdown",
   "metadata": {},
   "source": [
    "* List items can be of **heterogenous type**.\n",
    "* List **items can be of any type**: therefore it's possible to nest lists within other lists."
   ]
  },
  {
   "cell_type": "code",
   "execution_count": null,
   "metadata": {},
   "outputs": [],
   "source": [
    "nested_list = [1, 2, \"spam\", \"eggs\", 5.2, [2, \"spam\"]]\n",
    "\n",
    "print(\"List content:\", nested_list)\n",
    "print(\"List length :\", len(nested_list))"
   ]
  },
  {
   "cell_type": "markdown",
   "metadata": {},
   "source": [
    "<br>\n",
    "\n",
    "#### Creating an empty list\n",
    "\n",
    "* Both **`[]`** and **`list()`** can be used create an empty list.  \n",
    "* Generally `[]` is considered the more *pythonic* way of creating empty lists."
   ]
  },
  {
   "cell_type": "code",
   "execution_count": null,
   "metadata": {},
   "outputs": [],
   "source": [
    "empty_list = []\n",
    "empty_list = list()\n",
    "\n",
    "print(\"List content    :\", empty_list)\n",
    "print(\"List length     :\", len(empty_list))\n",
    "print(\"Type of 'a_list':\", type(empty_list))"
   ]
  },
  {
   "cell_type": "markdown",
   "metadata": {},
   "source": [
    "<br>\n",
    "\n",
    "#### Creating lists from iterables (e.g. sequences such as lists, tuples, or a range)\n",
    "\n",
    "* Objects that are *iterables* can be converted to lists using the `list()` function."
   ]
  },
  {
   "cell_type": "code",
   "execution_count": null,
   "metadata": {},
   "outputs": [],
   "source": [
    "# Creating a list from a \"range\" type object.\n",
    "\n",
    "numbers = list(range(21))\n",
    "print(numbers)"
   ]
  },
  {
   "cell_type": "markdown",
   "metadata": {},
   "source": [
    "> What are **`range`** objects ?  \n",
    "> `range` objects are sequences of **integer numbers**, e.g. `0, 1, 2, 3, 4, ...`.\n",
    ">\n",
    "> By default, a call to `range(x)` creates a sequence of integers from `0` to `x`, `x` excluded.\n",
    "> * `range(10)`    -> `0, 1, 2, 3, 4, 5, 6, 7, 8, 9`\n",
    ">\n",
    "> Start and end values for the range can also be passed:\n",
    "> * `range(3, 7)` -> `3, 4, 5, 6`\n",
    ">\n",
    "> A custom increment \"step\" can be passed as a 3rd argument.\n",
    "> * `range(0, 22, 3)` -> `0, 3, 6, 9, 12, 15, 18, 21`\n",
    "> * `range(10, 0, -1)` -> `10, 9, 8, 7, 6, 5, 4, 3, 2, 1`"
   ]
  },
  {
   "cell_type": "markdown",
   "metadata": {},
   "source": [
    "<br>\n",
    "\n",
    "[Back to ToC](#toc)\n",
    "\n",
    "### Accessing values: list slicing <a id='21'></a>\n",
    "\n",
    "* Accessing an element (or a range of elements) in a list is done using the **`[]`** operator.\n",
    "* The **`[]` operator** works in much the same way than with strings, and allows\n",
    "  **accessing individual objects** from a list, or **slicing** it.\n",
    "\n",
    "<br>\n",
    "\n",
    "<img src=\"img/var_list1.png\" alt=\"representation of a list variable in memory with indices\" style=\"width:250px;\" />\n",
    "\n",
    "<br>\n",
    "\n",
    "* As with strings, remember that the **end position index is excluded** from the slicing."
   ]
  },
  {
   "cell_type": "code",
   "execution_count": null,
   "metadata": {},
   "outputs": [],
   "source": [
    "my_list = [1, 2, \"spam\", \"eggs\", 5.2, [2, \"spam\"]]\n",
    "\n",
    "print(\"First element  :\", my_list[0])   # Get the 1st item of the list.\n",
    "print(\"Elements 3 to 6:\", my_list[2:])  # Get all elements from index 2 (i.e. the 3rd element) to the end of the list."
   ]
  },
  {
   "cell_type": "code",
   "execution_count": null,
   "metadata": {},
   "outputs": [],
   "source": [
    "# Accessing the content of a nested list.\n",
    "my_list[5][1]"
   ]
  },
  {
   "cell_type": "markdown",
   "metadata": {},
   "source": [
    "<br>\n",
    "\n",
    "* If we try to access an index that does not exist in the list, an **`IndexError`** is raised.\n",
    "\n",
    "```python\n",
    "    my_list = [1, 2, \"spam\"]\n",
    "    my_list[3]\n",
    "\n",
    "    ---------------------------------------------------------------------------\n",
    "    IndexError                                Traceback (most recent call last)\n",
    "    Input In [26], in <module>\n",
    "          1 my_list = [1, 2, \"spam\"]\n",
    "    ----> 2 my_list[3]\n",
    "\n",
    "    IndexError: list index out of range\n",
    "```"
   ]
  },
  {
   "cell_type": "markdown",
   "metadata": {},
   "source": [
    "<br>\n",
    "\n",
    "[Back to ToC](#toc)\n",
    "\n",
    "<div class=\"alert alert-block alert-info\">\n",
    "\n",
    "### Additional material: Tuples <a id='22'></a>\n",
    "\n",
    "\n",
    "\n",
    "Tuples are very similar to lists in that they also are a **sequence type** objects that can contain any type of element (other objects).  \n",
    "* **Tuples** are declared using the syntax **`(value1, value2, ...)`**.\n",
    "* Values in **tuples** can be accessed and sliced in the same way as lists are.\n",
    "* The main difference between lists and tuples is that **the values in a tuple cannot be changed**\n",
    "  once the tuple has been created. This means that we cannot add/remove values from a tuple, nor can\n",
    "  we modify a value inside it.\n",
    "  \n",
    "  \n",
    "**Creating tuples** is done similarly to list, but using **`()`** instead of `[]`:\n",
    "\n",
    "```python\n",
    "tuple_1 = (\"spam\", \"eggs\", \"coconuts\")   # Crate a tuple with 3 elements.\n",
    "tuple_2 = ()                             # Create an empty tuple.\n",
    "tuple_3 = tuple(range(10))               # Create a tuple from an iterable.\n",
    "\n",
    "```\n",
    "\n",
    "* ⚠️ When creating a tuple with a single element, a `,` must be added after the element: `tuple_2 = (\"spam\",)`\n",
    "\n",
    "<br>\n",
    "\n",
    "**Accessing tuples elements** is done with the `[]` operator, just like for lists or strings. Indexing also starts at `0`.\n",
    "  \n",
    "```python\n",
    "tuple_1 = (\"spam\", \"eggs\", \"coconuts\")\n",
    "\n",
    "tuple_1[0]  # 1st element of the tuple.\n",
    "tuple_1[1]  # 2nd element of the tuple.\n",
    "```\n",
    "\n",
    "\n",
    "\n",
    "</div>"
   ]
  },
  {
   "cell_type": "markdown",
   "metadata": {},
   "source": [
    "<br>\n",
    "\n",
    "<div class=\"alert alert-block alert-info\">\n",
    "\n",
    "### Additional material: extracting non-consecutive values from a list <a id='22'></a>\n",
    "\n",
    "While slicing works well to extract a single or consecutive elements from a list, creating a subset of non-consecutive\n",
    "elements is somewhat trickier, but is possible using **list comprehension**.\n",
    "\n",
    "```python\n",
    "shopping_list = [\"eggs\", \"ham\", \"spam\", \"coconuts\", \"shrubbery\"]\n",
    "\n",
    "# Extract the 3rd and last elements:\n",
    "[shopping_list[i] for i in (2, -1)]  # -> ['spam', 'shrubbery']\n",
    "```\n",
    "\n",
    "<br>\n",
    "\n",
    "However, if this something that you have to do a lot, then the `list` type is probably not the optimal solution for\n",
    "that particular problem, and it might be better to use a different data structure such as a **numpy array** (see\n",
    "the optional module on numpy).\n",
    "\n",
    "\n",
    "</div>"
   ]
  },
  {
   "cell_type": "markdown",
   "metadata": {},
   "source": [
    "<br>\n",
    "<br>\n",
    "\n",
    "[Back to ToC](#toc)\n",
    "\n",
    "### Manipulating lists: adding and removing elements <a id='23'></a>\n",
    "\n",
    "Remember the `help()` function ? Let's use it to gain a better understanding of the `list` type:"
   ]
  },
  {
   "cell_type": "code",
   "execution_count": null,
   "metadata": {},
   "outputs": [],
   "source": [
    "help(list)"
   ]
  },
  {
   "cell_type": "markdown",
   "metadata": {},
   "source": [
    "That's a lot of information... let's go through it one element at a time:\n",
    "\n",
    "* First we learn that `list` is a class (i.e. a specific type of object).\n",
    "  Calling `list()` can thus creates an instance of type `list`.\n",
    "  > class list(object)\n",
    "  \n",
    "* The help page then tells us that lists are:\n",
    "  > built-in mutable sequence\n",
    "\n",
    "  and describes the behavior of `list()` if no argument is given (creates an empty list).\n",
    "  > If no argument is given, the constructor creates a new empty list.  \n",
    "  > The argument must be an iterable if specified.\n",
    "  \n",
    "* The help then gives all methods available for class `list`, under `Methods defined here:`\n",
    "    * **Methods** are functions that can be called on objects of the class they belong to.\n",
    "      They often enable basic manipulation of objects of that type.  \n",
    "    * Methods are called using the syntax **`object.method(...)`**.\n",
    "    * When listed in the help, the first argument of methods is always **`self`**, but this argument does\n",
    "      not need to be passed when calling the method.\n",
    "    * Methods that start with **`_`** or **`__`** are **private methods**. They are not meant to be directly called\n",
    "      by the end user (this is a convention but is not enforced by Python).\n",
    "      > *Note:* the double underscore **`__`** is called a **dunder** (double underscore).  \n",
    "    * The **`/` symbol** found in some method signatures indicates that **all arguments present before the `/`\n",
    "      are positional arguments, even if they have a default value**. They have to be passed in the correct\n",
    "      order, and cannot be passed with their argument name, i.e. `argument_name=value` - \n",
    "      [more details here](https://www.python.org/dev/peps/pep-0570).\n",
    "    * The **`*` symbol** found in some method signatures indicates that **all arguments after the `*` are\n",
    "      keyword arguments only**. In other words, no positional arguments are allowed after the `*`, and all\n",
    "      arguments passer after the `*` must always be passed as `argument_name=value` -\n",
    "      [more details here](https://peps.python.org/pep-3102)\n",
    "\n",
    "<br>\n",
    "\n",
    "Let's focus on 3 methods of the `list` class:\n",
    " * **`append(self, object, /)`**: adds an object - given as argument - at the end of the list.\n",
    " * **`extend(self, iterable, /)`**: concatenates (extends) the list with the items from the iterable passed as argument.\n",
    " * **`insert(self, index, object, /)`**: inserts an object - given as the 2nd argument - before \n",
    "   the index given as the 1st argument.\n",
    "\n",
    "<br>\n",
    "<br>"
   ]
  },
  {
   "cell_type": "markdown",
   "metadata": {},
   "source": [
    "**Adding a single element to a list: `.append()` vs `.extend()`**"
   ]
  },
  {
   "cell_type": "code",
   "execution_count": null,
   "metadata": {},
   "outputs": [],
   "source": [
    "my_list = [1 , 2 , 5]\n",
    "print(\"Initially, my_list is:\", my_list)"
   ]
  },
  {
   "cell_type": "markdown",
   "metadata": {},
   "source": [
    "* Calling the **`.append()`** method adds the specified element at the end of the list."
   ]
  },
  {
   "cell_type": "code",
   "execution_count": null,
   "metadata": {},
   "outputs": [],
   "source": [
    "my_list.append(\"ham\") \n",
    "print(my_list)"
   ]
  },
  {
   "cell_type": "code",
   "execution_count": null,
   "metadata": {},
   "outputs": [],
   "source": [
    "my_list.append(\"eggs\")\n",
    "print(my_list)"
   ]
  },
  {
   "cell_type": "markdown",
   "metadata": {},
   "source": [
    "<br>\n",
    "\n",
    "* Trying to add a string to a list with **`.extend()`** can lead to unexpected results."
   ]
  },
  {
   "cell_type": "code",
   "execution_count": null,
   "metadata": {},
   "outputs": [],
   "source": [
    "my_list = [1 , 2 , 5]\n",
    "my_list.extend(\"eggs\")\n",
    "print(my_list)"
   ]
  },
  {
   "cell_type": "markdown",
   "metadata": {},
   "source": [
    "<br>\n",
    "<br>\n",
    "\n",
    "**Adding multiple values to a list: `.append()` vs. `.extend()` vs. list concatenation**\n",
    "* **`.append(value)`** adds the specified value at the end of the list as a single value.\n",
    "* When trying to add multiple values to a list, it might not have the desired effect."
   ]
  },
  {
   "cell_type": "code",
   "execution_count": null,
   "metadata": {},
   "outputs": [],
   "source": [
    "my_list = [1, 2, 3]\n",
    "my_list.append([\"spam\", \"eggs\"])\n",
    "\n",
    "print(\"List content:\", my_list)\n",
    "print(\"List length: \", len(my_list), \"\\n\")"
   ]
  },
  {
   "cell_type": "markdown",
   "metadata": {},
   "source": [
    "* **`.extend(iterable)`** adds the values given in the specified **iterable** (e.g. a list, tuple, generator) to\n",
    "  the list.\n",
    "* This is the method you want to use to add multiple values to a list."
   ]
  },
  {
   "cell_type": "code",
   "execution_count": null,
   "metadata": {},
   "outputs": [],
   "source": [
    "my_list = [1, 2, 3]\n",
    "my_list.extend([\"spam\", \"eggs\"])\n",
    "\n",
    "print(my_list)"
   ]
  },
  {
   "cell_type": "code",
   "execution_count": null,
   "metadata": {},
   "outputs": [],
   "source": [
    "# Extending a list with a \"range\" object (iterable).\n",
    "my_list = [1, 2, 3]\n",
    "my_list.extend(range(4, 11))\n",
    "\n",
    "print(my_list)"
   ]
  },
  {
   "cell_type": "markdown",
   "metadata": {},
   "source": [
    "<br>\n",
    "\n",
    "* ✨ **Tip**: If both elements are of type `list`, concatenation can be done with the **`+`**, **`+=`**, and **`*`** operators."
   ]
  },
  {
   "cell_type": "code",
   "execution_count": null,
   "metadata": {},
   "outputs": [],
   "source": [
    "my_list = [1, 2, 3]\n",
    "my_list = my_list + [\"spam\", \"eggs\"]\n",
    "print(my_list)\n",
    "\n",
    "# += is a shortcut for extending a list.\n",
    "my_list += [\"more spam\", \"more eggs\"]   # This is the same as: my_list = my_list + [\"spam\", \"eggs\"]\n",
    "\n",
    "print(my_list)"
   ]
  },
  {
   "cell_type": "markdown",
   "metadata": {},
   "source": [
    "> ⚠️ *Warning* : list concatenation with the `+` operator only works if both objects are of type `list`.\n",
    "> \n",
    ">  ```python\n",
    ">  test_list = [1, 2, 3]\n",
    ">  test_list.extend((4, 5, 6))   # ✅ this works !\n",
    ">  test_list + (1, 2, 3)         # ❌ this FAILS: TypeError: can only concatenate list (not \"tuple\") to list\n",
    ">  ```\n",
    ">"
   ]
  },
  {
   "cell_type": "code",
   "execution_count": null,
   "metadata": {},
   "outputs": [],
   "source": [
    "# Create a new list by appending two lists.\n",
    "list_one = [ \"hello\" , 1159 ]\n",
    "list_two = list_one + [10.1, \"45\", 7]\n",
    "print(list_one)\n",
    "print(list_two)"
   ]
  },
  {
   "cell_type": "code",
   "execution_count": null,
   "metadata": {},
   "outputs": [],
   "source": [
    "# Extend a list with the += operator.\n",
    "list_one += [\"spam\", \"eggs\"] \n",
    "print(list_one)"
   ]
  },
  {
   "cell_type": "code",
   "execution_count": null,
   "metadata": {},
   "outputs": [],
   "source": [
    "# Concatenate the list multiple times with multiplication.\n",
    "menu = [\"spam\", \"eggs\"] * 3 \n",
    "print(menu)"
   ]
  },
  {
   "cell_type": "markdown",
   "metadata": {
    "vscode": {
     "languageId": "python"
    }
   },
   "source": [
    "<br>\n",
    "\n",
    "<div class=\"alert alert-block alert-info\">\n",
    "\n",
    "#### Additional Material: `insert()` method\n",
    "\n",
    "* Adding en element at a **specific position in the list** can be done with the **`insert()`** method.\n",
    "* In this example, we add an element in second position of `my_list`.\n",
    "* Remember that Python indices start with 0, so inserting before position 1 puts \n",
    "  the new object in second position in `my_list` (and not in the first).\n",
    "\n",
    "</div>"
   ]
  },
  {
   "cell_type": "code",
   "execution_count": null,
   "metadata": {},
   "outputs": [],
   "source": [
    "my_list = [1, 2, 3]\n",
    "my_list.insert(1 , \"beans\") \n",
    "print(\"list after insert:\", my_list)"
   ]
  },
  {
   "attachments": {},
   "cell_type": "markdown",
   "metadata": {},
   "source": [
    "<br>\n",
    "<br>\n",
    "\n",
    "### Deleting elements in a list\n",
    "\n",
    "* `list_object.pop(x)`: **deletes** the element at position `x` **and returns it**.\n",
    "  If no arguments are passed to `.pop()`, the last element is removed by default.\n",
    "* `del list_object[]`: **deletes** a single element or a slice.\n",
    "\n",
    "✨ **Tip:** using **`.pop()`** is generally considered to be more *pythonic* than using `del`.\n",
    "\n",
    "<br>\n",
    "\n",
    "**Example:** deleting an item with the `.pop()` method:"
   ]
  },
  {
   "cell_type": "code",
   "execution_count": null,
   "metadata": {},
   "outputs": [],
   "source": [
    "a_list = list(range(21))\n",
    "print(\"Original list:\\n\", a_list, \"\\n\")\n",
    "\n",
    "# By default, the last element of the list is removed by pop().\n",
    "removed = a_list.pop()\n",
    "print(\"Removed the last element:\\n\", a_list)\n",
    "print(\"The element removed by pop is:\", removed, end=\"\\n\\n\")\n",
    "\n",
    "# To remove an element at a specific index, the index value must be passed to the .pop() method:\n",
    "removed = a_list.pop(0)\n",
    "print(\"Removed the first element:\\n\", a_list)\n",
    "print(\"The element removed by pop is:\", removed)"
   ]
  },
  {
   "cell_type": "markdown",
   "metadata": {},
   "source": [
    "<br>\n",
    "\n",
    "**Example:** deleting with `del`:"
   ]
  },
  {
   "cell_type": "code",
   "execution_count": null,
   "metadata": {},
   "outputs": [],
   "source": [
    "a_list = list(range(21))\n",
    "print(\"Original list:\\n\", a_list, \"\\n\")\n",
    "\n",
    "# Delete the last element from the list.\n",
    "del a_list[-1]\n",
    "print(\"Deleted the last element:\\n\", a_list, \"\\n\")\n",
    "\n",
    "# Delete all elements in positions 0 to 9. The element in position 10 is not deleted.\n",
    "del a_list[0:10]\n",
    "print(\"Deleted elements 0-9:\\n\", a_list)"
   ]
  },
  {
   "cell_type": "markdown",
   "metadata": {},
   "source": [
    "<br>\n",
    "\n",
    "[Back to ToC](#toc)\n",
    "\n",
    "### From list to string, and back again ... <a id='24'></a>\n",
    "Since string variable are **iterables** (they are sequences of characters), they can be converted to a list of characters using the **`list()`** function:"
   ]
  },
  {
   "cell_type": "code",
   "execution_count": null,
   "metadata": {},
   "outputs": [],
   "source": [
    "quote = \"Drop your panties Sir William, I cannot wait till lunchtime.\"\n",
    "individual_chars = list(quote)\n",
    "\n",
    "print(individual_chars)"
   ]
  },
  {
   "cell_type": "markdown",
   "metadata": {},
   "source": [
    "As can be seen above, the default behavior is that **each letter of the string becomes an element in the list**.\n",
    "\n",
    "However, often we prefer to create a list that contains each word of the string. For this we use the **`.split()`** method of string:\n",
    "* The `.split()` method is very useful when reading formatted text files.\n",
    "* By default, it splits on white space: spaces, tabs, newlines.\n",
    "* It accepts an optional **`sep`** argument that allows separation of fields using the specified character:\n",
    "  look up `help(str.split)` for details."
   ]
  },
  {
   "cell_type": "code",
   "execution_count": null,
   "metadata": {},
   "outputs": [],
   "source": [
    "quote = \"Drop your panties Sir William, I cannot wait till lunchtime.\"\n",
    "words = quote.split()\n",
    "\n",
    "print(words)"
   ]
  },
  {
   "cell_type": "markdown",
   "metadata": {},
   "source": [
    "<br>\n",
    "\n",
    "**To convert a list to a string**, the **`.join()`** method can be used - it can be seen as the inverse of `.split()`.  \n",
    "Somehow counter-intuitively, the `.join()` method applies to strings, and takes a list as argument:"
   ]
  },
  {
   "cell_type": "code",
   "execution_count": null,
   "metadata": {},
   "outputs": [],
   "source": [
    "# Here, the separator calls the join method which accepts the list \"words\" as argument.\n",
    "quote = \" \".join(words) \n",
    "\n",
    "print(quote)\n",
    "print(type(quote))"
   ]
  },
  {
   "cell_type": "code",
   "execution_count": null,
   "metadata": {},
   "outputs": [],
   "source": [
    "# One can use a more exotic separator - in fact, any string can be used as separator.\n",
    "quote = \"_SEP_\".join(words) \n",
    "print(quote)"
   ]
  },
  {
   "cell_type": "markdown",
   "metadata": {},
   "source": [
    "* ✨ **Tip:** use an empty separator `\"\"` to join characters into a word."
   ]
  },
  {
   "cell_type": "code",
   "execution_count": null,
   "metadata": {},
   "outputs": [],
   "source": [
    "a_string = \"\".join(['to','ba','c','co','ni','st']) \n",
    "print(a_string)"
   ]
  },
  {
   "cell_type": "markdown",
   "metadata": {},
   "source": [
    "<br>\n",
    "\n",
    "<div class=\"alert alert-block alert-success\">\n",
    "\n",
    "### Micro Exercise 2 <a id='25'></a>\n",
    "\n",
    "* Create a list containing all integers from `0` to `3` (included).\n",
    "* Add two numbers at the end of the list.\n",
    "* Use a slicing operation to select the fourth element of the list.\n",
    "* Use a slicing operation to select the last element of the list.\n",
    "* **Additional tasks (if you have the time):**\n",
    "  * What is the difference between `list.pop()` and `list.remove()`?  \n",
    "    Try to find-out empirically using the list `[6, 5, 5, 4, 3, 2, 1]` and\n",
    "    running `.pop(5)` and `.remove(5)` on the list.\n",
    "  * Why does `print(my_list.append(\"something\"))` print \"None\" ?\n",
    "\n",
    "<div>"
   ]
  },
  {
   "cell_type": "code",
   "execution_count": null,
   "metadata": {},
   "outputs": [],
   "source": []
  },
  {
   "cell_type": "markdown",
   "metadata": {},
   "source": [
    "<br>\n",
    "<br>\n",
    "<br>\n",
    "\n",
    "### Returning a value vs. in-place modification\n",
    "\n",
    "As you might have noticed, methods do sometimes return a value, and sometimes modify an object \"inplace\", meaning that the object on which the method is called is itself modified.\n",
    "\n",
    "**Example:** the `.upper()` method of a string object returns a value (a modified copy of the original string). It does not modify the original string."
   ]
  },
  {
   "cell_type": "code",
   "execution_count": null,
   "metadata": {},
   "outputs": [],
   "source": [
    "quote = \"You must cut down the mightiest tree in the forest with a herring!\"\n",
    "return_value = quote.upper()\n",
    "\n",
    "print(\"The return value is:\", return_value)\n",
    "print(\"The original object:\", quote)        # The original object has not been modified."
   ]
  },
  {
   "cell_type": "markdown",
   "metadata": {},
   "source": [
    "<br>\n",
    "\n",
    "**Example:** The `.append()` method of a list **modifies the list inplace**, and returns the value `None`.\n"
   ]
  },
  {
   "cell_type": "code",
   "execution_count": null,
   "metadata": {
    "scrolled": true
   },
   "outputs": [],
   "source": [
    "more_quotes = [\n",
    "    \"What… is your quest?\",\n",
    "    \"To seek the Holy Grail\",\n",
    "]\n",
    "return_value = more_quotes.append(\"Well, how did you become king then?\")\n",
    "\n",
    "print(\"The return value is:\", return_value)\n",
    "print(\"The original object:\", more_quotes)"
   ]
  },
  {
   "cell_type": "markdown",
   "metadata": {},
   "source": [
    "<br>\n",
    "\n",
    "When calling a method that modifies an object inplace and returns `None`, we generally do not store the return value in a variable.  \n",
    "Appending a value to a list would thus be written as:"
   ]
  },
  {
   "cell_type": "code",
   "execution_count": null,
   "metadata": {},
   "outputs": [],
   "source": [
    "more_quotes.append(\"Well, how did you become king then?\")"
   ]
  },
  {
   "cell_type": "markdown",
   "metadata": {},
   "source": [
    "<br>\n",
    "<br>\n",
    "<br>\n",
    "\n",
    "[Back to ToC](#toc)\n",
    "\n",
    "## Dictionaries <a id='26'></a>\n",
    "---------------\n",
    "\n",
    "Dictionaries, or **`dict`**, are containers that associate a **key** to a **value**, just like a real world dictionary associates a word to its definition.\n",
    "* Dictionaries are instantiated with the `{key:value}` or `dict(key=value)` syntax.\n",
    "\n",
    "    ```python\n",
    "    color_code = {\"blue\": 23, \"green\": 45, \"red\": 8}\n",
    "    ```\n",
    "    <br>\n",
    "  \n",
    "* **Keys must be unique** in the dictionary, and must be an immutable object (typically a `str`).\n",
    "* **Values** can appear multiple times.\n",
    "* The `[]` operator is used to **select objects from the dictionary**, but **using their key** instead\n",
    "  of their index. E.g. `color_code[0]` is not a valid syntax (and will raise a **`KeyError`**), unless\n",
    "  there is a key value of `0` in the dict (which is not the case in our example).\n",
    "  \n",
    "    ```python\n",
    "    color_code[\"blue\"]   # returns 23\n",
    "    color_code[\"red\"]    # returns 8\n",
    "    ```\n",
    "    <br>\n",
    "\n",
    "  \n",
    "* Dictionaries are **mutable** objects: `key:value` pairs can be added and removed, values can be modified."
   ]
  },
  {
   "cell_type": "markdown",
   "metadata": {
    "vscode": {
     "languageId": "python"
    }
   },
   "source": [
    "**Examples:**\n",
    "\n",
    "* **Create a dictionary with values** in it."
   ]
  },
  {
   "cell_type": "code",
   "execution_count": null,
   "metadata": {},
   "outputs": [],
   "source": [
    "student_age = {\n",
    "    \"Anne\": 26 , \n",
    "    \"Victor\": 31,\n",
    "}\n",
    "\n",
    "# Alternatively:\n",
    "student_age = dict(Anne=26, Victor=31)\n",
    "\n",
    "print(student_age)"
   ]
  },
  {
   "cell_type": "markdown",
   "metadata": {},
   "source": [
    "<br>\n",
    "\n",
    "* **Retrieve values** associated with keys."
   ]
  },
  {
   "cell_type": "code",
   "execution_count": null,
   "metadata": {},
   "outputs": [],
   "source": [
    "print(\"The age of Anne is  :\", student_age[\"Anne\"])\n",
    "print(\"The age of Victor is:\", student_age[\"Victor\"])"
   ]
  },
  {
   "cell_type": "markdown",
   "metadata": {},
   "source": [
    "<br>\n",
    "\n",
    "* **Trying to access an element of the `dict` by index is not possible**. It raises a **`KeyError`**, because\n",
    "  python is trying to find the key `0` in the dictionary and it does not exist."
   ]
  },
  {
   "cell_type": "code",
   "execution_count": null,
   "metadata": {},
   "outputs": [],
   "source": [
    "# Trying to access an element of the dict by index -> KeyError\n",
    "student_age[0]"
   ]
  },
  {
   "cell_type": "markdown",
   "metadata": {},
   "source": [
    "* **Adding additional `key:value` pairs** to a dictionary, or modifying an existing key is as easy as:"
   ]
  },
  {
   "cell_type": "code",
   "execution_count": null,
   "metadata": {},
   "outputs": [],
   "source": [
    "student_age[\"Eleonore\"] = 5\n",
    "print(student_age)"
   ]
  },
  {
   "cell_type": "markdown",
   "metadata": {},
   "source": [
    "<br>\n",
    "\n",
    "* **Modifying an existing key** of a dictionary."
   ]
  },
  {
   "cell_type": "code",
   "execution_count": null,
   "metadata": {},
   "outputs": [],
   "source": [
    "student_age[\"Eleonore\"] = 25\n",
    "print(student_age)\n",
    "\n",
    "student_age[\"Eleonore\"] += 1  # Shortcut for: student_age[\"Eleonore\"] = student_age[\"Eleonore\"] + 1\n",
    "print(student_age)"
   ]
  },
  {
   "cell_type": "markdown",
   "metadata": {
    "vscode": {
     "languageId": "python"
    }
   },
   "source": [
    "<br>\n",
    "\n",
    "* **Create an empty dictionary**, then **add values** to it.\n",
    "  * Empty dictionaries can be created with either **`{}`** or **`dict()`**.\n",
    "    Using `{}` is considered more *pythonic*.\n",
    "  * To **add a value to a `dict`**, we simply specify a new key value."
   ]
  },
  {
   "cell_type": "code",
   "execution_count": null,
   "metadata": {},
   "outputs": [],
   "source": [
    "# Create an empty dict.\n",
    "student_age = dict()\n",
    "student_age = {}\n",
    "print(student_age)"
   ]
  },
  {
   "cell_type": "code",
   "execution_count": null,
   "metadata": {
    "scrolled": true
   },
   "outputs": [],
   "source": [
    "# Add new key:value pairs to the dict.\n",
    "student_age[\"Anne\"] = 26\n",
    "print(student_age)\n",
    "\n",
    "student_age[\"Victor\"] = 31\n",
    "print(student_age)"
   ]
  },
  {
   "cell_type": "markdown",
   "metadata": {},
   "source": [
    "<br>\n",
    "\n",
    "We are not restricted to a particular type for keys, nor for values. We can e.g. make a `dict` of lists or `dict` of `dict`.\n",
    "* In practice, it's best to use dictionaries for storing **homogenous values** (i.e. you probably don't want\n",
    "  to store unrelated things in different keys)."
   ]
  },
  {
   "cell_type": "code",
   "execution_count": null,
   "metadata": {},
   "outputs": [],
   "source": [
    "student_age[0] = \"zero\"                             # Key is an integer number.\n",
    "student_age[\"group_1\"] = [23, 25, 28]               # Value is a list.\n",
    "student_age[\"group_2\"] = {\"bob\": 26, \"alice\": 27}   # Value is a dict.\n",
    "\n",
    "print(student_age)\n",
    "print(\"Bob's age is:\", student_age[\"group_2\"][\"bob\"])"
   ]
  },
  {
   "cell_type": "markdown",
   "metadata": {},
   "source": [
    "* Mutable values **cannot be used as keys!**"
   ]
  },
  {
   "cell_type": "code",
   "execution_count": null,
   "metadata": {},
   "outputs": [],
   "source": [
    "# Not allowed to use `[1,2]` as a key of the dict, because a list is a mutable object.\n",
    "student_age[[1,2]] = \"shrubbery\""
   ]
  },
  {
   "cell_type": "markdown",
   "metadata": {},
   "source": [
    "<br>\n",
    "\n",
    "### Removing items from a dictionary\n",
    "\n",
    "**Removing an item from a dictionary** is similar as deleting items from a list:\n",
    "\n",
    " * **`dict.pop(key)`**: deletes the specified `key` from the dictionary and returns its value.\n",
    " * **`del dict[key]`**: deletes the specified `key` (and its associated value) from the dictionary."
   ]
  },
  {
   "cell_type": "code",
   "execution_count": null,
   "metadata": {},
   "outputs": [],
   "source": [
    "# Create a new dictionary.\n",
    "student_age = {\n",
    "    \"Anne\": 26,\n",
    "    \"Victor\": 31,\n",
    "    \"Eleonore\": 25,\n",
    "}\n",
    "print('dictionary:', student_age)"
   ]
  },
  {
   "cell_type": "code",
   "execution_count": null,
   "metadata": {},
   "outputs": [],
   "source": [
    "# Delete values from the dictionary.\n",
    "del student_age[\"Victor\"]\n",
    "removed_value = student_age.pop(\"Anne\")\n",
    "\n",
    "print('Dictionary after value removal:', student_age)\n",
    "print(\"Value we removed with 'pop'   :\", removed_value)"
   ]
  },
  {
   "cell_type": "markdown",
   "metadata": {},
   "source": [
    "<br>\n",
    "<br>\n",
    "\n",
    "## Exercises 2.1 - 2.3 <a id='27'></a>\n",
    "--------------------------\n",
    "\n",
    "* Exercises are found in a separate Jupyter Notebook.\n",
    "* If you have time, feel free to try the **additional exercises**.\n",
    "\n",
    "<br>"
   ]
  },
  {
   "cell_type": "markdown",
   "metadata": {},
   "source": [
    "<br>\n",
    "\n",
    "<br>\n",
    "\n",
    "[Back to ToC](#toc)\n",
    "\n",
    "<div class=\"alert alert-block alert-info\">\n",
    "\n",
    "# Additional Material <a id='28'></a>\n",
    "-------------------------------------\n",
    "\n",
    "</div>"
   ]
  },
  {
   "cell_type": "markdown",
   "metadata": {},
   "source": [
    "<br>\n",
    "\n",
    "### Mutability of objects in Python <a id='29'></a>\n",
    "\n",
    "All objects in Python can be either **mutable** or **immutable**. This is an important notion that newcomers to Python need to be aware of, which otherwise can lead to serious bugs in our codes.\n",
    "\n",
    "What do we mean by *mutable*? We learnt earlier that **everything in Python is an object** and every variable holds an instance of an object. Once its type is set at runtime it can never change. A list is always a list, an integer is always an integer. However its value can be modified if it is mutable.\n",
    "\n",
    "A mutable object can be changed/modified after it is created, and an immutable object can’t."
   ]
  },
  {
   "cell_type": "markdown",
   "metadata": {},
   "source": [
    "| Class   | Mutable |\n",
    "| ------- |:-------:|\n",
    "| `bool`  | no |\n",
    "| `int`   | no |\n",
    "| `float` | no |\n",
    "| `str`   | no |\n",
    "| `list`  | yes |\n",
    "| `tuple` | no |\n",
    "| `dict`  | yes |"
   ]
  },
  {
   "cell_type": "markdown",
   "metadata": {},
   "source": [
    "Mutability has not much practical importance for simple types, but it has for container types.  \n",
    "Let's see this with some examples:"
   ]
  },
  {
   "cell_type": "code",
   "execution_count": null,
   "metadata": {},
   "outputs": [],
   "source": [
    "a_str = \"Python\"\n",
    "a_list = [\"P\", \"y\", \"t\", \"h\", \"o\", \"n\"]\n",
    "a_tuple = (\"P\", \"y\", \"t\", \"h\", \"o\", \"n\")\n",
    "a_dict = {0: \"P\", 1: \"y\", 2: \"t\", 3: \"h\", 4: \"o\", 5: \"n\"}"
   ]
  },
  {
   "cell_type": "markdown",
   "metadata": {},
   "source": [
    "Let's try to modify an element (an individual char) in a string: it raises a **`TypeError`** because a string in an **immutable type**."
   ]
  },
  {
   "cell_type": "code",
   "execution_count": null,
   "metadata": {},
   "outputs": [],
   "source": [
    "# Let's try to change \"P\" into \"p\"\n",
    "print(a_str[0])\n",
    "a_str[0] = \"p\""
   ]
  },
  {
   "cell_type": "markdown",
   "metadata": {
    "vscode": {
     "languageId": "python"
    }
   },
   "source": [
    "Let's try to modify an element in a list: this is possible, because a list is a **mutable type**."
   ]
  },
  {
   "cell_type": "code",
   "execution_count": null,
   "metadata": {},
   "outputs": [],
   "source": [
    "print(a_list)\n",
    "a_list[0] = \"p\"\n",
    "print(a_list)"
   ]
  },
  {
   "cell_type": "markdown",
   "metadata": {
    "vscode": {
     "languageId": "python"
    }
   },
   "source": [
    "However, the *immutable* cousin of `list`, the `tuple`, does not allow assignment:"
   ]
  },
  {
   "cell_type": "code",
   "execution_count": null,
   "metadata": {},
   "outputs": [],
   "source": [
    "print(a_tuple[0])\n",
    "a_tuple[0] = \"p\""
   ]
  },
  {
   "cell_type": "markdown",
   "metadata": {},
   "source": [
    "<br>\n",
    "\n",
    "Dictionaries are mutable, their values can be modified:"
   ]
  },
  {
   "cell_type": "code",
   "execution_count": null,
   "metadata": {},
   "outputs": [],
   "source": [
    "print(a_dict)\n",
    "a_dict[0] = \"p\"\n",
    "print(a_dict)"
   ]
  },
  {
   "cell_type": "code",
   "execution_count": null,
   "metadata": {},
   "outputs": [],
   "source": [
    "my_dict = {\"str\": a_str, \"list\": a_list}\n",
    "another_dict = my_dict\n",
    "print(another_dict[\"list\"])"
   ]
  },
  {
   "cell_type": "code",
   "execution_count": null,
   "metadata": {},
   "outputs": [],
   "source": [
    "# Let's now modify my_dict...\n",
    "my_dict[\"list\"][0] = \"P\"\n",
    "\n",
    "# ... and see what happens to both dictionaries.\n",
    "print(\"my_dict:\", my_dict)\n",
    "print(\"another_dict:\", another_dict)"
   ]
  },
  {
   "cell_type": "markdown",
   "metadata": {},
   "source": [
    "Although we never changed/modified `another_dict`, it was also changed. This is because the key **'list'** in both dictionaries refer to the same `list` object: `a_list`. It is mutable and once it is modified, both dictionaries will reflect this modification. Let's visit this with a final example."
   ]
  },
  {
   "cell_type": "code",
   "execution_count": null,
   "metadata": {},
   "outputs": [],
   "source": [
    "a_list[0] = \"Z\"\n",
    "print(\"my_dict:\", my_dict)\n",
    "print(\"another_dict:\", another_dict)"
   ]
  },
  {
   "cell_type": "markdown",
   "metadata": {},
   "source": [
    "**To summarize:**\n",
    "\n",
    "* An object in Python can either be mutable or immutable.\n",
    "* We can simply check it by trying to modify a variable.\n",
    "* `str` and `tuple` are immutable\n",
    "* `list` and `dict` are mutable\n",
    "* We need to pay attention when we modify mutable objects that are referred from multiple variables!"
   ]
  },
  {
   "cell_type": "code",
   "execution_count": null,
   "metadata": {},
   "outputs": [],
   "source": [
    "my_dict[\"str\"] = \"Zython\"\n",
    "\n",
    "print(\"my_dict:\", my_dict)\n",
    "print(\"another_dict:\", another_dict)"
   ]
  },
  {
   "cell_type": "code",
   "execution_count": null,
   "metadata": {},
   "outputs": [],
   "source": [
    "a_third_dict = my_dict.copy()\n",
    "my_dict[\"str\"] = \"Kython\"\n",
    "my_dict[\"list\"][0] = \"K\"\n",
    "\n",
    "print(\"my_dict:\", my_dict)\n",
    "print(\"third_dict:\", a_third_dict)"
   ]
  },
  {
   "cell_type": "markdown",
   "metadata": {},
   "source": [
    "<br>\n",
    "\n",
    "[Back to ToC](#toc)\n",
    "\n",
    "### A solution: explicit deep copy <a id='30'></a>\n",
    "\n",
    "The difference between shallow and deep copying is only relevant for compound objects (objects that contain other objects, like lists, dicts, or class instances):\n",
    "\n",
    "* A **shallow copy** constructs a new compound object and then (to the extent possible) inserts references into\n",
    "  it to the objects found in the original.\n",
    "* A **deep copy** constructs a new compound object and then, recursively, inserts copies into it of the objects found\n",
    "  in the original."
   ]
  },
  {
   "cell_type": "code",
   "execution_count": null,
   "metadata": {},
   "outputs": [],
   "source": [
    "import copy\n",
    "\n",
    "a_third_dict = copy.deepcopy(my_dict)   # <- explicit deep copy\n",
    "my_dict[\"str\"] = \"Back to Python\"\n",
    "my_dict[\"list\"][0] = \"P\"\n",
    "print(\"my_dict:\", my_dict)\n",
    "print(\"another_dict:\", a_third_dict)"
   ]
  },
  {
   "cell_type": "markdown",
   "metadata": {},
   "source": [
    "### Copying immutable values\n",
    "\n",
    "* When making a copy of a variable of an immutable type (e.g. `str`, `int`, `float`, `tuple`, ...),\n",
    "  the copy will point to the same memory location.\n",
    "* However, when the variable value is changed (i.e. it is re-assigned a new value), then it will point to\n",
    "  a different memory location. This is expected, since immutable variable types cannot have their value\n",
    "  modified.\n"
   ]
  },
  {
   "cell_type": "code",
   "execution_count": null,
   "metadata": {},
   "outputs": [],
   "source": [
    "a = 3\n",
    "b = a\n",
    "print(\"Are 'a' and 'b' pointing to the same object in memory:\", a is b)\n",
    "print(\"Memory locations of the 2 objects:\", id(a), id(b), sep=\"\\n\")\n",
    "b += 1\n",
    "print(\"After having modified 'b':\")\n",
    "print(\"Are 'a' and 'b' pointing to the same object in memory:\", a is b)\n",
    "print(\"Memory locations of the 2 objects:\", id(a), id(b), sep=\"\\n\", end=\"\\n\\n\")"
   ]
  },
  {
   "cell_type": "markdown",
   "metadata": {},
   "source": [
    "#### Python memory management: interned vs non-interned values\n",
    "\n",
    "> Integer values from -5 to 256 are **\"interned\"**, which means that they are created once\n",
    "> and then re-used over the entire runtime of the python program/session.\n",
    "\n",
    "```py\n",
    "    a = 256\n",
    "    b = 256\n",
    "    print(\"Are 'a' and 'b' pointing to the same object in memory?:\", a is b)\n",
    "    print(\"Memory locations of the 2 objects:\", id(a), id(b), sep=\"\\n\", end=\"\\n\\n\")\n",
    "```\n",
    "```text\n",
    "    Are 'a' and 'b' pointing to the same object in memory?: True\n",
    "    Memory locations of the 2 objects:\n",
    "    9801248\n",
    "    9801248\n",
    "```\n",
    "\n",
    "> The integer value of 257 on the other hand, is not \"interned\": this means that if the\n",
    "> value 257 is assigned independently to two different variables, they will not point\n",
    "> to the same memory location. The value if 257 is thus duplicated in memory.\n",
    "```py\n",
    "    a = 257\n",
    "    b = 257\n",
    "    print(\"Are 'a' and 'b' pointing to the same object in memory:\", a is b)\n",
    "    print(\"memory locations of the 2 objects:\", id(a), id(b), sep=\"\\n\", end=\"\\n\\n\")\n",
    "```\n",
    "```text\n",
    "    Are 'a' and 'b' pointing to the same object in memory: False\n",
    "    memory locations of the 2 objects:\n",
    "    139648697282640\n",
    "    139648697282736\n",
    "```\n",
    "\n",
    "> Literal strings are also \"interned\": when a variable is assigned a literal\n",
    "> string, python will first check whether such a string already exists somewhere\n",
    "> in memory, and if yes, the variable is pointed to the already existing string\n",
    "> in memory.\n",
    "```py\n",
    "    a = \"shrubbery\"\n",
    "    b = \"shrubbery\"\n",
    "    print(\"Are 'a' and 'b' pointing to the same object in memory:\", a is b)\n",
    "    print(\"memory locations of the 2 objects:\", id(a), id(b), sep=\"\\n\", end=\"\\n\\n\")\n",
    "```\n",
    "```text\n",
    "    Are 'a' and 'b' pointing to the same object in memory: True\n",
    "    memory locations of the 2 objects:\n",
    "    139649051058800\n",
    "    139649051058800\n",
    "```\n",
    "\n",
    "> Non-literal strings on the other hand are not interned:\n",
    "```py\n",
    "    a = str(23)\n",
    "    b = str(23)\n",
    "    print(\"Are 'a' and 'b' pointing to the same object in memory:\", a is b)\n",
    "    print(\"memory locations of the 2 objects:\", id(a), id(b), sep=\"\\n\", end=\"\\n\\n\")\n",
    "```\n",
    "```text\n",
    "    Are 'a' and 'b' pointing to the same object in memory: False\n",
    "    memory locations of the 2 objects:\n",
    "    139649050161200\n",
    "    139649050161968\n",
    "```\n",
    "\n",
    "> Because at this point the string \"shrubbery\" has already been created once before,\n",
    "> re-assigning it to another variable will still point to the same memory location as\n",
    "> it did earlier when it was assigned to \"a\" and \"b\".\n",
    "```py\n",
    "    c = \"shrubbery\"\n",
    "    print(\"memory locations of 'c' is:\", id(c), end=\"\\n\\n\")\n",
    "```\n",
    "```text\n",
    "    memory locations of 'c' is: 139649051058800\n",
    "```"
   ]
  },
  {
   "cell_type": "markdown",
   "metadata": {},
   "source": [
    "\n",
    "[Back to ToC](#toc)\n",
    "\n",
    "\n",
    "\n",
    "### Tuples <a id='tuple'></a>\n",
    "\n",
    "\n",
    "#### Create a tuple\n",
    " * **Important:** if a tuple contains a single element, then the last (and only) element of the tuple must be\n",
    "   followed by a comma.\n",
    " * If the tuple contains multiple elements, then this final comma is not necessary (but allowed).\n",
    "     ```py\n",
    "     a_tuple = (value, )`   # Correct syntax.\n",
    "     a_tuple = (value)      # This will NOT create a tuple, but a regular value.\n",
    "     ```"
   ]
  },
  {
   "cell_type": "code",
   "execution_count": null,
   "metadata": {},
   "outputs": [],
   "source": [
    "# Create a tuple of 3 elements.\n",
    "tuple_1 = (\"spam\", \"eggs\", \"coconuts\")\n",
    "\n",
    "print(tuple_1)"
   ]
  },
  {
   "cell_type": "code",
   "execution_count": null,
   "metadata": {},
   "outputs": [],
   "source": [
    "# Create a tuple of 1 element.\n",
    "tuple_1 = (\"spam\", )\n",
    "\n",
    "print(\"Content of variable:\", tuple_1)\n",
    "print(\"Length of tuple is :\", len(tuple_1))\n",
    "print(\"type of variable   :\", type(tuple_1))"
   ]
  },
  {
   "cell_type": "code",
   "execution_count": null,
   "metadata": {},
   "outputs": [],
   "source": [
    "# Create a tuple from a list.\n",
    "list_1 = [\"a\", \"sequence\", \"of\", \"strings\"]\n",
    "tuple_1 = tuple(list_1)\n",
    "\n",
    "print(tuple_1)"
   ]
  },
  {
   "cell_type": "markdown",
   "metadata": {
    "vscode": {
     "languageId": "python"
    }
   },
   "source": [
    "<br>\n",
    "\n",
    "**Warning:** the following does not create a tuple, but a variable of type string!"
   ]
  },
  {
   "cell_type": "code",
   "execution_count": null,
   "metadata": {},
   "outputs": [],
   "source": [
    "tuple_1 = (\"spam\")\n",
    "print(\"Content of variable:\", tuple_1)\n",
    "print(\"Length of variable :\", len(tuple_1))\n",
    "print(\"type of variable   :\", type(tuple_1))"
   ]
  },
  {
   "cell_type": "markdown",
   "metadata": {},
   "source": [
    "<br>\n",
    "\n",
    "#### Creating empty tuples\n",
    "* Empty tuples can be created with `()` or `tuple()`.\n",
    "* Note that because tuples cannot be changed after they are created, it is not possible to add elements\n",
    "  to an empty tuple."
   ]
  },
  {
   "cell_type": "code",
   "execution_count": null,
   "metadata": {},
   "outputs": [],
   "source": [
    "tuple_1 = ()\n",
    "tuple_1 = tuple()\n",
    "\n",
    "print(\"Content:\", tuple_1, \" Type:\", type(tuple_1), \" Length:\", len(tuple_1))"
   ]
  },
  {
   "cell_type": "markdown",
   "metadata": {},
   "source": [
    "<br>\n",
    "\n",
    "### When to use `list` or `tuple`? Mutability - an important difference between lists and tuples \n",
    "\n",
    "* A `list` is **mutable**: it can be extended, reduced, and its elements can be changed.\n",
    "* A `tuple` is **immutable**: its length is fixed and its elements cannot be changed.\n",
    "\n",
    "<br>\n",
    "\n",
    "**Use tuples** when:\n",
    "  * You need to store a sequence of objects that will not change in your program (fixed length).\n",
    "  * You want to be sure that a sequence of objects will not be accidentally modified - a\n",
    "    sort of **write-protection**.\n",
    "  * Tuples are slightly more memory efficient than list.\n",
    "      ```py\n",
    "        import sys\n",
    "        print(sys.getsizeof((1, 2, 3, 4, 5)))  # -> 80 bytes\n",
    "        print(sys.getsizeof([1, 2, 3, 4, 5]))  # -> 96 bytes.\n",
    "      ```\n",
    "\n",
    "<br>\n",
    "\n",
    "**Use lists** when:\n",
    "  * You need to store a sequence of objects that will be modified over time.\n",
    "  * You need to have a sequence that can be grown (add elements) or shrunk (remove elements).\n",
    "\n",
    "<br>\n",
    "\n",
    "For more details about object mutability in python, see the **Additional Theory** section at the end of this notebook.\n",
    "\n",
    "<br>\n",
    "\n",
    "**Example:** because lists are mutable, we can modify an element in a list (or add/remove an element from a list)."
   ]
  },
  {
   "cell_type": "code",
   "execution_count": null,
   "metadata": {},
   "outputs": [],
   "source": [
    "# Create a new list.\n",
    "sandwich_ingredients = [\"spam\", \"ham\", 3, \"eggs\"]\n",
    "\n",
    "# We now modify the 4th element of the list:\n",
    "sandwich_ingredients[3] = \"and spam\"\n",
    "\n",
    "print(sandwich_ingredients)"
   ]
  },
  {
   "cell_type": "markdown",
   "metadata": {
    "scrolled": true,
    "vscode": {
     "languageId": "python"
    }
   },
   "source": [
    "Trying to do the same modification on a tuple raises a **`TypeError`**:"
   ]
  },
  {
   "cell_type": "code",
   "execution_count": null,
   "metadata": {
    "scrolled": true
   },
   "outputs": [],
   "source": [
    "sandwich_ingredients = (\"spam\", \"ham\", 3, \"eggs\")\n",
    "sandwich_ingredients[3] = \"and spam\""
   ]
  },
  {
   "cell_type": "markdown",
   "metadata": {},
   "source": [
    "<br>\n",
    "\n",
    "What can be done however, is to **assign a new tuple to the same variable** - this will *look* like we have modified a tuple, but in fact we have created a new tuple object and assigned it to our variable."
   ]
  },
  {
   "cell_type": "code",
   "execution_count": null,
   "metadata": {},
   "outputs": [],
   "source": [
    "sandwich_ingredients = (\"spam\", \"ham\", 3, \"eggs\")\n",
    "print(sandwich_ingredients)\n",
    "\n",
    "# We do not modify an existing tuple: we create a new one.\n",
    "sandwich_ingredients = (\"spam\", \"ham\", 3, \"and spam\")\n",
    "print(sandwich_ingredients)\n"
   ]
  },
  {
   "cell_type": "markdown",
   "metadata": {},
   "source": [
    "<br>\n",
    "\n",
    "### Additional info: tuples referencing mutable values\n",
    "\n",
    "* We just saw that **tuples are immutable**... but let's consider the following:"
   ]
  },
  {
   "cell_type": "code",
   "execution_count": null,
   "metadata": {},
   "outputs": [],
   "source": [
    "my_tuple = (\"a\", \"b\", [1, 2, 3])\n",
    "print(\"The tuple looks like this:\", my_tuple)\n",
    "\n",
    "my_tuple[2][2] = \"Did I just change an immutable tuple?\"\n",
    "print(\"The tuple looks like this:\", my_tuple)"
   ]
  },
  {
   "cell_type": "markdown",
   "metadata": {},
   "source": [
    "In the above, it *looks* like we have modified a tuple! But in fact, we have only modified a list that happens\n",
    "to be referenced by the tuple.\n",
    "\n",
    "Nested lists or tuples can be visualized like this:\n",
    "\n",
    "<img src=\"img/var_list_nested.png\" alt=\"representation of a nested list variable in memory\" style=\"width:450px;\" />\n",
    "\n",
    "* So `my_list` does not really contains the list and string themselves, but only a **pointer to these objects**.\n",
    "* Changing the content of a list does not change its pointer, and therefore in the code example above\n",
    "  the tuple has in fact not been modified: it is still pointing at the same list. The same behavior\n",
    "  happens if we store a dictionary in a tuple.\n",
    "\n",
    "* This behavior can be visualized using this [interactive code visualizer](https://pythontutor.com/render.html#code=my_tuple%20%3D%20%28%22a%22,%20%22b%22,%20%5B1,%202,%203%5D%29%0Aprint%28%22The%20tuple%20looks%20like%20this%3A%22,%20my_tuple%29%0A%0Amy_tuple%5B2%5D%5B2%5D%20%3D%20%22did%20I%20just%20change%20an%20immutable%20tuple%3F%22%0Aprint%28%22The%20tuple%20looks%20like%20this%3A%22,%20my_tuple%29&cumulative=false&curInstr=0&heapPrimitives=nevernest&mode=display&origin=opt-frontend.js&py=3&rawInputLstJSON=%5B%5D&textReferences=false)\n",
    "\n",
    "<br>\n",
    "\n",
    "For reference, accessing the nested elements looks like this:\n",
    "\n",
    "<img src=\"img/var_list_nested_access.png\" alt=\"representation of a nested list variable in memory with access\" style=\"width:450px;\" />"
   ]
  },
  {
   "cell_type": "markdown",
   "metadata": {},
   "source": [
    "<br>\n",
    "\n",
    "### Copy of list content vs. copy of pointer (copying mutable values)\n",
    "\n",
    "When assigning a variable to another variable (as done below when assigning `l1` to `l2`), we are not duplicating the content of the existing variable: instead, we only create **a new pointer** to the content of the original variable.\n",
    "* The example below can also be visualized on [the interactive code visualizer](https://pythontutor.com/render.html#code=l1%20%3D%20%5B1,%202,%203%5D%0Al2%20%3D%20l1%0Al2%5B0%5D%20%3D%20-1%0A%0Aprint%28%22l2%20is%3A%22,%20l2%29%0Aprint%28%22l1%20is%3A%22,%20l1%29%0A%0Adel%20l1%0Adel%20l2%0A%0Al1%20%3D%20%5B1,%202,%203%5D%0Al2%20%3D%20l1.copy%28%29%0Al2%5B0%5D%20%3D%20-1%0A%0Aprint%28%22l2%20is%3A%22,%20l2%29%0Aprint%28%22l1%20is%3A%22,%20l1%29&cumulative=false&curInstr=0&heapPrimitives=nevernest&mode=display&origin=opt-frontend.js&py=3&rawInputLstJSON=%5B%5D&textReferences=false)"
   ]
  },
  {
   "cell_type": "code",
   "execution_count": null,
   "metadata": {},
   "outputs": [],
   "source": [
    "l1 = [1, 2, 3]\n",
    "l2 = l1\n",
    "print(\"The content of list 1:\", l1)\n",
    "print(\"The content of list 2:\", l2)\n",
    "\n",
    "# By modifying the underlying list to which both l1 and l2 are pointing, both l1 and l2\n",
    "# return the modified value.\n",
    "l2[0] = -1\n",
    "print(\"The content of list 1:\", l1)\n",
    "print(\"The content of list 2:\", l2)\n",
    "\n",
    "print(\"\\nAre both list pointing to the same memory location?\", l1 is l2)\n",
    "print(\"Memory locations of the 2 lists:\", id(l1), id(l2), sep=\"\\n\")"
   ]
  },
  {
   "cell_type": "markdown",
   "metadata": {},
   "source": [
    "To make a copy of the actual list content, we must use the **`copy()`** method of list."
   ]
  },
  {
   "cell_type": "code",
   "execution_count": null,
   "metadata": {},
   "outputs": [],
   "source": [
    "l1 = [1, 2, 3]\n",
    "l2 = l1.copy()\n",
    "print(l1)\n",
    "print(l2)\n",
    "\n",
    "# Now l1 and l2 are pointing to different memory locations.\n",
    "l2[0] = -1\n",
    "print(l1)\n",
    "print(l2)\n",
    "\n",
    "print(\"\\nAre both list pointing to the same memory location?\", l1 is l2)\n",
    "print(\"Memory locations of the 2 lists:\", id(l1), id(l2), sep=\"\\n\")"
   ]
  },
  {
   "cell_type": "markdown",
   "metadata": {},
   "source": [
    "<br>\n",
    "\n",
    "### Benchmarking: looping speed of tuples vs lists\n",
    "* As can be tested below, there is no speed difference between `lists` and `tuples`.\n",
    "* Generators are faster (probably because they skip the step where elements of the sequence must\n",
    "  be stored in memory)."
   ]
  },
  {
   "cell_type": "code",
   "execution_count": null,
   "metadata": {},
   "outputs": [],
   "source": [
    "# Functions that do nothing but loop through a list, tuple or generator.\n",
    "\n",
    "loop_replicates = 1000000\n",
    "\n",
    "def loop_range():\n",
    "    for x in range(loop_replicates):\n",
    "        pass\n",
    "\n",
    "def loop_tuple():\n",
    "    for x in tuple(range(loop_replicates)):\n",
    "        pass\n",
    "\n",
    "def loop_list():\n",
    "    for x in list(range(loop_replicates)):\n",
    "        pass\n",
    "\n",
    "# Compare the speed between tuples, lists and generators.\n",
    "%timeit loop_tuple()\n",
    "%timeit loop_list()\n",
    "%timeit loop_range()"
   ]
  }
 ],
 "metadata": {
  "kernelspec": {
   "display_name": "Python 3 (ipykernel)",
   "language": "python",
   "name": "python3"
  },
  "language_info": {
   "codemirror_mode": {
    "name": "ipython",
    "version": 3
   },
   "file_extension": ".py",
   "mimetype": "text/x-python",
   "name": "python",
   "nbconvert_exporter": "python",
   "pygments_lexer": "ipython3",
   "version": "3.13.0"
  }
 },
 "nbformat": 4,
 "nbformat_minor": 4
}
