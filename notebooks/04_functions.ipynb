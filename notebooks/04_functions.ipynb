{
 "cells": [
  {
   "cell_type": "markdown",
   "metadata": {},
   "source": [
    "# Module 4 - functions\n",
    "--------------------------------------------\n",
    "\n",
    "<div class=\"alert alert-block alert-info\">\n",
    "<b>Note:</b> this notebook contains <b>Additional Material</b> sections (in blue boxes, like this one) that will be skipped during the class due to time constraints. If you are going through this notebook on your own, feel free to\n",
    "read these sections or skip them depending on your interest.\n",
    "</div>"
   ]
  },
  {
   "cell_type": "markdown",
   "metadata": {},
   "source": [
    "### Table of Content <a id='toc'></a>\n",
    "\n",
    "\n",
    "[**Writing your own functions**](#80)  \n",
    "&nbsp;&nbsp;&nbsp;&nbsp;[Function arguments](#81)  \n",
    "&nbsp;&nbsp;&nbsp;&nbsp;[Micro exercise 1](#82)  \n",
    "&nbsp;&nbsp;&nbsp;&nbsp;[Function return values](#83)  \n",
    "&nbsp;&nbsp;&nbsp;&nbsp;[Docstring - a function's documentation](#84)  \n",
    "&nbsp;&nbsp;&nbsp;&nbsp;[Beware of namespaces](#85)  \n",
    "&nbsp;&nbsp;&nbsp;&nbsp;[Functions - Summary](#86)  \n",
    "&nbsp;&nbsp;&nbsp;&nbsp;[Micro exercise 2](#87)  \n",
    "\n",
    "[**Exercise 4.1**](#90)"
   ]
  },
  {
   "cell_type": "markdown",
   "metadata": {},
   "source": [
    "<br>\n",
    "<br>\n",
    "\n",
    "[Back to ToC](#toc)\n",
    "\n",
    "## Writing your own functions <a id='80'></a>\n",
    "-------------------------------------\n",
    "\n",
    "In the first lesson we have already used a few of python's built-in functions: `help()`,`print()`,`len()`, ... , as well as some objects methods, which are functions as well.\n",
    "\n",
    "While it is recommended to use python's built-in functions when available (they will almost always be much faster than your own code), they obviously do not cover all the possible functionalities we might need. This is why it is really useful to be able to write our own functions!\n",
    "\n",
    "> Why and when to write functions:\n",
    "> * To **avoid code duplications:** having the same (or similar) lines of code repeating multiple times in your code is an indication\n",
    ">   this logic should be encapsulated in a function (DRY principle - Do not Repeat Yourself).\n",
    "> * To **organize code**: even if a function is used only once, organizing code in functions can help to structure your code, making\n",
    ">   it easier to read and manage.\n",
    "\n",
    "<br>\n",
    "\n",
    "In python, **functions are declared using the `def` keyword**, followed by the name of the function, brackets `()` where arguments can be specified, and finally a column `:` character.\n",
    "\n",
    "```python\n",
    "def function_name(argument_1, argument_2):\n",
    "    \"\"\"Documentation for the function - This is optional.\"\"\"\n",
    "    # Function code starts here...\n",
    "    # Each line must be indented (ideally with 4 spaces).\n",
    "    \n",
    "```\n",
    "\n",
    "<br>\n",
    "\n",
    "**Example:** Basic function that takes no arguments and simply prints something to the screen. "
   ]
  },
  {
   "cell_type": "code",
   "execution_count": null,
   "metadata": {},
   "outputs": [],
   "source": [
    "def greetings():\n",
    "    print(\"greetings, stranger!\")\n",
    "\n",
    "# Let's try to call our new function.\n",
    "greetings()\n",
    "greetings()\n",
    "greetings()"
   ]
  },
  {
   "cell_type": "markdown",
   "metadata": {},
   "source": [
    "<br>\n",
    "\n",
    "### Function arguments <a id='81'></a>\n",
    "\n",
    "Our above `greetings()` function has no arguments - no variable is defined between the `()` in its declaration. While not  a problem *per se*, it limits the usefulness and flexibility of the function, since it will always do the exact same thing each time we call it.\n",
    "\n",
    "Here is a variation of this function, with a `name` **argument** added.\n",
    "* An **argument** is a value that is passed to a function, can be used in the function as a variable that can make its behavior change.\n",
    "* If there is more than 1 argument, **arguments are separated by commas `,`**."
   ]
  },
  {
   "cell_type": "code",
   "execution_count": null,
   "metadata": {
    "scrolled": true
   },
   "outputs": [],
   "source": [
    "def greetings_personalised(name):\n",
    "    print(\"greetings,\", name)\n",
    "\n",
    "# Let's try to call our new function with different argument values.\n",
    "greetings_personalised(\"Bob\")\n",
    "greetings_personalised(\"Alice\")"
   ]
  },
  {
   "cell_type": "markdown",
   "metadata": {},
   "source": [
    "<br>\n",
    "\n",
    "Functions arguments can be either **positional** or **optional**:\n",
    "* **Positional arguments** are compulsory: the function cannot be called without them.\n",
    "* **Optional arguments** are - you guessed it - optional. They **have a default value** that is used\n",
    "  when the function is called without a value passed to the argument.\n",
    "\n",
    "When defining a function: \n",
    "* Optional arguments are created by assigning them a default value using the `=` operator.\n",
    "* Optional arguments must always be given **after positional arguments**.\n"
   ]
  },
  {
   "cell_type": "code",
   "execution_count": null,
   "metadata": {},
   "outputs": [],
   "source": [
    "def greetings_personalised(name, day_of_week = \"Sunday\"):\n",
    "    print(\"greetings, \" + name + \". Have a good \" + day_of_week)\n",
    "\n",
    "# Let's try to call our new function with different argument values.\n",
    "greetings_personalised(\"Alice\")\n",
    "greetings_personalised(\"Bob\", \"Monday\")\n",
    "greetings_personalised(\"Bob\", day_of_week=\"Tuesday\")"
   ]
  },
  {
   "cell_type": "markdown",
   "metadata": {},
   "source": [
    "<br>\n",
    "\n",
    "When calling a function:\n",
    "* Arguments are **separated by commas**: `test_function(arg_1, arg_2, arg_3)`.\n",
    "* **Positional arguments** must be passed **in the correct order** and **before** optional arguments.\n",
    "* When all arguments are passed by name, optional arguments can be passed before positional ones\n",
    "  (i.e. the order of arguments doesn't matter).\n",
    "\n",
    "**Examples:**\n",
    "\n",
    "* **OK** - order does not matter if all arguments are passed by name."
   ]
  },
  {
   "cell_type": "code",
   "execution_count": null,
   "metadata": {},
   "outputs": [],
   "source": [
    "greetings_personalised(name=\"Bob\", day_of_week=\"Wednesday\")\n",
    "greetings_personalised(day_of_week=\"Thursday\", name=\"Bob\")"
   ]
  },
  {
   "cell_type": "markdown",
   "metadata": {},
   "source": [
    "<br>\n",
    "\n",
    "* **Not OK** - this call to the function is valid, but **does not produce the output we want**."
   ]
  },
  {
   "cell_type": "code",
   "execution_count": null,
   "metadata": {},
   "outputs": [],
   "source": [
    "greetings_personalised(\"Friday\", \"Bob\")"
   ]
  },
  {
   "cell_type": "markdown",
   "metadata": {},
   "source": [
    "<br>\n",
    "\n",
    "* **Not OK** - passing named arguments before positional arguments **raises a `SyntaxError` error**."
   ]
  },
  {
   "cell_type": "code",
   "execution_count": null,
   "metadata": {},
   "outputs": [],
   "source": [
    "greetings_personalised(day_of_week=\"Friday\", \"Bob\")"
   ]
  },
  {
   "cell_type": "markdown",
   "metadata": {},
   "source": [
    "\n",
    "<br>\n",
    "\n",
    "<div class=\"alert alert-block alert-success\">\n",
    "    \n",
    "### Micro exercise 1: <a id='82'></a>\n",
    "* Write a function named `print_to_screen` that takes a string as argument, and prints it to the terminal.\n",
    "  Then run it with a string of your choice.\n",
    "* Add an optional argument named `reverse`, that, when set to `True`, will print the input in reverse\n",
    "  order, i.e. from last to first character. The default value for the argument should be `False`.\n",
    "  Try running it on the string `\"!nuf si nohtyp\"`.\n",
    "\n",
    "<div>"
   ]
  },
  {
   "cell_type": "code",
   "execution_count": null,
   "metadata": {},
   "outputs": [],
   "source": []
  },
  {
   "cell_type": "markdown",
   "metadata": {},
   "source": [
    "<br>\n",
    "<br>\n",
    "\n",
    "[Back to ToC](#toc)\n",
    "\n",
    "### Function return values <a id='83'></a>\n",
    "We might not have realized it from our examples so far, but all functions in python have a **return value**.\n",
    "\n",
    "A return value is what the code calling the function receives from it. It is specified in the function using the **`return` keyword**:\n",
    "* The **`return`** statement is what allows the code to get something from a function.\n",
    "* If no explicit return is made by the function, it returns **`None` by default**.\n",
    "* **Whenever a `return` statement is reached** during code execution, **the function exits**.\n",
    "* A function can have **multiple return statements**.\n",
    "* When writing a function with multiple return statements, it is best practice to **always return the \n",
    "  same type** of objects (e.g. always strings, always integers).\n",
    "  \n",
    "<br>\n",
    "  \n",
    "**Example:** function that **returns `None`**"
   ]
  },
  {
   "cell_type": "code",
   "execution_count": null,
   "metadata": {},
   "outputs": [],
   "source": [
    "def greetings_personalised(name):\n",
    "    print(\"greetings,\", name)\n",
    "    # return None                 # This is implicit: when no return statement is given, a function returns None.\n",
    "\n",
    "return_value = greetings_personalised(\"Alice\")\n",
    "print(\"The return value of our function is:\", return_value)"
   ]
  },
  {
   "cell_type": "markdown",
   "metadata": {},
   "source": [
    "<br>\n",
    "\n",
    "**Example:** function that takes 2 arguments and returns their product:"
   ]
  },
  {
   "cell_type": "code",
   "execution_count": null,
   "metadata": {},
   "outputs": [],
   "source": [
    "def multiply(arg1, arg2):\n",
    "    result = arg1 * arg2\n",
    "    return result\n",
    "    \n",
    "value_1 = 2\n",
    "value_2 = 3\n",
    "value_3 = 10\n",
    "result_1 = multiply(value_1, value_2)\n",
    "result_2 = multiply(value_1 + value_2, value_3)\n",
    "\n",
    "print(\"The result of\", value_1, \"*\", value_2, \"is\", result_1)\n",
    "print(\"The result of\", value_1 + value_2, \"*\", value_3, \"is\", result_2)"
   ]
  },
  {
   "cell_type": "markdown",
   "metadata": {},
   "source": [
    "<br>\n",
    "\n",
    "**Returning multiple values:**\n",
    "* Python automatically returns a **tuple of values** when multiple values are given to `return`.\n",
    "* Alternatively, one can also return a container/sequence type of objects, e.g. `tuple`, `list`, `dict`, ...\n",
    "\n",
    "\n",
    "**Example:** function that takes no argument, and returns 2 values as a tuple.  \n",
    "Here `return user_name, password` is returned as a tuple of 2 values `(user_name, password)`."
   ]
  },
  {
   "cell_type": "code",
   "execution_count": null,
   "metadata": {},
   "outputs": [],
   "source": [
    "# Note: this is for demonstration purpose only. Please do not use this function\n",
    "# to ask for a password in a production service.\n",
    "\n",
    "def get_username_and_password():\n",
    "    user_name = input(\"Please enter your name: \")\n",
    "    password = input(\"Please enter your password: \")\n",
    "    return user_name, password\n",
    "\n",
    "return_value = get_username_and_password()\n",
    "print(\"The return value is:\", return_value)\n",
    "\n",
    "name = return_value[0]\n",
    "pwd = return_value[1]\n",
    "print(name + \"'s password is '\" + pwd + \"' (but don't tell anyone!)\")\n",
    "\n"
   ]
  },
  {
   "cell_type": "markdown",
   "metadata": {},
   "source": [
    "<br>\n",
    "\n",
    "**Tip:** if a function returns multiple values, we can use **value unpacking** to assign them to multiple variables in a single statement."
   ]
  },
  {
   "cell_type": "code",
   "execution_count": null,
   "metadata": {},
   "outputs": [],
   "source": [
    "name, pwd = get_username_and_password()\n",
    "print(name + \"'s password is '\" + pwd + \"' (but don't tell anyone!)\")"
   ]
  },
  {
   "cell_type": "markdown",
   "metadata": {},
   "source": [
    "<br>\n",
    "\n",
    "### Docstring - a function's documentation <a id='84'></a>\n",
    "The **docstring** (documentation string) is a triple-quoted string that can be written on one or more lines at the very start of a function. Its sole purpose is to document the function, it does not have any effect when the function is run:\n",
    "* The docstring content is documentation for people using your function (and maybe yourself in the future).\n",
    "* It is displayed when `help()` is run on a function."
   ]
  },
  {
   "cell_type": "code",
   "execution_count": null,
   "metadata": {},
   "outputs": [],
   "source": [
    "def multiply(arg1, arg2):\n",
    "    \"\"\"Function that returns the product of arg1 and arg2\n",
    "    Works both with integers and float values.\n",
    "    \"\"\"\n",
    "    result = arg1 * arg2\n",
    "    return result\n",
    "\n",
    "help(multiply)"
   ]
  },
  {
   "cell_type": "markdown",
   "metadata": {},
   "source": [
    "<br>\n",
    "\n",
    "[Back to ToC](#toc)\n",
    "\n",
    "### Beware of namespaces <a id='85'></a>\n",
    "\n",
    "A **namespace** is a mapping (link) from names (variable names) to objects (the content of the variable).\n",
    "\n",
    "Multiple namespaces exist in a python session:\n",
    "* **Built-in namespace**: contains all of Python’s built-in objects (variables and functions). These are the objects that are available\n",
    "  by default in every python session (e.g. the `len()` function and the `int()` class).\n",
    "* **Global namespace**: contains objects defined in the \"main section\" of your code (i.e. not within a\n",
    "  function).\n",
    "* **Local namespace**: contains objects defined inside a function.\n",
    "\n",
    "<br>\n",
    "\n",
    "Thus, while a function has access to the **built-in** and **global** namespaces, it also defines its own **local namespace** where all the variables defined inside the function live.\n",
    "\n",
    "<div class=\"alert alert-block alert-info\">\n",
    "\n",
    "**[Additional Material]** The content of the different namespaces can be listed using the following functions:\n",
    "* `dir(__builtins__)` [Built-in namespace]\n",
    "* `globals()` [Global namespace]\n",
    "* `locals()` [local namespace].\n",
    "\n",
    "</div>"
   ]
  },
  {
   "cell_type": "markdown",
   "metadata": {},
   "source": [
    "<br>\n",
    "\n",
    "**Example:**"
   ]
  },
  {
   "cell_type": "code",
   "execution_count": null,
   "metadata": {},
   "outputs": [],
   "source": [
    "# Create variables \"x\" and \"Y\" in the global namespace (outside of the function).\n",
    "x = 5\n",
    "y = 23\n",
    "\n",
    "def function():\n",
    "    print(\"Inside of this function, the value of x is:\", x)\n",
    "    y = 7\n",
    "    z = 8\n",
    "    print(\"Inside of this function, the value of y is:\", y)\n",
    "\n",
    "# Calling the function:\n",
    "# The value of \"y\" that is printed is the value as defined inside the function.\n",
    "function()\n",
    "\n",
    "# Let's now see what is the value of \"y\" outside the function...\n",
    "print('The value of y outside the function is:', y)"
   ]
  },
  {
   "cell_type": "code",
   "execution_count": null,
   "metadata": {},
   "outputs": [],
   "source": [
    "# Let's now try to access \"z\" outside of the function...\n",
    "print(\"The value of 'z' outside the function is:\", z)    # -> raises NameError !"
   ]
  },
  {
   "cell_type": "markdown",
   "metadata": {},
   "source": [
    "<br>\n",
    "\n",
    "What happens is that:\n",
    "* The function can access `x`, because it is part of the **global namespace**.  \n",
    "* `z` was only defined inside of the function, and is therefore restricted to the **functions's namespace**. \n",
    "  It cannot be accessed from outside the function.\n",
    "\n",
    "> <span style=\"color:blue\"> Although it is possible, it is generally considered bad practice to \n",
    "    access variables that were created outside a function from inside a function. \n",
    "    Instead, one should use arguments to \"pass\" values to functions.    \n",
    "    The reason for this is that it makes code more error prone and harder to debug or reuse if a\n",
    "    function depends on its context, then I cannot simply copy/paste it to into another code...\n",
    "</span>.\n",
    "\n",
    "\n",
    "\n",
    "<br>\n",
    "\n",
    "If a (variable) name exists in multiple namespaces, the precedence order is **Local > Global > Built-in**. For this reason, you should **never create a variable that has the same name as a built-in variable**, as this will override the built-in variable with the one you created.\n",
    "\n",
    "* **Example** of what **NOT TO DO**: here we define a variable named `list` in our Global namespace, thereby overriding\n",
    "  the `list` name (variable) from the Built-in namespace.\n",
    "  The next time we try to use `list()` to create a list, disaster strikes..."
   ]
  },
  {
   "cell_type": "code",
   "execution_count": null,
   "metadata": {},
   "outputs": [],
   "source": [
    "print(\"In the built-in namespace, 'list' is:\", list)\n",
    "\n",
    "# Create a variable named \"list\" in the Global namespace.\n",
    "# This variable will now override the name \"list\" from the Built-in namespace.\n",
    "list = [\"how should\", \"I\", \"name\", \"my variable?\", \"It's a list, so how about list?\"]\n",
    "print(list)"
   ]
  },
  {
   "cell_type": "code",
   "execution_count": null,
   "metadata": {},
   "outputs": [],
   "source": [
    "# If we now try to use the Built-in \"list\" class we get an error because\n",
    "# the value of \"list\" from the Global namespace is user instead.\n",
    "sequence = list(range(10))"
   ]
  },
  {
   "cell_type": "code",
   "execution_count": null,
   "metadata": {},
   "outputs": [],
   "source": [
    "# To fix the problem, delete the \"list\" variable from the Global namespace so\n",
    "# that the \"list\" from the Built-in namespace becomes available again.\n",
    "del list\n",
    "print(\"'list' is now again:\", list)"
   ]
  },
  {
   "cell_type": "markdown",
   "metadata": {},
   "source": [
    "<br>\n",
    "\n",
    "[Back to ToC](#toc)\n",
    "\n",
    "### Summary: <a id='86'></a>\n",
    "\n",
    "The following are the crucial parts of a function:\n",
    "* Its **name**.\n",
    "* Its **arguments**: what it receives from the caller of the function. Arguments can be \n",
    "  **positional** or **optional**.\n",
    "* Its **return value**: what the caller gets from the function. It is specified in the function using the\n",
    "  `return` keyword. If no `return` is made by the function, it returns `None` by default.\n",
    "* The code inside the function. Must be indented.\n",
    "* While optional, it is good practice to provide a **docstring** to document your functions.\n",
    "\n",
    "```python\n",
    "def my_first_function(argument_1, argument_2 = 10):\n",
    "    \"\"\"Docstring: one or more lines of text that describe the function.\n",
    "    \n",
    "    The docstring content is documentation for people using your function.\n",
    "    It is displayed when running help() on your function.\n",
    "    \"\"\"\n",
    "       \n",
    "    # Do something with the input arguments...\n",
    "    result = argument_1 + argument_2\n",
    "    \n",
    "    # Return a value...\n",
    "    return result\n",
    "```\n",
    "\n",
    "<br>\n",
    "\n",
    "> **Note:** the function's name and argument list is often referred-to as the **signature** of the function.  \n",
    "> In our example above, the signature would be: `my_first_function(argument_1, argument_2 = 10)`"
   ]
  },
  {
   "cell_type": "markdown",
   "metadata": {},
   "source": [
    "\n",
    "<br>\n",
    "\n",
    "<div class=\"alert alert-block alert-success\">\n",
    "\n",
    "### Micro exercise 2<a id='87'></a>\n",
    "* Write a function that takes a number and returns its square (for example, if you give it 12 it should return 144).\n",
    "    \n",
    "<div>"
   ]
  },
  {
   "cell_type": "code",
   "execution_count": null,
   "metadata": {},
   "outputs": [],
   "source": []
  },
  {
   "cell_type": "markdown",
   "metadata": {},
   "source": [
    "<br>\n",
    "<br>\n",
    "\n",
    "[Back to ToC](#toc)\n",
    "\n",
    "## Exercise 4.1 <a id='90'></a>\n",
    "\n",
    "<br>\n",
    "\n",
    "If you have time, feel tree to do the **additional exercises**."
   ]
  }
 ],
 "metadata": {
  "kernelspec": {
   "display_name": "Python 3 (ipykernel)",
   "language": "python",
   "name": "python3"
  },
  "language_info": {
   "codemirror_mode": {
    "name": "ipython",
    "version": 3
   },
   "file_extension": ".py",
   "mimetype": "text/x-python",
   "name": "python",
   "nbconvert_exporter": "python",
   "pygments_lexer": "ipython3",
   "version": "3.11.6"
  }
 },
 "nbformat": 4,
 "nbformat_minor": 4
}
