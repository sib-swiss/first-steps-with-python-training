{
 "cells": [
  {
   "cell_type": "markdown",
   "metadata": {},
   "source": [
    "\n",
    "# Module 7 - pandas: data manipulation and analysis with dataframes\n",
    "-----------------------------------------------------------------------------------------------------\n",
    "\n",
    "<div class=\"alert alert-block alert-info\">\n",
    "\n",
    "<b>Note:</b> this notebook contains <b>Additional Material</b> sections (in blue boxes, like this one) that will be skipped during the class due to time constraints. If you are going through this notebook on your own, feel free to\n",
    "read these sections or skip them depending on your interest.\n",
    "\n",
    "</div>"
   ]
  },
  {
   "cell_type": "markdown",
   "metadata": {},
   "source": [
    "### Table of Content <a id='toc'></a>\n",
    "\n",
    "[**Introduction**](#0)\n",
    "\n",
    "[**Pandas data structures: DataFrame and Series**](#1)  \n",
    "\n",
    "[**Reading tabular data from files**](#2)  \n",
    "&nbsp;&nbsp;&nbsp;&nbsp;[[Additional Material] Reading input data with no header](#2.1)  \n",
    "&nbsp;&nbsp;&nbsp;&nbsp;[Dropping rows with missing values (`NaN`)](#2.2)  \n",
    "\n",
    "[**Writing files to disk**](#3)  \n",
    "&nbsp;&nbsp;&nbsp;&nbsp;[Micro Exercise 1 - Read and write data frames](#3.1)  \n",
    "\n",
    "[**Accessing, editing and adding columns and rows**](#4)  \n",
    "&nbsp;&nbsp;&nbsp;&nbsp;[Accessing, editing and adding columns](#4.1)  \n",
    "&nbsp;&nbsp;&nbsp;&nbsp;[Operations on columns](#4.2)  \n",
    "&nbsp;&nbsp;&nbsp;&nbsp;[Accessing, editing and adding rows](#4.3)  \n",
    "&nbsp;&nbsp;&nbsp;&nbsp;[[Additional Material] Adding a Series as a row to a DataFrame with `pd.concat()`](#4.4)  \n",
    "\n",
    "[**Deleting columns and rows**](#5)  \n",
    "&nbsp;&nbsp;&nbsp;&nbsp;[Micro Exercise 2 - Editing a DataFrame](#5.1)\n",
    "\n",
    "[**DataFrame subsetting: the `loc[]` and `iloc[]` indexers**](#6)  \n",
    "&nbsp;&nbsp;&nbsp;&nbsp;[Conditional row selection](#6.1)  \n",
    "&nbsp;&nbsp;&nbsp;&nbsp;[[Additional Material] Mixed selection](#6.2)  \n",
    "&nbsp;&nbsp;&nbsp;&nbsp;[Micro Exercise 3 - DataFrame selection](#6.3)  \n",
    "\n",
    "[**[Additional Material] Creating copies of a DataFrame**](#7)  \n",
    "\n",
    "[**Summary statistics on DataFrame or Series**](#8)  \n",
    "&nbsp;&nbsp;&nbsp;&nbsp;[Micro Exercise 4 - Summary statistics](#8.1)  \n",
    "&nbsp;&nbsp;&nbsp;&nbsp;[[Additional Material] Applying custom functions by rows or columns](#8.2)  \n",
    "&nbsp;&nbsp;&nbsp;&nbsp;[[Additional Material] Micro Exercise 6 - applying custom functions](#8.3)  \n",
    "\n",
    "[**Grouping data by factor**](#9)  \n",
    "&nbsp;&nbsp;&nbsp;&nbsp;[Micro Exercise 5 - Grouping data](#9.1)  \n",
    "\n",
    "[**Exercises 7.1 - 7.3**](#10)\n",
    "\n",
    "[**Additional Material**](#11)  \n",
    "&nbsp;&nbsp;&nbsp;&nbsp;[Selecting/Filtering dataframes](#11.1)  \n",
    "&nbsp;&nbsp;&nbsp;&nbsp;[Sorting operations on dataframes](#11.2)  \n",
    "&nbsp;&nbsp;&nbsp;&nbsp;[Extending a dataframe by adding new columns](#11.3)  \n",
    "&nbsp;&nbsp;&nbsp;&nbsp;[Use of numpy functions with pandas dataframes](#11.4)  \n",
    "&nbsp;&nbsp;&nbsp;&nbsp;[Merge and join DataFrames](#11.5)  \n",
    "&nbsp;&nbsp;&nbsp;&nbsp;[Cross-tabulated tables](#11.6)  \n",
    "&nbsp;&nbsp;&nbsp;&nbsp;[Plotting with pandas and matplotlib](#11.7)  \n",
    "&nbsp;&nbsp;&nbsp;&nbsp;[Creating DataFrames and Series from scratch](#11.8)  "
   ]
  },
  {
   "cell_type": "markdown",
   "metadata": {},
   "source": [
    "<br>\n",
    "<br>\n",
    "\n",
    "## Introduction <a id='0'></a>\n",
    "-------------------\n",
    "\n",
    "**[Pandas](https://pandas.pydata.org)** is a library that provides easy-to-use data structures and data analysis tools.\n",
    "\n",
    "The main appeal of pandas is its **DataFrame** structure, which emulates many of the convenient behavior and syntax of its eponym counterpart in the **R** language. In other words, pandas allows you to manipulate data tables in a very similar fashion as you would do in R.\n",
    "\n",
    "By convention, `Pandas` is imported under the alias **`pd`** (because it's shorter):"
   ]
  },
  {
   "cell_type": "code",
   "execution_count": null,
   "metadata": {},
   "outputs": [],
   "source": [
    "import pandas as pd"
   ]
  },
  {
   "cell_type": "markdown",
   "metadata": {},
   "source": [
    "<br>\n",
    "<br>\n",
    "\n",
    "## Pandas data structures: DataFrame and Series <a id='1'></a>\n",
    "--------------------------------------------------------------\n",
    "\n",
    "The two main data structures in pandas are **DataFrame** and **Series**:\n",
    "\n",
    "![image.png](img/pandas_dataframe_and_series.png)\n",
    "\n",
    "* **`DataFrame`**:\n",
    "  * **2-dimensional** data structure/table.\n",
    "  * Row names are called the **index**. By default, the index is made of numerical values starting with 0.\n",
    "  * **Size-mutable**: the number of rows/columns can be modified.\n",
    "  * Supports **heterogeneously-typed** columns (not all values in a column must be of the same type).\n",
    "\n",
    "<br>\n",
    "\n",
    "* **`Series`**:\n",
    "  * **1-dimensional** labelled array, i.e. a data vector with labelled values.\n",
    "  * The labels are called the **index**.\n",
    "  * Series are **generally** used to store **homogeneously-typed data** (i.e. values of the same type), \n",
    "    but having **heterogenous types is possible**.\n",
    "\n",
    "As most python structure, `DataFrame` and `Series` use **zero-based indexing**: the position of the first row/column (or value in a Series) is position `0`.\n",
    "\n",
    "**Each column of a `DataFrame` is a `Series`**, and selecting a single column of a `DataFrame` thus\n",
    "returns a `Series`. Therefore both `DataFrame` and `Series` can be seen as containers: `DataFrame` is a container for `Series`, and `Series` is a container for individual values.\n",
    "\n",
    "<br>\n",
    "\n",
    "How to **create a DataFrame or Series from scratch** is covered in the [additional material section](#11.8), at the end of this notebook."
   ]
  },
  {
   "cell_type": "markdown",
   "metadata": {},
   "source": [
    "<br>\n",
    "<br>\n",
    "\n",
    "[Back to ToC](#toc)\n",
    "\n",
    "## Reading tabular data from files <a id='2'></a>\n",
    "------------------------------------------\n",
    "\n",
    "Very frequently our **data is already in a tabular format** in a file, and simply needs to be imported.\n",
    "\n",
    "Pandas has a number of functions that will do just that: read a tabular data file from disk and import it as a DataFrame.  \n",
    "Here are some of the most useful ones:\n",
    "\n",
    "* **`pd.read_table()`**: import data from a tab-delimited file (default), or any sort of separator-delimited data format.\n",
    "* **`pd.read_csv()`**: import data from a comma-separated file.\n",
    "* **`pd.read_excel()`**: import data from Excel files.\n",
    "* ... see [here for an exhaustive list of pandas reader and writer functions](https://pandas.pydata.org/pandas-docs/stable/user_guide/io.html).\n",
    "\n",
    "To illustrate the `read_table()` function, let's try to load the `data/titanic.csv` file. As its name suggest, this table contains data about the ill-fated [Titanic](https://en.wikipedia.org/wiki/Titanic) passengers, traveling from England to New York in April 1912.\n",
    "\n",
    "**Tip:** when working with large datasets, it is convenient to be able to look at a fraction of the data only. For this, the methods [**`head()`**](https://pandas.pydata.org/pandas-docs/stable/generated/pandas.DataFrame.head.html) and [**`tail()`**](https://pandas.pydata.org/pandas-docs/stable/generated/pandas.DataFrame.head.html) are very helpful. Without any argument `head()`/`tail()` display the first/last 5 lines of a DataFrame. A custom number of lines can be displayed by passing a number: e.g. `head(10)` will display the first 10 lines.\n",
    "\n",
    "<br>\n",
    "\n",
    "**Example:** Load the content of the `titanic.csv` file as a DataFrame."
   ]
  },
  {
   "cell_type": "code",
   "execution_count": null,
   "metadata": {},
   "outputs": [],
   "source": [
    "df = pd.read_table(\"data/titanic.csv\")\n",
    "df.head()"
   ]
  },
  {
   "cell_type": "markdown",
   "metadata": {},
   "source": [
    "Take a look above at how the data have been read. By default, `read_table()` expects the input data to be **tab-delimited**, but since this is not the case of the `titanic.csv` file, each line was treated as a single field (column), thus creating a DataFrame with a single column.\n",
    "\n",
    "As implied by its `.csv` extension (for \"comma-separated values\"), the `titanic.csv` file contains **comma-delimited** values. To load a CSV file, we can either:\n",
    "\n",
    "* Specify the separator value in **`read_table(sep=\",\")`**.\n",
    "* Use **`read_csv()`**, a function that will use comma as separator by default.\n",
    "\n",
    "Let's try to load our data properly:"
   ]
  },
  {
   "cell_type": "code",
   "execution_count": null,
   "metadata": {},
   "outputs": [],
   "source": [
    "df = pd.read_table(\"data/titanic.csv\", sep=\",\")\n",
    "df = pd.read_csv(\"data/titanic.csv\")\n",
    "df.head()"
   ]
  },
  {
   "cell_type": "code",
   "execution_count": null,
   "metadata": {},
   "outputs": [],
   "source": [
    "df.tail()"
   ]
  },
  {
   "cell_type": "markdown",
   "metadata": {},
   "source": [
    "<br>\n",
    "\n",
    "To make sure the data was correctly imported, let's check the **dimensions** and **column/row names** of the dataframe:\n",
    "\n",
    "* `df.columns`: **column names** (returned as `Index` object).\n",
    "* `df.index`: **row names** (returned as `Index` or `RangeIndex` object).\n",
    "* `df.shape`: returns a tuple with the **numbers of rows and columns**: `(row_count, col_count)`.\n",
    "\n",
    "\n",
    "> **Note:** the `df.columns` and `df.index` attributes can also be used to **set new values** for\n",
    "> column names and index labels.\n",
    ">\n",
    ">  ```python\n",
    ">  df.columns = (\"NAME\", \"GENDER\", \"AGE\", \"SURVIVED\")   # Change column names to upper case.\n",
    ">  df.index = (\"one\", \"two\", \"three\", \"four\", \"five\")   # Change index values.\n",
    ">  ```"
   ]
  },
  {
   "cell_type": "code",
   "execution_count": null,
   "metadata": {},
   "outputs": [],
   "source": [
    "print(\"The data frame has\", df.shape[0], \"rows and\", df.shape[1], \"columns\")"
   ]
  },
  {
   "cell_type": "code",
   "execution_count": null,
   "metadata": {},
   "outputs": [],
   "source": [
    "df.columns"
   ]
  },
  {
   "cell_type": "code",
   "execution_count": null,
   "metadata": {},
   "outputs": [],
   "source": [
    "df.index"
   ]
  },
  {
   "cell_type": "markdown",
   "metadata": {},
   "source": [
    "<br>\n",
    "\n",
    "Note that pandas made an additional interpretation: that the first column (containing the line number) is not a normal column but corresponds to the **index** (i.e. row labels) of the DataFrame. The reason why pandas made this assumption is because the first line of the file contains 8 entries, while all the other lines contain 9 entries. Therefore pandas automatically inferred that the first column should be the index."
   ]
  },
  {
   "cell_type": "code",
   "execution_count": null,
   "metadata": {},
   "outputs": [],
   "source": [
    "# Display the index values of the DataFrame. In this case, pandas used values\n",
    "# from the first column (with no header) as index.\n",
    "df.index"
   ]
  },
  {
   "cell_type": "markdown",
   "metadata": {},
   "source": [
    "<br>\n",
    "\n",
    "[Back to ToC](#toc)\n",
    "\n",
    "<div class=\"alert alert-block alert-info\">\n",
    "\n",
    "### [Additional Material] Reading input data with no header <a id='2.1'></a>\n",
    "\n",
    "To better understand how pandas reads-in data, let's try to import the Titanic data set stripped from its header.\n",
    "    \n",
    "</div>"
   ]
  },
  {
   "cell_type": "code",
   "execution_count": null,
   "metadata": {
    "scrolled": true
   },
   "outputs": [],
   "source": [
    "df = pd.read_csv(\"data/titanic_no_header.csv\")\n",
    "df.head()"
   ]
  },
  {
   "cell_type": "markdown",
   "metadata": {},
   "source": [
    "<div class=\"alert alert-block alert-info\">\n",
    "    \n",
    "From the DataFrame above, we can see that:\n",
    "* Pandas now identifies 9 columns - one more than before - because the first column is no longer used as index.\n",
    "* The **values from the first line of the file are used as column names** - this is a wrong assumption \n",
    "  made by pandas in this case.\n",
    "* Since pandas could not find any index in the input file (i.e no field with no column name), it created a\n",
    "  **default index that corresponds to row positions**, i.e. integer numbers starting from 0.\n",
    "\n",
    "<br>\n",
    "\n",
    "To prevent pandas from wrongly using the values from the first line of the file as column name, we must explicitly tell it that the data contains no header by passing the `header=None` argument:\n",
    "\n",
    "</div>"
   ]
  },
  {
   "cell_type": "code",
   "execution_count": null,
   "metadata": {},
   "outputs": [],
   "source": [
    "df = pd.read_csv(\"data/titanic_no_header.csv\", header=None)\n",
    "df.head()"
   ]
  },
  {
   "cell_type": "markdown",
   "metadata": {},
   "source": [
    "<div class=\"alert alert-block alert-info\">\n",
    "\n",
    "This looks much better as there is no misinterpretation of the actual data.\n",
    "We can also see that, when there are no column names in a file, pandas default to using numbers (starting from 0) as column names.\n",
    "    \n",
    "</div>"
   ]
  },
  {
   "cell_type": "markdown",
   "metadata": {},
   "source": [
    "<br>\n",
    "\n",
    "[Back to ToC](#toc)\n",
    "\n",
    "### Dropping rows with missing values (`NaN`) <a id='2.2'></a>\n",
    "\n",
    "Datasets frequently contain rows with missing data, indicated as `NaN` or `NA` (stands for \"not a number\" - but it is used even if the column type is not numeric).\n",
    "\n",
    "In the titanic dataset for instance, `NaN` values are found in the columns `Age` and `Embarked`:"
   ]
  },
  {
   "cell_type": "code",
   "execution_count": null,
   "metadata": {},
   "outputs": [],
   "source": [
    "df.head(100).tail()"
   ]
  },
  {
   "cell_type": "markdown",
   "metadata": {},
   "source": [
    "To remove rows with `NaN` values, the `dropna()` function can be used:\n",
    "* By default, the function returns a **copy of the DataFrame**. Use `dropna(inplace=True)` to modify\n",
    "  the original DataFrame.\n",
    "* By default, the function drops rows containing `NaN` values. Columns can be dropped by passing `axis=1`\n",
    "  to the function."
   ]
  },
  {
   "cell_type": "code",
   "execution_count": null,
   "metadata": {},
   "outputs": [],
   "source": [
    "df.dropna().head(80).tail()\n",
    "print(\"Number of rows in input DataFrame:\", df.shape[0])\n",
    "print(\"Number of rows after removing NaN values:\", df.dropna().shape[0])"
   ]
  },
  {
   "cell_type": "markdown",
   "metadata": {},
   "source": [
    "<br>\n",
    "<br>\n",
    "\n",
    "[Back to ToC](#toc)\n",
    "\n",
    "\n",
    "## Writing files to disk <a id='3'></a>\n",
    "----------------------------\n",
    "\n",
    "Just like when reading files, pandas provides a number of functions, depending on the format of the output file we wish to write:\n",
    "* **`to_csv()`**: write DataFrame as comma-separated file, or any other separator-delimited format such as\n",
    "  tab-delimited. \n",
    "* **`to_excel()`**: write DataFrame in Excel format.\n",
    "* **`to_html()`**: write DataFrame in HTML format.\n",
    "* More [writer functions are available](https://pandas.pydata.org/pandas-docs/stable/user_guide/io.html)\n",
    "\n",
    "<br>\n",
    "\n",
    "When using the `to_csv()` writer functions, some useful arguments are:\n",
    "* **`sep`**: the type of delimiter to use. By default, `sep=\",\"`. To write a tab-delimited file e.g., one would\n",
    "  set `sep=\"\\t\"`.\n",
    "* **`header=None`** to not include the header in the exported file.\n",
    "* **`index=False`** to not include row names in the exported file (the default value is `index=True`).\n",
    "\n",
    "<br>\n",
    "\n",
    "**Examples:** here are some examples of DataFrame exports to file.\n",
    "* Exporting a DataFrame as a **`.csv`** file:"
   ]
  },
  {
   "cell_type": "code",
   "execution_count": null,
   "metadata": {},
   "outputs": [],
   "source": [
    "# Load a DataFrame from disk.\n",
    "df = pd.read_csv(\"data/titanic.csv\")\n",
    "\n",
    "# Create a new DataFrame that contains only the first 20 lines of the original DataFrame.\n",
    "df_subset = df.head(20)\n",
    "\n",
    "# Write the subset DataFrame to disk as a .csv file.\n",
    "df_subset.to_csv(\"titanic_first_20_lines.csv\")"
   ]
  },
  {
   "cell_type": "markdown",
   "metadata": {},
   "source": [
    "* Exporting as **tab-delimited** file."
   ]
  },
  {
   "cell_type": "code",
   "execution_count": null,
   "metadata": {},
   "outputs": [],
   "source": [
    "df_subset.to_csv(\"titanic_first_20_lines.tsv\", sep=\"\\t\")"
   ]
  },
  {
   "cell_type": "markdown",
   "metadata": {},
   "source": [
    "* Exporting as tab-delimited file with **no header** (column names) and **no row names**:"
   ]
  },
  {
   "cell_type": "code",
   "execution_count": null,
   "metadata": {},
   "outputs": [],
   "source": [
    "df_subset.to_csv(\"titanic_first_20_lines_no_header.tsv\", sep=\"\\t\", header=None, index=False)"
   ]
  },
  {
   "cell_type": "markdown",
   "metadata": {},
   "source": [
    "<br>\n",
    "\n",
    "<div class=\"alert alert-block alert-success\">\n",
    "\n",
    "### Micro Exercise 1 - Read and write data frames <a id='3.1'></a>\n",
    "\n",
    "* Read the `titanic.csv` file from disk (it is located in the `data` directory) and save it to a variable named `titanic_df`.\n",
    "* Create a new DataFrame that only contains the first 10 rows of `titanic_df`, name it `titanic_df_head`. **Hint:** remember the `head`/`tail` functions we have seen just earlier.\n",
    "* Write `titanic_df_head` to disk as a tab-delimited file named `titanic_head.txt`. The file should be written to the `notebooks/data/` directory.\n",
    "\n",
    "<div>"
   ]
  },
  {
   "cell_type": "code",
   "execution_count": null,
   "metadata": {},
   "outputs": [],
   "source": []
  },
  {
   "cell_type": "markdown",
   "metadata": {},
   "source": [
    "<br>\n",
    "<br>\n",
    "\n",
    "[Back to ToC](#toc)\n",
    "\n",
    "## Accessing, editing and adding columns and rows <a id='4'></a>\n",
    "-----------------------------------------------------------------\n",
    "\n",
    "### Accessing, editing and adding columns  <a id='4.1'></a>\n",
    "\n",
    "DataFrame columns can be accessed, added and modified using the following syntax (here illustrated with a DataFrame named `df`):\n",
    "* `df[\"column name\"]`: returns the content of the specified column (as a Series).\n",
    "* `df[\"new column name\"] = value`: creates a new column with the specified values. If the column already\n",
    "  exists, its values are updated.\n",
    "    * When a **single value** is passed as `values`, all rows get that same value.\n",
    "    * When passing a **sequence** (list, tuple, generator, etc.) as `value`, the number of values must \n",
    "      match the number of rows in the DataFrame.\n",
    "    * When passing a **Series**, the Series' index must match the DataFrame's index. \n",
    "      Series **do not need** to have the same length as the number of rows in the DataFrame, \n",
    "      as missing values will be attributed a value of `NaN`.\n",
    "* `df.insert(position, \"new column name\", data)`, inserts a new column at a specific location.\n",
    "  \n",
    "*Notes:*\n",
    "* **More than one column** can be selected by passing a **list of column names**: e.g. `df[[\"age\", \"name\"]]`.\n",
    "  The returned value is a DataFrame.\n",
    "* An **alternative syntax to select a column** is **`df.age`** (here to select the \"age\" column).\n",
    "\n",
    "<br>\n",
    "\n",
    "**Example:** retrieve values from the `Age` column."
   ]
  },
  {
   "cell_type": "code",
   "execution_count": null,
   "metadata": {},
   "outputs": [],
   "source": [
    "# Let's create a small test data frame.\n",
    "df = pd.DataFrame(\n",
    "    {\n",
    "        \"Name\": [\"Charles\", \"Florence\", \"Mary\", \"William\", \"Bridget\"],\n",
    "        \"Gender\": (\"male\", \"female\", \"female\", \"male\", \"female\"),\n",
    "        \"Age\": [23, 38, 18, 28, 27],\n",
    "        \"Survived\": 1\n",
    "    }\n",
    ")\n",
    "df"
   ]
  },
  {
   "cell_type": "code",
   "execution_count": null,
   "metadata": {},
   "outputs": [],
   "source": [
    "df[\"Age\"]\n",
    "print(\"The age of Titanic passengers is: \", list(df[\"Age\"]))\n",
    "print(\"The age of Titanic passengers is: \", list(df.Age))"
   ]
  },
  {
   "cell_type": "markdown",
   "metadata": {},
   "source": [
    "<br>\n",
    "\n",
    "**Example:** selecting multiple columns - this returns a new `DataFrame` object."
   ]
  },
  {
   "cell_type": "code",
   "execution_count": null,
   "metadata": {},
   "outputs": [],
   "source": [
    "df[[\"Age\", \"Name\"]]"
   ]
  },
  {
   "cell_type": "markdown",
   "metadata": {},
   "source": [
    "<br>\n",
    "\n",
    "**Examples:** adding and editing columns."
   ]
  },
  {
   "cell_type": "code",
   "execution_count": null,
   "metadata": {
    "scrolled": true
   },
   "outputs": [],
   "source": [
    "# Print the data frame for reference (so we can compare before/after adding columns).\n",
    "df"
   ]
  },
  {
   "cell_type": "markdown",
   "metadata": {},
   "source": [
    "* **Add 2 new columns** at the end of the DataFrame, with passenger class and nationality."
   ]
  },
  {
   "cell_type": "code",
   "execution_count": null,
   "metadata": {
    "scrolled": true
   },
   "outputs": [],
   "source": [
    "df[\"Pclass\"] = [2, 1, 3, 1, 3]   # The length of the sequence must match the number of rows in the table.\n",
    "df[\"Nationality\"] = \"USA\"        # Since a single value is passed, all rows get the same value.\n",
    "df"
   ]
  },
  {
   "cell_type": "markdown",
   "metadata": {},
   "source": [
    "* **Assign new values** to an existing column."
   ]
  },
  {
   "cell_type": "code",
   "execution_count": null,
   "metadata": {},
   "outputs": [],
   "source": [
    "df[\"Nationality\"] = [\"UK\", \"UK\", \"USA\", \"USA\", \"IRL\"]\n",
    "df"
   ]
  },
  {
   "cell_type": "markdown",
   "metadata": {},
   "source": [
    "* **Add a new column in 2nd position** of the data frame."
   ]
  },
  {
   "cell_type": "code",
   "execution_count": null,
   "metadata": {},
   "outputs": [],
   "source": [
    "# Reminder: \"position 1\" corresponds to the 2nd column of the DataFrame.\n",
    "df.insert(1, \"Last_name\", [\"Williams\", \"Briggs\", \"Glynn\", \"Thompson\", \"O'Discoll\"])\n",
    "df"
   ]
  },
  {
   "cell_type": "markdown",
   "metadata": {},
   "source": [
    "<br>\n",
    "\n",
    "[Back to ToC](#toc)\n",
    "\n",
    "### Operations on columns <a id='4.2'></a>\n",
    "\n",
    "Pandas DataFrame allows the use **arithmetic operators on columns**, which are interpreted as applying the operations to each row of the DataFrame:"
   ]
  },
  {
   "cell_type": "code",
   "execution_count": null,
   "metadata": {},
   "outputs": [],
   "source": [
    "# Print the data frame for reference.\n",
    "df"
   ]
  },
  {
   "cell_type": "code",
   "execution_count": null,
   "metadata": {},
   "outputs": [],
   "source": [
    "df[\"Age\"] = df[\"Age\"] + 1\n",
    "df"
   ]
  },
  {
   "cell_type": "code",
   "execution_count": null,
   "metadata": {
    "scrolled": true
   },
   "outputs": [],
   "source": [
    "df[\"Age\"] -= 1                                         # Same as df[\"Age\"] = df[\"Age\"] - 1\n",
    "df[\"Full_name\"] = df[\"Name\"] + \" \" + df[\"Last_name\"]   # String concatenation.\n",
    "df"
   ]
  },
  {
   "cell_type": "markdown",
   "metadata": {},
   "source": [
    "<br>\n",
    "\n",
    "[Back to ToC](#toc)\n",
    "\n",
    "### Accessing, editing and adding rows <a id='4.3'></a>\n",
    "\n",
    "**Adding a new row** to a DataFrame can be done using the **`loc[]` indexer** (there are other possibilities too - see the Additional Theory section below):\n",
    "* `df.loc[<index label>] = values`, where values must be a sequence (e.g. list or tuple) with the\n",
    "  **same number of elements as there are columns** in the DataFrame.\n",
    "* If `<index label>` already exists in the DataFrame, the row is **overwritten**. If it does not exist, a \n",
    "  new row is created at the end of the DataFrame.\n",
    "\n",
    "<br>\n",
    "    \n",
    "**Examples:**"
   ]
  },
  {
   "cell_type": "code",
   "execution_count": null,
   "metadata": {},
   "outputs": [],
   "source": [
    "# Print the DataFrame for reference (so we can compare before/after adding rows).\n",
    "df"
   ]
  },
  {
   "cell_type": "markdown",
   "metadata": {},
   "source": [
    "* **Add rows** using **`df.loc[]`**:"
   ]
  },
  {
   "cell_type": "code",
   "execution_count": null,
   "metadata": {},
   "outputs": [],
   "source": [
    "df.loc[20] = [\"Elmer\", \"Taylor\", \"male\", 48, 1, 1, \"UK\", \"Elmer Taylor\"]\n",
    "df.loc[33] = [\"Ellen\", \"Barber\", \"female\", 26, 1, 1, \"UK\", \"Ellen Barber\"]\n",
    "df.loc[18] = [\"Eva\", \"Barber\", \"female\", 12, 1, 1, \"UK\", \"Eva Barber\"]\n",
    "df.loc[7] = [\"Arthur\", \"Barber\", \"male\", 10, 1, 1, \"UK\", \"Arthur Barber\"]\n",
    "df"
   ]
  },
  {
   "cell_type": "markdown",
   "metadata": {},
   "source": [
    "* **Overwrite/Update** an existing row:"
   ]
  },
  {
   "cell_type": "code",
   "execution_count": null,
   "metadata": {},
   "outputs": [],
   "source": [
    "df.loc[1] = [\"Elmer\", \"Taylor\", \"male\", 48, 1, 1, \"UK\", \"Elmer Taylor\"]\n",
    "df"
   ]
  },
  {
   "cell_type": "code",
   "execution_count": null,
   "metadata": {
    "scrolled": true
   },
   "outputs": [],
   "source": [
    "# Let's change the index values of the row we just added:\n",
    "df.index = range(df.shape[0])\n",
    "df"
   ]
  },
  {
   "cell_type": "markdown",
   "metadata": {},
   "source": [
    "**Note:** the index values themselves are immutable: they cannot be modified individually (the entire index must be replaced by a new index, as shown above)."
   ]
  },
  {
   "cell_type": "code",
   "execution_count": null,
   "metadata": {
    "scrolled": true
   },
   "outputs": [],
   "source": [
    "df.index[5] = 5   # raises a TypeError error -> index is immutable."
   ]
  },
  {
   "cell_type": "markdown",
   "metadata": {},
   "source": [
    "<br>\n",
    "\n",
    "<div class=\"alert alert-block alert-info\">\n",
    "\n",
    "### [Additional Material] Adding a Series as a row to a DataFrame with `pd.concat()` <a id='4.4'></a>\n",
    "\n",
    "`pd.concat()` is a method generally used to concatenate DataFrames (either along rows or columns). It can be used to add a Series as a new row to an existing DataFrame.\n",
    "\n",
    "1. Create a new Series object\n",
    "\n",
    "</div>"
   ]
  },
  {
   "cell_type": "code",
   "execution_count": null,
   "metadata": {},
   "outputs": [],
   "source": [
    "new_passenger = pd.Series([\"Ellen\", \"Barber\", \"female\", 26, 1, 1, \"UK\", \"Ellen Barber\"], index=df.columns)\n",
    "new_passenger"
   ]
  },
  {
   "cell_type": "markdown",
   "metadata": {},
   "source": [
    "<div class=\"alert alert-block alert-info\">\n",
    "    \n",
    "2. Add the Series as a new row to the DataFrame with `pd.concat()`. Note that:\n",
    "   * We are actually converting the Series to DataFrame with `.to_frame()`, and transpose it with `.T`.\n",
    "   * The function does **not modify the existing DataFrame/Series** given in input, but **returns a new one**.\n",
    "   * For the concatenation to work, the **index of the Series must correspond to the column names of the \n",
    "     DataFrame**.\n",
    "\n",
    "</div>"
   ]
  },
  {
   "cell_type": "code",
   "execution_count": null,
   "metadata": {},
   "outputs": [],
   "source": [
    "df = pd.concat((df, new_passenger.to_frame().T), ignore_index=True)\n",
    "df"
   ]
  },
  {
   "cell_type": "markdown",
   "metadata": {},
   "source": [
    "<br>\n",
    "<br>\n",
    "\n",
    "[Back to ToC](#toc)\n",
    "\n",
    "## Deleting columns and rows <a id='5'></a>\n",
    "--------------------------------------\n",
    "\n",
    "To remove a column or a row from a DataFrame, the `.drop()` method can be used (illustrated here with a DataFrame named `df`):\n",
    "* `df.drop(\"column/row name\", axis=1, inplace=False)`:\n",
    "    * To **delete a column: `axis=1`**.\n",
    "    * To **delete a row: `axis=0`**.\n",
    "    * Adding **`inplace=True` modifies** the DataFrame, while **`inplace=False` returns a copy** where\n",
    "      the dropped column is deleted (the default is `False`).\n",
    "    * More than one column/row can be dropped at a time by passing a list `[]` of columns/rows.\n",
    "    * **Important:** rows and columns are deleted based on their names, not their positions.\n",
    "      E.g. `df_copy.drop(7, axis=0)` will try to delete row with index name `7`, and not the 8th row\n",
    "      of the DataFrame.\n",
    "\n",
    "<br>\n",
    "\n",
    "<div class=\"alert alert-block alert-info\">\n",
    "\n",
    "**[Additional Material] Deleting columns using `del` or `pop()`:**\n",
    "\n",
    "* `del df[\"column name\"]`: deletes a column from the DataFrame. Note that the syntax is the same as when \n",
    "  removing a key from a `dict`.\n",
    "* `df.pop(\"col name\")`: deletes column and returns it as a panda Series. Again the syntax is the same\n",
    "  as when using the `pop()` method of a dictionary.\n",
    "\n",
    "</div>"
   ]
  },
  {
   "cell_type": "markdown",
   "metadata": {},
   "source": [
    "<br>\n",
    "\n",
    "**Examples:** column deletion."
   ]
  },
  {
   "cell_type": "code",
   "execution_count": null,
   "metadata": {
    "scrolled": true
   },
   "outputs": [],
   "source": [
    "# Print DataFrame for reference (to compare before and after deleting columns).\n",
    "df"
   ]
  },
  {
   "cell_type": "markdown",
   "metadata": {},
   "source": [
    "* Delete the \"Nationality\" column."
   ]
  },
  {
   "cell_type": "code",
   "execution_count": null,
   "metadata": {},
   "outputs": [],
   "source": [
    "df_copy = df.drop(\"Nationality\", axis=1)\n",
    "df_copy"
   ]
  },
  {
   "cell_type": "markdown",
   "metadata": {},
   "source": [
    "* Delete the \"Age\" and \"Gender\" columns. Using **`inplace=True`** will modify the original DataFrame instead of returning a copy."
   ]
  },
  {
   "cell_type": "code",
   "execution_count": null,
   "metadata": {},
   "outputs": [],
   "source": [
    "df_copy.drop([\"Age\", \"Gender\"], axis=1, inplace=True)\n",
    "df_copy"
   ]
  },
  {
   "cell_type": "markdown",
   "metadata": {},
   "source": [
    "<br>\n",
    "\n",
    "**Examples:** row deletion."
   ]
  },
  {
   "cell_type": "code",
   "execution_count": null,
   "metadata": {},
   "outputs": [],
   "source": [
    "df_copy.drop(7, axis=0, inplace=True)\n",
    "df_copy"
   ]
  },
  {
   "cell_type": "code",
   "execution_count": null,
   "metadata": {
    "scrolled": true
   },
   "outputs": [],
   "source": [
    "# Delete rows with index 5 and 6:\n",
    "df_copy.drop([5, 6], axis=0, inplace=True)\n",
    "df_copy"
   ]
  },
  {
   "cell_type": "code",
   "execution_count": null,
   "metadata": {},
   "outputs": [],
   "source": [
    "df_copy.drop(5, axis=0, inplace=True)  # -> KeyError !"
   ]
  },
  {
   "cell_type": "markdown",
   "metadata": {},
   "source": [
    "<br>\n",
    "<div class=\"alert alert-block alert-success\">\n",
    "\n",
    "### Micro Exercise 2 - Editing a DataFrame <a id='5.1'></a>\n",
    "\n",
    "Perform the following tasks on the `df_size` data frame that you created in Micro Exercise 1:\n",
    "* Add an entry to the DataFrame for \"Tim\", who measures 191 cm and weights 95 Kg.\n",
    "* Add a \"BMI\" (Body Mass Index) column. BMI is computed as \"weight [Kg] / height [m] ^ 2\".\n",
    "\n",
    "If you have not completed the Micro Exercise 1, you can copy-paste the following code to generate the `df_size` DataFrame.\n",
    "```python\n",
    "size_data = {\n",
    "    \"Name\": [\"Alice\", \"Bob\", \"Jim\", \"Zoe\"],\n",
    "    \"Height\": [163, 180, 172, 173],\n",
    "    \"Weight\": [58, 97, 63, 60],\n",
    "}\n",
    "df_size = pd.DataFrame(size_data)\n",
    "```\n",
    "\n",
    "<div>"
   ]
  },
  {
   "cell_type": "code",
   "execution_count": null,
   "metadata": {},
   "outputs": [],
   "source": [
    "# Add a new row for Tim ...\n"
   ]
  },
  {
   "cell_type": "code",
   "execution_count": null,
   "metadata": {},
   "outputs": [],
   "source": [
    "# Add a new BMI column ...\n"
   ]
  },
  {
   "cell_type": "markdown",
   "metadata": {},
   "source": [
    "<br>\n",
    "<br>\n",
    "\n",
    "[Back to ToC](#toc)\n",
    "\n",
    "## DataFrame subsetting: the `loc[]` and `iloc[]` indexers <a id='6'></a>\n",
    "----------------------------------------------------------------------\n",
    "\n",
    "A very common operation to perform on DataFrames is to create a subset by selecting certain rows and/or columns.  \n",
    "There are 2 methods in pandas to perform a selection on a DataFrame (here `df`):\n",
    "* **Position based:** using `df.iloc[<row selection>, <column selection>]`\n",
    "* **Index/label based:**  using `df.loc[<row selection>, <column selection>]`\n",
    "\n",
    "![image.png](img/pandas_position_vs_index_selection.png)"
   ]
  },
  {
   "cell_type": "markdown",
   "metadata": {},
   "source": [
    "To select all rows/or columns, the symbol **`:`** can be used as row or column selection. It works with both `.loc[]` and `.iloc[]`:\n",
    "\n",
    "* **Select all columns**.\n",
    "    * `df.loc[<row names>,:]`\n",
    "    * `df.iloc[<row numbers>,:]`\n",
    "\n",
    "\n",
    "* **Select all rows**:\n",
    "    * `df.loc[:, <column names>]`\n",
    "    * `df.iloc[:, <column names>]`\n",
    "\n",
    "*Note:* When filtering on rows only (i.e. select all columns), the `df.loc[<row selection>, ]` and `df.iloc[<row selection>, ]` syntaxes are also possible (i.e. the `:` is not compulsory in that case).\n",
    "\n",
    "<br>\n",
    "\n",
    "#### Pitfalls with slicing\n",
    "Remember that, by default, **row index values** are the same as **row position**, and therefore the two slicing selections `loc[0:3, ]` and `iloc[0:3, ]` look similar, yet return different results:"
   ]
  },
  {
   "cell_type": "code",
   "execution_count": null,
   "metadata": {},
   "outputs": [],
   "source": [
    "# Print DataFrame as a visual reminder.\n",
    "df"
   ]
  },
  {
   "cell_type": "code",
   "execution_count": null,
   "metadata": {
    "scrolled": true
   },
   "outputs": [],
   "source": [
    "df.iloc[0:3, : ]    # This selects the first 3 rows."
   ]
  },
  {
   "cell_type": "code",
   "execution_count": null,
   "metadata": {},
   "outputs": [],
   "source": [
    "df.loc[0:3, : ]     # This selects the first 4 rows."
   ]
  },
  {
   "cell_type": "markdown",
   "metadata": {},
   "source": [
    "<br>\n",
    "\n",
    "A **source of confusion** in the above example is that the **index labels are equal to the row positions**.  \n",
    "In the example below, we use a test data frame where the index has different labels. This will make the difference between `iloc[]` and `loc[]` mode explicit."
   ]
  },
  {
   "cell_type": "code",
   "execution_count": null,
   "metadata": {},
   "outputs": [],
   "source": [
    "test_df = pd.DataFrame(\n",
    "    {\n",
    "        \"Name\": [\"Charles\", \"Florence\", \"Mary\", \"William\", \"Bridget\"],\n",
    "        \"Gender\": (\"male\", \"female\", \"female\", \"male\", \"female\"),\n",
    "        \"Age\": [23, 38, 18, 28, 27],\n",
    "        \"Survived\": 1\n",
    "    },\n",
    "    index=[\"one\", \"two\", \"three\", \"four\", \"five\"]\n",
    ")\n",
    "test_df"
   ]
  },
  {
   "cell_type": "code",
   "execution_count": null,
   "metadata": {
    "scrolled": true
   },
   "outputs": [],
   "source": [
    "test_df.iloc[0:3, : ]"
   ]
  },
  {
   "cell_type": "code",
   "execution_count": null,
   "metadata": {},
   "outputs": [],
   "source": [
    "test_df.loc[\"one\":\"three\",:]\n",
    "#test_df.loc[0:3,:]           # Using positions does not work with .loc[] !"
   ]
  },
  {
   "cell_type": "markdown",
   "metadata": {},
   "source": [
    "<br>\n",
    "\n",
    "**Examples of selection by row/columns**\n",
    "\n",
    "* Select **multiples rows and columns**:"
   ]
  },
  {
   "cell_type": "code",
   "execution_count": null,
   "metadata": {},
   "outputs": [],
   "source": [
    "df"
   ]
  },
  {
   "cell_type": "code",
   "execution_count": null,
   "metadata": {},
   "outputs": [],
   "source": [
    "df.iloc[0:2, [0,2,3]]                   # Select the first 2 rows, and columns \"name\", \"gender\", and \"age\"."
   ]
  },
  {
   "cell_type": "code",
   "execution_count": null,
   "metadata": {},
   "outputs": [],
   "source": [
    "df.loc[0:1, [\"Name\", \"Gender\", \"Age\"]]  # Same as above, with index/label based selection."
   ]
  },
  {
   "cell_type": "code",
   "execution_count": null,
   "metadata": {
    "scrolled": true
   },
   "outputs": [],
   "source": [
    "df.loc[0:3, \"Name\":\"Age\"]               # Select columns between \"Name\" and \"Age\", \"Age\" included."
   ]
  },
  {
   "cell_type": "markdown",
   "metadata": {},
   "source": [
    "<br>\n",
    "\n",
    "* Select a **single row**:"
   ]
  },
  {
   "cell_type": "code",
   "execution_count": null,
   "metadata": {},
   "outputs": [],
   "source": [
    "row_4 = df.iloc[3,]    # Select the 4th row in the DataFrame.\n",
    "row_4b = df.loc[3,]    # Select row with index value == 3 (which here happens to be the 4th row as well).\n",
    "print(\"The type of object returned when selecting a single row is:\", type(row_4))\n",
    "print(list(row_4))\n",
    "print(list(row_4b))"
   ]
  },
  {
   "cell_type": "markdown",
   "metadata": {},
   "source": [
    "<br>\n",
    "\n",
    "* Select a **single column**. Reminder: when selecting by columns only\n",
    "  using `.loc[]` and `.iloc[]`, **`:`** must be used to indicate that all rows should be selected."
   ]
  },
  {
   "cell_type": "code",
   "execution_count": null,
   "metadata": {},
   "outputs": [],
   "source": [
    "col_age_a = df.loc[:,\"Age\"]\n",
    "col_age_b = df.iloc[:,3]\n",
    "col_age_c = df[\"Age\"]          # When selecting based on columns only, using this syntax is simpler.\n",
    "print(list(col_age_a))\n",
    "print(list(col_age_b))\n",
    "print(list(col_age_c))\n",
    "\n",
    "# Note that the type returned by the selection of a single row or column is a panda Series.\n",
    "print(type(row_4))\n",
    "print(type(col_age_c))"
   ]
  },
  {
   "cell_type": "code",
   "execution_count": null,
   "metadata": {
    "scrolled": true
   },
   "outputs": [],
   "source": [
    "# Not a valid syntax (the \":\" is missing)!\n",
    "df.loc[,\"Age\"]"
   ]
  },
  {
   "cell_type": "markdown",
   "metadata": {},
   "source": [
    "<br>\n",
    "\n",
    "[Back to ToC](#toc)\n",
    "\n",
    "### Conditional row selection (row filtering) <a id='6.1'></a>\n",
    "The **`.loc[]`** indexer allows **row selection based on a boolean (`True`/`False`) vector of values**, returning only rows for which the selection vector values are `True`. This is extremely useful to filter DataFrames.\n",
    "* Testing a condition on a **DataFrame** column returns a boolean **Series**: `df[\"age\"] < 35`.\n",
    "* This Series can then be used to filter the DataFrame: `df.loc[df[\"age\"] < 35, :]`.\n",
    "* Several **condition can be combined** with the **`&`** (and) and **`|`** (or) operators, e.g.:\n",
    "  `(df.age < 35) | (df.gender == \"female\")`.\n",
    "* Note that when combining conditions, each individual expression must be surrounded by **`()`**.\n",
    "\n",
    "<br>\n",
    "\n",
    "**Example:** filter on a single condition."
   ]
  },
  {
   "cell_type": "code",
   "execution_count": null,
   "metadata": {},
   "outputs": [],
   "source": [
    "# Print DataFrame as a reminder.\n",
    "df"
   ]
  },
  {
   "cell_type": "code",
   "execution_count": null,
   "metadata": {},
   "outputs": [],
   "source": [
    "# A comparison operator on a single column returns a Boolean Series (True or False values for each row).\n",
    "df[\"Age\"] < 35"
   ]
  },
  {
   "cell_type": "code",
   "execution_count": null,
   "metadata": {},
   "outputs": [],
   "source": [
    "# Select people with age < 35.\n",
    "df.loc[df[\"Age\"] < 35, :]\n"
   ]
  },
  {
   "cell_type": "markdown",
   "metadata": {},
   "source": [
    "<br>\n",
    "\n",
    "**Example:** combining conditions.  \n",
    "Important: conditions are combined using **`&`** and **`|`**, not **`and`** and **`or`**."
   ]
  },
  {
   "cell_type": "code",
   "execution_count": null,
   "metadata": {},
   "outputs": [],
   "source": [
    "# Select all women with age < 25\n",
    "df.loc[(df.Age < 25) & (df.Gender == \"female\"), :]"
   ]
  },
  {
   "cell_type": "code",
   "execution_count": null,
   "metadata": {},
   "outputs": [],
   "source": [
    "# Select all people that are either < 25 or a women.\n",
    "df.loc[(df.Age < 25) | (df.Gender == \"female\"), :]"
   ]
  },
  {
   "cell_type": "markdown",
   "metadata": {},
   "source": [
    "If a conditional selection is complex or re-used multiple times, it can be useful to create a variable to store it. This variable is a boolean Series and is often called **`mask`**."
   ]
  },
  {
   "cell_type": "code",
   "execution_count": null,
   "metadata": {},
   "outputs": [],
   "source": [
    "mask = (df.Age < 25) | (df.Gender == \"female\")\n",
    "subset = df.loc[mask, :]\n",
    "subset"
   ]
  },
  {
   "cell_type": "markdown",
   "metadata": {},
   "source": [
    "<br>\n",
    "\n",
    "[Back to ToC](#toc)\n",
    "\n",
    "<div class=\"alert alert-block alert-info\">\n",
    "    \n",
    "### [Additional Material] Mixed selection <a id='6.2'></a>\n",
    "\n",
    "A frequent situation is that we want to select rows based on a certain condition, e.g. `df[\"Age\"] <= 35`, \n",
    "and columns based on position , e.g. `1:3` to select the second and third columns. The problem is then the following:\n",
    "* `.iloc[]` does not support boolean results (True/False) for row selection: it requires to get\n",
    "  a position.\n",
    "* `.loc[]` does not support column selection by position: it requires index values, i.e. column\n",
    "  and row names.\n",
    "\n",
    "Possible solutions to mixed indexing are:\n",
    "* Use the **`.columns` attribute** to get the names of columns, which can then be used with `.loc[]`.\n",
    "  ```python\n",
    "  df.loc[df[\"Age\"] <= 35, df.columns[1:3]]\n",
    "  ```\n",
    "* If the **index has the same values are row positions (0, 1, 2, ...)**, the `.index` attribute can be \n",
    "  used to get row positions and use them with `.iloc[]`:\n",
    "  ```python\n",
    "  df.iloc[df[df[\"Age\"] <= 35].index, 1:3]\n",
    "  ```\n",
    "* Use the **`.query()` method** to select rows:\n",
    "  ```python\n",
    "  df.iloc[:, 0:6].query(\"Age <= 35\")\n",
    "  ```\n",
    "\n",
    "<br>\n",
    "\n",
    "**Examples:**\n",
    "    \n",
    "</div>"
   ]
  },
  {
   "cell_type": "code",
   "execution_count": null,
   "metadata": {},
   "outputs": [],
   "source": [
    "df.columns[0:5]"
   ]
  },
  {
   "cell_type": "code",
   "execution_count": null,
   "metadata": {},
   "outputs": [],
   "source": [
    "# Select passengers younger than 35 and the 5 first columns:\n",
    "df.loc[df[\"Age\"] < 35, df.columns[0:5]]"
   ]
  },
  {
   "cell_type": "code",
   "execution_count": null,
   "metadata": {},
   "outputs": [],
   "source": [
    "# Same as above, but using the \"iloc[]\" indexer:\n",
    "df.iloc[:, 0:6].query(\"Age < 35\")"
   ]
  },
  {
   "cell_type": "markdown",
   "metadata": {},
   "source": [
    "<br>\n",
    "\n",
    "<div class=\"alert alert-block alert-success\">\n",
    "\n",
    "### Micro Exercise 3 - DataFrame selection<a id='6.3'></a>\n",
    "\n",
    "Using the `df` data frame:\n",
    "\n",
    "* Select all passengers from the `Barber` family.\n",
    "* Select passenger that are either american, or older than 30 years.\n",
    "* **If you have time:** select british passengers that are either women or men traveling 1st class. The passenger class info is found in the `Pclass` column.\n",
    "\n",
    "<div>"
   ]
  },
  {
   "cell_type": "code",
   "execution_count": null,
   "metadata": {
    "scrolled": true
   },
   "outputs": [],
   "source": [
    "df"
   ]
  },
  {
   "cell_type": "code",
   "execution_count": null,
   "metadata": {},
   "outputs": [],
   "source": [
    "# Select passengers from the Barber family ...\n"
   ]
  },
  {
   "cell_type": "code",
   "execution_count": null,
   "metadata": {
    "scrolled": true
   },
   "outputs": [],
   "source": [
    "# Select passenger that are either american, or older than 30 years ...\n"
   ]
  },
  {
   "cell_type": "markdown",
   "metadata": {},
   "source": [
    "<br>\n",
    "<br>\n",
    "\n",
    "[Back to ToC](#toc)\n",
    "\n",
    "<div class=\"alert alert-block alert-info\">\n",
    "\n",
    "## [Additional Material] Creating copies of a DataFrame <a id='7'></a>\n",
    "-----------------------------------------------------\n",
    "\n",
    "Since DataFrame are mutable, assigning a DataFrame to a new variable does **not create a copy**: it creates a new pointer to the same DataFrame.\n",
    "\n",
    "</div>"
   ]
  },
  {
   "cell_type": "code",
   "execution_count": null,
   "metadata": {
    "scrolled": true
   },
   "outputs": [],
   "source": [
    "df_original = pd.DataFrame({\"Items\": [\"spam\", \"eggs\", \"coconuts\"], \"Count\": [10, 23, 7]})\n",
    "df_original"
   ]
  },
  {
   "cell_type": "markdown",
   "metadata": {},
   "source": [
    "<div class=\"alert alert-block alert-info\">\n",
    "\n",
    "Assigning the data frame to another variable **does not create a copy** .  \n",
    "Here, modifying `test_copy` will also modify `test_df` (since they point to the same object).\n",
    "\n",
    "</div>"
   ]
  },
  {
   "cell_type": "code",
   "execution_count": null,
   "metadata": {},
   "outputs": [],
   "source": [
    "df_copy = df_original\n",
    "\n",
    "df_copy.iloc[0, 1] = 37\n",
    "print(df_original, \"\\n\")\n",
    "print(df_copy, \"\\n\")\n",
    "print(\"The copy points to the same object:\", df_copy is df_original)"
   ]
  },
  {
   "cell_type": "markdown",
   "metadata": {},
   "source": [
    "<div class=\"alert alert-block alert-info\">\n",
    "\n",
    "To make a copy, we must instead use the **`.copy()`** method, or perform an indexing operation (here with `.loc[:]`).\n",
    "\n",
    "</div>"
   ]
  },
  {
   "cell_type": "code",
   "execution_count": null,
   "metadata": {},
   "outputs": [],
   "source": [
    "df_copy = df_original.copy()\n",
    "#df_copy = df_original.loc[:]  # Alternative method to copy.\n",
    "\n",
    "df_copy.iloc[0, 1] = \"something_else\"\n",
    "print(df_original, \"\\n\")\n",
    "print(df_copy, \"\\n\")\n",
    "print(\"The copy points to the same object:\", df_copy is df_original)"
   ]
  },
  {
   "cell_type": "markdown",
   "metadata": {},
   "source": [
    "<br>\n",
    "<br>\n",
    "\n",
    "[Back to ToC](#toc)\n",
    "\n",
    "## Summary statistics on DataFrames and Series <a id='8'></a>\n",
    "-------------------------------------------------------------\n",
    "\n",
    "When doing exploratory analysis of a dataset, it is often useful get some **basic statistics** on a **per-column** basis (since rows will typically represent the samples and columns the explanatory variables).\n",
    "\n",
    "Pandas has a number of methods that can be applied both on an entire DataFrame or on individual columns (Series):\n",
    "* `describe()`: print summary statistics for all **numeric columns** (count, mean, min, max, std, quantiles).\n",
    "* `count()`: returns the count of values (in each column, if applied to a DataFrame), that are not NaN\n",
    "  (i.e. missing values - Not a Number).\n",
    "* `value_counts()`: returns the count of each value. Useful for discrete variables (e.g. factors).\n",
    "* `min()`, `max()`, `mean()`, `std()`, `quantile()`, `sum()`: returns the min, max, mean, etc.\n",
    "\n",
    "When applied to a DataFrame, these method compute values for **all columns, skipping columns for which they cannot be applied**, e.g. standard deviation can only be computed for numeric columns).\n",
    "\n",
    "**Note:** by default, all these statistics are computed by column (e.g. max value of all rows in a given column), but they can also be computed by row by adding the `axis=1` argument. E.g. `df.max(axis=1)` returns the max value among columns for each row.\n",
    "\n",
    "<br>\n",
    "\n",
    "**Example:** let's see some examples applied to the Titanic dataset."
   ]
  },
  {
   "cell_type": "code",
   "execution_count": null,
   "metadata": {},
   "outputs": [],
   "source": [
    "# Read data set from disk\n",
    "df = pd.read_table(\"data/titanic.csv\", sep=\",\")\n",
    "\n",
    "# Note that describe() only computes values for numeric columns.\n",
    "df.describe()"
   ]
  },
  {
   "cell_type": "markdown",
   "metadata": {},
   "source": [
    "Looking at the value counts, we can see that the `Age` and `Embarked` columns have some missing values (their count is lower than for other columns)."
   ]
  },
  {
   "cell_type": "code",
   "execution_count": null,
   "metadata": {},
   "outputs": [],
   "source": [
    "df.count()"
   ]
  },
  {
   "cell_type": "markdown",
   "metadata": {},
   "source": [
    "<br> \n",
    "\n",
    "**Example:** applying summary methods on a single column."
   ]
  },
  {
   "cell_type": "code",
   "execution_count": null,
   "metadata": {},
   "outputs": [],
   "source": [
    "print(\"Distribution of passengers by age:\", df[\"Age\"].describe(), \"\\n\", sep=\"\\n\")"
   ]
  },
  {
   "cell_type": "code",
   "execution_count": null,
   "metadata": {},
   "outputs": [],
   "source": [
    "print(\"Distribution of passengers by gender:\", df[\"Sex\"].value_counts(), \"\\n\", sep=\"\\n\")"
   ]
  },
  {
   "cell_type": "code",
   "execution_count": null,
   "metadata": {},
   "outputs": [],
   "source": [
    "print(\"Number of survivors (1) and dead (0) passengers:\", df[\"Survived\"].value_counts(), \"\\n\", sep=\"\\n\")"
   ]
  },
  {
   "cell_type": "code",
   "execution_count": null,
   "metadata": {},
   "outputs": [],
   "source": [
    "print(\"Distribution of passengers by class:\", df[\"Pclass\"].value_counts(), \"\\n\", sep=\"\\n\")"
   ]
  },
  {
   "cell_type": "markdown",
   "metadata": {},
   "source": [
    "<br>\n",
    "\n",
    "<div class=\"alert alert-block alert-success\">\n",
    "\n",
    "### Micro Exercise 4 - summary statistics <a id='8.1'></a>\n",
    "* Which proportion of women and men survived the titanic tragedy?\n",
    "* **If you have time:** write your answer as a `for` loop.\n",
    "\n",
    "<div>"
   ]
  },
  {
   "cell_type": "code",
   "execution_count": null,
   "metadata": {},
   "outputs": [],
   "source": []
  },
  {
   "cell_type": "markdown",
   "metadata": {
    "collapsed": true,
    "jupyter": {
     "outputs_hidden": true
    }
   },
   "source": [
    "<br>\n",
    "\n",
    "[Back to ToC](#toc)\n",
    "\n",
    "<div class=\"alert alert-block alert-info\">\n",
    "\n",
    "### [Additional Material] Applying custom functions by rows or columns <a id='8.2'></a>\n",
    "\n",
    "As we have just seen, pandas DataFrame have a number of built-in methods (e.g. `describe()`, `count()`, `mean()`) that can be applied row-wise or column-wise.\n",
    "\n",
    "But it is also possible to apply any custom function on rows/columns using the DataFrame/Series method **`df.apply(func, axis)`**:\n",
    "* `func`: the function to apply.\n",
    "* `axis=0` to apply the function row-wise (this is the default), or `axis=1` to apply it column-wise.\n",
    "\n",
    "<br>\n",
    "\n",
    "**Note:** the `apply()` method also works on a Series (e.g. a single column of a DataFrame), but the function\n",
    "passed in argument is then applied to each element of the series (the `map()` method can also be used).  \n",
    "E.g.: `df[\"Name\"].apply(len)`, `df[\"Name\"].map(len)`\n",
    "\n",
    "<br>\n",
    "\n",
    "**Examples:**\n",
    "* Apply a custom function to each value of a DataFrame's column. In this example, we expand the abbreviated value of the port of embarkation, to its full value.\n",
    "\n",
    "</div>"
   ]
  },
  {
   "cell_type": "code",
   "execution_count": null,
   "metadata": {},
   "outputs": [],
   "source": [
    "# Print the DataFrame as a reminder:\n",
    "df.head()"
   ]
  },
  {
   "cell_type": "code",
   "execution_count": null,
   "metadata": {},
   "outputs": [],
   "source": [
    "# Define custom function.\n",
    "def expand_port_of_embarkation(abbreviated_value):\n",
    "    \"\"\"Converts the abbreviated port of embarkation to its full name.\"\"\"\n",
    "    abbreviations = {\"S\": \"Southampton\", \"C\": \"Cherbourg\", \"Q\": \"Queenstown\"}\n",
    "    return abbreviations.get(abbreviated_value, None) if len(str(abbreviated_value)) == 1 else abbreviated_value\n",
    "\n",
    "# Apply custom function to each value of the column.\n",
    "df[\"Embarked\"] = df[\"Embarked\"].apply(expand_port_of_embarkation)\n",
    "df.head()"
   ]
  },
  {
   "cell_type": "markdown",
   "metadata": {},
   "source": [
    "<div class=\"alert alert-block alert-info\">\n",
    "\n",
    "* Apply a custom function by columns and rows. Here the custom function simply selects the value with the largest number of characters (in either the column or row).\n",
    "\n",
    "</div>"
   ]
  },
  {
   "cell_type": "code",
   "execution_count": null,
   "metadata": {},
   "outputs": [],
   "source": [
    "def max_characters_value(seq):\n",
    "    \"\"\"Returns the 'longest' value in a sequence.\n",
    "    (i.e. the value with the most characters).\n",
    "    \"\"\"\n",
    "    max_len = -1\n",
    "    max_value = ''\n",
    "    for x in seq:\n",
    "        length = len(str(x))\n",
    "        if length > max_len:\n",
    "            max_len = length\n",
    "            max_value = x\n",
    "    return max_value\n",
    "\n",
    "# Test of the longest_str() function on dummy data:\n",
    "print(\"The longest string is:\", max_characters_value((\"eggs\", \"hello world\", \"helloworld\", \"spam\")), \"\\n\")"
   ]
  },
  {
   "cell_type": "code",
   "execution_count": null,
   "metadata": {},
   "outputs": [],
   "source": [
    "# Apply custom function by column - i.e returns the value of the row with the most characters in each column.\n",
    "print(df.apply(max_characters_value, axis=0), \"\\n\")"
   ]
  },
  {
   "cell_type": "code",
   "execution_count": null,
   "metadata": {},
   "outputs": [],
   "source": [
    "# Apply custom function by row - i.e returns the value of the column with the most characters for each row.\n",
    "# In this case the column with the most characters always corresponds to the \"Name\" column:\n",
    "print(df.apply(max_characters_value, axis=1), \"\\n\")"
   ]
  },
  {
   "cell_type": "markdown",
   "metadata": {},
   "source": [
    "<br>\n",
    "<div class=\"alert alert-block alert-info\">\n",
    "\n",
    "### [Additional Material] Micro Exercise 6 - Applying custom functions <a id='8.3'></a>\n",
    "\n",
    "* Write your own implementation of the `mean()` function, then apply it to the \"Age\" and \"Fare\" columns.\n",
    "* Verify your results against the result obtained by `df.mean()`.\n",
    "\n",
    "Here are 2 possible ways to deal with `NaN` values:\n",
    "* Use `dropna()` to remove `NaN` values from the input DataFrame.\n",
    "* Write an implementation of the `mean()` function that can handle `NaN` values (by ignoring them).\n",
    "  For this second solution, you can use the `isnan()` function from the `math` module to test whether\n",
    "  a value is `NaN` or not.\n",
    "\n",
    "</div>"
   ]
  },
  {
   "cell_type": "code",
   "execution_count": null,
   "metadata": {},
   "outputs": [],
   "source": []
  },
  {
   "cell_type": "markdown",
   "metadata": {},
   "source": [
    "<br>\n",
    "<br>\n",
    "\n",
    "[Back to ToC](#toc)\n",
    "\n",
    "## Grouping data by factor <a id='9'></a>\n",
    "---------------------------------\n",
    "\n",
    "When analyzing a dataset where some variables (columns) are factors (categorical values), it is often useful to group the samples (rows) by these factors.\n",
    "\n",
    "For instance, we earlier computed the proportions of women and men that survived by subsetting the original DataFrame. Using **`groupby()`** can make this a lot easier.\n",
    "\n",
    "<br>\n",
    "\n",
    "**Example:** grouping by a **single factor**."
   ]
  },
  {
   "cell_type": "code",
   "execution_count": null,
   "metadata": {},
   "outputs": [],
   "source": [
    "df.head()"
   ]
  },
  {
   "cell_type": "markdown",
   "metadata": {
    "scrolled": true
   },
   "source": [
    "* Here we compute mean values of all numeric columns by gender (i.e. the mean value is computed separately\n",
    "  for \"female\" and \"male\").  \n",
    "  *Note:* since a mean value can only be computed for numeric values, the argument `numeric_only` must be\n",
    "  set to `True`."
   ]
  },
  {
   "cell_type": "code",
   "execution_count": null,
   "metadata": {
    "scrolled": true
   },
   "outputs": [],
   "source": [
    "df.groupby(\"Sex\").mean(numeric_only=True)"
   ]
  },
  {
   "cell_type": "markdown",
   "metadata": {},
   "source": [
    "<br>\n",
    "\n",
    "**Example:** grouping by **multiple factors**.\n"
   ]
  },
  {
   "cell_type": "code",
   "execution_count": null,
   "metadata": {
    "scrolled": true
   },
   "outputs": [],
   "source": [
    "# Compute mean values by gender and passenger class:\n",
    "df.groupby([\"Sex\", \"Pclass\"]).mean(numeric_only=True)"
   ]
  },
  {
   "cell_type": "markdown",
   "metadata": {},
   "source": [
    "<br>\n",
    "\n",
    "<div class=\"alert alert-block alert-success\">\n",
    "\n",
    "### Micro Exercise 5 - Grouping data<a id='9.1'></a>\n",
    "\n",
    "* Make a copy of the `df` data frame with `df.copy()`. Name it `dfc`, as shown here:\n",
    "```python\n",
    "dfc = df.copy()\n",
    "```\n",
    "\n",
    "* Add a new column named \"Age_category\" to `dfc`. Make use of the `age_category` function defined below\n",
    "  to classify passengers into their respective age classes.\n",
    "```python\n",
    "def age_category(x):\n",
    "    age_classes = {\"child\": 12, \"teenager\": 17, \"adult\": 64, \"senior\": 200}\n",
    "    for label, threshold in age_classes.items():\n",
    "        if x <= threshold:\n",
    "            return label\n",
    "```\n",
    "\n",
    "* Compute survival rates by gender, age category and passenger class.\n",
    "\n",
    "<div>"
   ]
  },
  {
   "cell_type": "code",
   "execution_count": null,
   "metadata": {},
   "outputs": [],
   "source": []
  },
  {
   "cell_type": "markdown",
   "metadata": {},
   "source": [
    "<br>\n",
    "<br>\n",
    "\n",
    "## Exercise 7.1 - 7.3 <a id='10'></a>\n",
    "-------------------------"
   ]
  },
  {
   "attachments": {
    "image.png": {
     "image/png": "[encoded data removed]"
    }
   },
   "cell_type": "markdown",
   "metadata": {},
   "source": [
    "<br> \n",
    "<br>\n",
    "<br>\n",
    "\n",
    "[Back to ToC](#toc)\n",
    "\n",
    "<div class=\"alert alert-block alert-info\">\n",
    "\n",
    "## Additional Material <a id='11'></a>\n",
    "-----------------------------\n",
    "\n",
    "</div>\n",
    "\n",
    "### About the example dataset used in the Additional Theory section\n",
    "\n",
    "To illustrate pandas' functionalities, we will here use an example dataset that contains gene expression data. This dataset originates from a [study that investigated stress response in the hearts of mice deficient in the SRC-2 gene](http://www.ncbi.nlm.nih.gov/pubmed/23300926) (transcriptional regulator steroid receptor co-activator-2).\n",
    "\n",
    "The dataset is in the \"tab\" delimited file `data/mouse_heart_gene_expression.tsv` and is structured as follows:\n",
    "* Rows contain the expression values of a particular gene (higher values = gene is more expressed).\n",
    "* Columns corresponds to one sample/condition and contains the expression of values of all genes in that sample.\n",
    "* The sample names are given in the first row (header). \n",
    "\n",
    "![image.png](attachment:image.png)\n",
    "\n",
    "<br>\n",
    "\n",
    "Take a look at the file first in a text editor or on the command line to verify its structure.\n",
    "\n",
    "\n",
    "\n",
    "Based on the names, we can guess that we have gene expression values for heart tissue of two types: \"WT\" (wild type) and \"KO\" (knock out), and four replicates for each condition:\n",
    "\n",
    "Heart_WT_1 Heart_WT_2 Heart_WT_3 Heart_WT_4 Heart_KO_1 Heart_KO_2 Heart_KO_3 Heart_KO_4"
   ]
  },
  {
   "cell_type": "code",
   "execution_count": null,
   "metadata": {
    "scrolled": true
   },
   "outputs": [],
   "source": [
    "df = pd.read_csv(\"data/mouse_heart_gene_expression.tsv\", sep='\\t')\n",
    "df.head()"
   ]
  },
  {
   "cell_type": "markdown",
   "metadata": {},
   "source": [
    "<br>\n",
    "\n",
    "[Back to ToC](#toc)\n",
    "\n",
    "\n",
    "### Selecting/Filtering dataframes <a id='11.1'></a>\n",
    "\n",
    "Lets read the dataframe again."
   ]
  },
  {
   "cell_type": "code",
   "execution_count": null,
   "metadata": {},
   "outputs": [],
   "source": [
    "column_names = [\"gene\", \"Heart_WT_1\", \"Heart_WT_2\", \"Heart_WT_3\", \"Heart_WT_4\", \"Heart_KO_1\", \"Heart_KO_2\", \"Heart_KO_3\", \"Heart_KO_4\"]\n",
    "df = pd.read_csv(\"GSE41558_series_matrix_no_header.tsv\", sep='\\t', header=None)\n",
    "df.columns = column_names\n",
    "df.set_index('gene', inplace=True) \n",
    "df.head()"
   ]
  },
  {
   "cell_type": "markdown",
   "metadata": {},
   "source": [
    "<br>\n",
    "\n",
    "And filter it based on some criteria that we may be interested in. \n",
    "\n",
    "For example say we want to find genes that have at least 250 reads in the 'Heart_WT_1' sample. We would do it like this: first we find the genes that satisfy the condition:"
   ]
  },
  {
   "cell_type": "code",
   "execution_count": null,
   "metadata": {},
   "outputs": [],
   "source": [
    "my_slice = df['Heart_WT_1']>250\n",
    "print(type(my_slice))"
   ]
  },
  {
   "cell_type": "code",
   "execution_count": null,
   "metadata": {},
   "outputs": [],
   "source": [
    "my_slice.head()"
   ]
  },
  {
   "cell_type": "markdown",
   "metadata": {},
   "source": [
    "<br>\n",
    "\n",
    "Applying the `>` operator returns a boolean Series with the result of the function on every element of the Series. Then, to select the corresponding elements of the dataframe, we use the boolean Series to slice the original dataframe:"
   ]
  },
  {
   "cell_type": "code",
   "execution_count": null,
   "metadata": {},
   "outputs": [],
   "source": [
    "my_mysterious_obj = df[df['Heart_WT_1']>250]\n",
    "print(type(my_mysterious_obj))"
   ]
  },
  {
   "cell_type": "code",
   "execution_count": null,
   "metadata": {},
   "outputs": [],
   "source": [
    "df[df['Heart_WT_1']>250].head()"
   ]
  },
  {
   "cell_type": "markdown",
   "metadata": {},
   "source": [
    "<br>\n",
    "\n",
    "We can design more complicated filters, as below, we select genes that have more than 250 reads in WT samples, less than 150 in all KO samples:"
   ]
  },
  {
   "cell_type": "code",
   "execution_count": null,
   "metadata": {},
   "outputs": [],
   "source": [
    "df[(df['Heart_WT_1']>250) &\n",
    "   (df['Heart_WT_2']>250) &\n",
    "   (df['Heart_WT_3']>250) &\n",
    "   (df['Heart_WT_4']>250) &\n",
    "   (df['Heart_KO_1']<150) &\n",
    "   (df['Heart_KO_2']<150) &\n",
    "   (df['Heart_KO_3']<150) &\n",
    "   (df['Heart_KO_4']<150)]"
   ]
  },
  {
   "cell_type": "markdown",
   "metadata": {
    "collapsed": true,
    "jupyter": {
     "outputs_hidden": true
    }
   },
   "source": [
    "<br>\n",
    "\n",
    "We can also slice the result of filtering. For example, let's say that we want to extract the genes with more than 250 reads in the first WT and less than 50 reads the first KO sample but then also only keep these two columns of the data."
   ]
  },
  {
   "cell_type": "code",
   "execution_count": null,
   "metadata": {},
   "outputs": [],
   "source": [
    "df[(df['Heart_WT_1']>250) & (df['Heart_KO_1']<50)][ ['Heart_WT_1', 'Heart_KO_1'] ]"
   ]
  },
  {
   "cell_type": "markdown",
   "metadata": {},
   "source": [
    "We can very easily keep just the names of these genes in a list:"
   ]
  },
  {
   "cell_type": "code",
   "execution_count": null,
   "metadata": {
    "scrolled": true
   },
   "outputs": [],
   "source": [
    "list_of_genes = list(df[(df['Heart_WT_1']>250) & (df['Heart_KO_1']<50)].index)\n",
    "print(list_of_genes)"
   ]
  },
  {
   "cell_type": "markdown",
   "metadata": {},
   "source": [
    "A very powerful feature is that we can apply filters on all columns and rows at the same time:"
   ]
  },
  {
   "cell_type": "code",
   "execution_count": null,
   "metadata": {},
   "outputs": [],
   "source": [
    "df>1000"
   ]
  },
  {
   "cell_type": "markdown",
   "metadata": {},
   "source": [
    "Of course, if we try to make a data frame based on this filter we will have a dataframe with a lot of NaN (Not a Number) entries:"
   ]
  },
  {
   "cell_type": "code",
   "execution_count": null,
   "metadata": {},
   "outputs": [],
   "source": [
    "df[df>1000]"
   ]
  },
  {
   "cell_type": "markdown",
   "metadata": {},
   "source": [
    "<br>\n",
    "\n",
    "[Back to ToC](#toc)\n",
    "\n",
    "### Sorting operations on dataframes <a id='11.2'></a>\n",
    "\n",
    "DataFrames can be sorted on one or more specific column(s) using `sort_values():"
   ]
  },
  {
   "cell_type": "code",
   "execution_count": null,
   "metadata": {
    "scrolled": true
   },
   "outputs": [],
   "source": [
    "df.sort_values('Heart_WT_1', ascending=False).head()"
   ]
  },
  {
   "cell_type": "markdown",
   "metadata": {},
   "source": [
    "Or we can sort by index :"
   ]
  },
  {
   "cell_type": "code",
   "execution_count": null,
   "metadata": {},
   "outputs": [],
   "source": [
    "df.sort_index(ascending=True).head()"
   ]
  },
  {
   "cell_type": "markdown",
   "metadata": {},
   "source": [
    "Finding the minimum value in each column. Note the `axis` parameter. This gives the dimension along which values are compared. `axis=0` indicates that the comparison is across rows and there looping over all index values in all other dimensions. In this case, for each column we got a value."
   ]
  },
  {
   "cell_type": "code",
   "execution_count": null,
   "metadata": {},
   "outputs": [],
   "source": [
    "df.min(axis=0)"
   ]
  },
  {
   "cell_type": "markdown",
   "metadata": {},
   "source": [
    "Let's now find the min in each row (in this case for each gene), over all columns (samples):"
   ]
  },
  {
   "cell_type": "code",
   "execution_count": null,
   "metadata": {},
   "outputs": [],
   "source": [
    "df.min(axis=1).head()"
   ]
  },
  {
   "cell_type": "markdown",
   "metadata": {},
   "source": [
    "Maybe what we want is not the minimum value but the index at which it is found: "
   ]
  },
  {
   "cell_type": "code",
   "execution_count": null,
   "metadata": {
    "scrolled": true
   },
   "outputs": [],
   "source": [
    "df.idxmin(axis=1).head()"
   ]
  },
  {
   "cell_type": "markdown",
   "metadata": {},
   "source": [
    "Or maybe we want both:"
   ]
  },
  {
   "cell_type": "code",
   "execution_count": null,
   "metadata": {},
   "outputs": [],
   "source": [
    "def my_filter(df):\n",
    "    return df.idxmin(axis=0),df.min(axis=0)\n",
    "    \n",
    "df.apply(my_filter)"
   ]
  },
  {
   "cell_type": "code",
   "execution_count": null,
   "metadata": {},
   "outputs": [],
   "source": [
    "# Finding the gene with minimum expression, but on the first 3 rows only.\n",
    "df[0:3].apply(my_filter)"
   ]
  },
  {
   "cell_type": "markdown",
   "metadata": {},
   "source": [
    "Note the application of a function that generates tuples of (index (gene name) - value). If the minimum occurs multiple times, only the first index where it occurs is returned."
   ]
  },
  {
   "cell_type": "markdown",
   "metadata": {},
   "source": [
    "<br>\n",
    "\n",
    "[Back to ToC](#toc)\n",
    "\n",
    "###  Extending a dataframe by adding new columns <a id='11.3'></a>\n",
    "\n",
    "We can set up a new dataframe and concatenate it to the original dataframe using the `concat` method:"
   ]
  },
  {
   "cell_type": "code",
   "execution_count": null,
   "metadata": {},
   "outputs": [],
   "source": [
    "df_avg = pd.DataFrame()\n",
    "df_avg['Heart_WT_avg'] = (df['Heart_WT_1'] + df['Heart_WT_2'] + df['Heart_WT_3'] + df['Heart_WT_4'])/4\n",
    "df_avg['Heart_KO_avg'] = (df['Heart_KO_1'] + df['Heart_KO_2'] + df['Heart_KO_3'] + df['Heart_KO_4'])/4\n",
    "df_avg.head()"
   ]
  },
  {
   "cell_type": "code",
   "execution_count": null,
   "metadata": {
    "scrolled": true
   },
   "outputs": [],
   "source": [
    "df_avg = pd.DataFrame()\n",
    "df_avg['Heart_WT_avg'] = (df['Heart_WT_1'] + df['Heart_WT_2'] + df['Heart_WT_3'] + df['Heart_WT_4'])/4\n",
    "df_avg['Heart_KO_avg'] = (df['Heart_KO_1'] + df['Heart_KO_2'] + df['Heart_KO_3'] + df['Heart_KO_4'])/4\n",
    "\n",
    "df_all = pd.concat([df, df_avg], axis=1)\n",
    "df_all.head()"
   ]
  },
  {
   "cell_type": "markdown",
   "metadata": {},
   "source": [
    "Or we can modify the original dataframe in place, adding columns to it:"
   ]
  },
  {
   "cell_type": "code",
   "execution_count": null,
   "metadata": {},
   "outputs": [],
   "source": [
    "df['Heart_WT_avg'] = (df['Heart_WT_1'] + df['Heart_WT_2'] + df['Heart_WT_3'] + df['Heart_WT_4'])/4\n",
    "df['Heart_KO_avg'] = (df['Heart_KO_1'] + df['Heart_KO_2'] + df['Heart_KO_3'] + df['Heart_KO_4'])/4\n",
    "df.head()"
   ]
  },
  {
   "cell_type": "markdown",
   "metadata": {},
   "source": [
    "<br>\n",
    "\n",
    "[Back to ToC](#toc)\n",
    "\n",
    "### Use of numpy functions with pandas dataframes <a id='11.4'></a>\n",
    "\n",
    "\n",
    "Let's say we want to calculate the log average expression value. We could do it like this:"
   ]
  },
  {
   "cell_type": "code",
   "execution_count": null,
   "metadata": {},
   "outputs": [],
   "source": [
    "import numpy as np\n",
    "\n",
    "df['log2_Heart_KO_avg'] = np.log2(df['Heart_KO_avg'])\n",
    "df['log2_Heart_WT_avg'] = np.log2(df['Heart_WT_avg'])\n",
    "df.head()"
   ]
  },
  {
   "cell_type": "markdown",
   "metadata": {},
   "source": [
    "And now we can calculate the log fold-change in expression between conditions:"
   ]
  },
  {
   "cell_type": "code",
   "execution_count": null,
   "metadata": {},
   "outputs": [],
   "source": [
    "df['log2FC'] = df['log2_Heart_KO_avg'] - df['log2_Heart_WT_avg']\n",
    "df.head()"
   ]
  },
  {
   "cell_type": "markdown",
   "metadata": {},
   "source": [
    "But now we realized that we didn't keep track of how we calculated the fold change (which was the numerator/denominator). We can fix this:"
   ]
  },
  {
   "cell_type": "code",
   "execution_count": null,
   "metadata": {},
   "outputs": [],
   "source": [
    "df['log2FC_KO_WT'] = df['log2_Heart_KO_avg'] - df['log2_Heart_WT_avg']\n",
    "df.head()"
   ]
  },
  {
   "cell_type": "markdown",
   "metadata": {},
   "source": [
    "And then we have to remove the old column, with the `.drop()` method:"
   ]
  },
  {
   "cell_type": "code",
   "execution_count": null,
   "metadata": {},
   "outputs": [],
   "source": [
    "df.drop('log2FC', axis=1, inplace=True)\n",
    "df.head()"
   ]
  },
  {
   "cell_type": "markdown",
   "metadata": {},
   "source": [
    "Finally, let's add one more column with the average expression across all samples"
   ]
  },
  {
   "cell_type": "code",
   "execution_count": null,
   "metadata": {},
   "outputs": [],
   "source": [
    "df['log2Avg'] = np.log2((df['Heart_KO_avg']+df['Heart_WT_avg'])/2)\n",
    "df.head()"
   ]
  },
  {
   "cell_type": "markdown",
   "metadata": {},
   "source": [
    "<br>\n",
    "\n",
    "[Back to ToC](#toc)\n",
    "\n",
    "### Merge and join DataFrames <a id='11.5'></a>\n",
    "\n",
    "The [`merge()`](https://pandas.pydata.org/pandas-docs/stable/generated/pandas.DataFrame.merge.html) and [`join()`](https://pandas.pydata.org/pandas-docs/stable/generated/pandas.DataFrame.join.html) methods allow to combine DataFrames, linking their rows based on their keys. \n",
    "\n",
    "Here's how we construct a dataframe from a dictionary data structure, where dictionary keys are treated as column names, list of values associated with a key is treated as list of elements in the corresponding column, and rows are constructed based on the index of elements within the list of elements in the column (note however that all columns should have the same length):"
   ]
  },
  {
   "cell_type": "code",
   "execution_count": null,
   "metadata": {},
   "outputs": [],
   "source": [
    "df1 = pd.DataFrame({\n",
    "    'key': ['b','b','a','c','a','a','b'], \n",
    "    'data1': range(7)\n",
    "})\n",
    "df1"
   ]
  },
  {
   "cell_type": "code",
   "execution_count": null,
   "metadata": {},
   "outputs": [],
   "source": [
    "df2 = pd.DataFrame({\n",
    "    'key': ['a','b','d'], \n",
    "    'data2': range(3)\n",
    "})\n",
    "df2"
   ]
  },
  {
   "cell_type": "markdown",
   "metadata": {},
   "source": [
    "Let's merge the two data frames, with the default application of the `merge()` function:"
   ]
  },
  {
   "cell_type": "code",
   "execution_count": null,
   "metadata": {},
   "outputs": [],
   "source": [
    "pd.merge(df1, df2)"
   ]
  },
  {
   "cell_type": "markdown",
   "metadata": {},
   "source": [
    "How has python interpreted our call to `merge`?\n",
    "\n",
    "1. It has assumed that we want to merge on the basis of the common `key` column.\n",
    "2. It has identified the values of `key` which occur in both dataframes.\n",
    "3. It has generated a dataframe with all combinations of rows from dataframes 1 and 2 that are \n",
    "   associated with a particular key value.\n",
    "\n",
    "We can be more precise by specifying how to merge the dataframes, using the **on** option:"
   ]
  },
  {
   "cell_type": "code",
   "execution_count": null,
   "metadata": {},
   "outputs": [],
   "source": [
    "pd.merge(df1, df2, on='key')"
   ]
  },
  {
   "cell_type": "markdown",
   "metadata": {},
   "source": [
    "By default, merge performs an 'inner' operation, taking the intersection of the key sets. However, we can specify the way we want to merge through options like 'outer', 'left', 'right'. This determines which set of keys to consider (the union of the two sets, all of those that occur in df1, all of those that occur in df2). Missing values show up as NaN."
   ]
  },
  {
   "cell_type": "code",
   "execution_count": null,
   "metadata": {},
   "outputs": [],
   "source": [
    "pd.merge(df1, df2, on='key', how='outer')"
   ]
  },
  {
   "cell_type": "markdown",
   "metadata": {},
   "source": [
    "Merging can also be done based on index. For this lets use our mouse heart gene expression dataset we used earlier:"
   ]
  },
  {
   "cell_type": "code",
   "execution_count": null,
   "metadata": {},
   "outputs": [],
   "source": [
    "df.head()"
   ]
  },
  {
   "cell_type": "markdown",
   "metadata": {},
   "source": [
    "Let's create two data frames, one containing the data for the WT and the other for the KO:"
   ]
  },
  {
   "cell_type": "code",
   "execution_count": null,
   "metadata": {},
   "outputs": [],
   "source": [
    "wt_cols = [col for col in df.columns if 'WT' in col and 'avg' not in col and 'log' not in col]\n",
    "ko_cols = [col for col in df.columns if 'KO' in col and 'avg' not in col and 'log' not in col]\n",
    "df_WT = df[wt_cols]\n",
    "df_KO = df[ko_cols]\n",
    "print(df_WT.head())\n",
    "print(df_KO.head())"
   ]
  },
  {
   "cell_type": "markdown",
   "metadata": {},
   "source": [
    "Let's merge these frames based on the index:"
   ]
  },
  {
   "cell_type": "code",
   "execution_count": null,
   "metadata": {},
   "outputs": [],
   "source": [
    "merged_df = pd.merge(df_WT, df_KO, left_index=True, right_index=True)\n",
    "merged_df.head()"
   ]
  },
  {
   "cell_type": "markdown",
   "metadata": {},
   "source": [
    "<br>\n",
    "\n",
    "### Cross-tabulated tables <a id='11.6'></a>\n",
    "\n",
    "Cross-tabulated tables for two (or more) columns (factors) of a DataFrame can be created with **`pd.crosstab()`**."
   ]
  },
  {
   "cell_type": "code",
   "execution_count": null,
   "metadata": {},
   "outputs": [],
   "source": [
    "# Load data from disk.\n",
    "df = pd.read_csv(\"data/titanic.csv\")\n",
    "\n",
    "# Create a cross-tabulated table giving the counts of survivors/non-survivor per passenger class.\n",
    "pd.crosstab(df.Pclass, df.Survived)"
   ]
  },
  {
   "cell_type": "markdown",
   "metadata": {},
   "source": [
    "<br>\n",
    "\n",
    "[Back to ToC](#toc)\n",
    "\n",
    "\n",
    "### Plotting with pandas and matplotlib <a id='11.7'></a>\n",
    "\n",
    "Now let's explore our data a bit. First, a matrix of scatter plots for all pairwise sample comparisons (note: the cell below can take 10-20 seconds to compute):"
   ]
  },
  {
   "cell_type": "code",
   "execution_count": null,
   "metadata": {},
   "outputs": [],
   "source": [
    "import matplotlib.pyplot as plt\n",
    "from pandas.plotting import scatter_matrix\n",
    "\n",
    "scatter_matrix(np.log2(df.iloc[:,0:8]), figsize=(12, 12), diagonal='kde')\n",
    "plt.show() # this instruction makes the plot appear."
   ]
  },
  {
   "cell_type": "markdown",
   "metadata": {},
   "source": [
    "The so-called M-A plot of expression change between KO and WT relative to average expression in these two conditions:"
   ]
  },
  {
   "cell_type": "code",
   "execution_count": null,
   "metadata": {},
   "outputs": [],
   "source": [
    "pd.DataFrame(df[['log2FC_KO_WT', 'log2Avg']]).plot(x='log2Avg', y='log2FC_KO_WT', kind='scatter')\n",
    "plt.show()"
   ]
  },
  {
   "cell_type": "markdown",
   "metadata": {},
   "source": [
    "Histogram of the log fold changes"
   ]
  },
  {
   "cell_type": "code",
   "execution_count": null,
   "metadata": {},
   "outputs": [],
   "source": [
    "df['log2FC_KO_WT'].hist(bins=100)\n",
    "plt.show()"
   ]
  },
  {
   "cell_type": "markdown",
   "metadata": {},
   "source": [
    "Or we can check how well the expression changes fit a gaussian distribution"
   ]
  },
  {
   "cell_type": "code",
   "execution_count": null,
   "metadata": {
    "scrolled": true
   },
   "outputs": [],
   "source": [
    "import scipy.stats as stats\n",
    "\n",
    "# Best fit of data with a normal law\n",
    "(mu, sigma) = stats.norm.fit(df['log2FC_KO_WT'])\n",
    "\n",
    "# The histogram of the data\n",
    "n, bins, patches = plt.hist(df['log2FC_KO_WT'], 60, density=1, facecolor='blue', alpha=1)\n",
    "\n",
    "y = stats.norm.pdf( bins, loc = mu , scale = sigma )\n",
    "# Add a 'best fit' line\n",
    "l = plt.plot(bins, y, 'r--', linewidth=2)\n",
    "\n",
    "# plot\n",
    "plt.xlabel('Log2 fold change')\n",
    "plt.ylabel('Probability')\n",
    "plt.title(r'$\\mathrm{Histogram\\ of\\ log2 fold change:}\\ \\mu=%.3f,\\ \\sigma=%.3f$' %(mu, sigma))\n",
    "plt.grid(True)\n",
    "\n",
    "plt.show()"
   ]
  },
  {
   "cell_type": "markdown",
   "metadata": {},
   "source": [
    "<br>\n",
    "\n",
    "<br>\n",
    "\n",
    "[Back to ToC](#toc)\n",
    "\n",
    "## Creating DataFrames and Series from scratch <a id='11.8'></a>\n",
    "    \n",
    "### Creating DataFrames\n",
    "\n",
    "To create a new pandas DataFrame, we pass a `dict` (dictionary) to **`pd.DataFrame()`**, where:\n",
    "\n",
    "* The dictionary's **keys are column names**.\n",
    "* The dictionary's **values are the values for the given column**. The values can be either:\n",
    "    * A sequence - e.g. a `list` or a `tuple`.\n",
    "    * A unique value - in which case all values in the column will be identical\n",
    "      (see e.g. the \"Survived\" column in the example below).\n",
    "  \n",
    "By default, a numeric index is auto-generated with values starting at 0 (corresponding to row positions).  \n",
    "A custom index can be set by adding the `index` argument when instantiating the DataFrame, or the default index can be replaced by a custom index after the DataFrame is created."
   ]
  },
  {
   "cell_type": "code",
   "execution_count": null,
   "metadata": {},
   "outputs": [],
   "source": [
    "import pandas as pd\n",
    "\n",
    "df = pd.DataFrame(\n",
    "    {\n",
    "        \"Name\": [\"Charles\", \"Florence\", \"Mary\", \"William\", \"Bridget\"],\n",
    "        \"Gender\": (\"male\", \"female\", \"female\", \"male\", \"female\"),\n",
    "        \"Age\": [23, 38, 18, 28, 27],\n",
    "        \"Survived\": 1\n",
    "    }\n",
    ")\n",
    "\n",
    "# Note: evaluating a DataFrame object at the end of a jupyter cell will render it nicely in the notebook.\n",
    "df"
   ]
  },
  {
   "cell_type": "markdown",
   "metadata": {},
   "source": [
    "<br>\n",
    "\n",
    "### Creating a pandas Series\n",
    "\n",
    "To create a new pandas **Series**, we pass a sequence (e.g. list, tuple, dict, generator) to **`pd.Series()`**:\n",
    "* The optional `name` argument allows to associate a \"name\" to the Series.\n",
    "* As with `pd.DataFrame()`, an optional `index` argument can be passed (by default the index\n",
    "  is set to numerical values starting from 0).\n",
    "* Alternatively, a `dict` can be passed as input to `pd.Series()`, in which case the keys of the dictionary\n",
    "  are used as index values, and the values as values for the Series.\n",
    "  \n",
    "The basic characteristics of a Series (here named `s`) are:\n",
    "* Its **length**: retrieved with **`s.size`** or `len(s)`\n",
    "* Its **name**: retrieved with **`s.name`**.\n",
    "\n",
    "**Example:**"
   ]
  },
  {
   "cell_type": "code",
   "execution_count": null,
   "metadata": {},
   "outputs": [],
   "source": [
    "passenger_class = pd.Series([2, 1, 3, 1, 3], name=\"Pclass\")\n",
    "passenger_class"
   ]
  },
  {
   "cell_type": "markdown",
   "metadata": {},
   "source": [
    "<br>\n",
    "\n",
    "[Back to ToC](#toc)"
   ]
  }
 ],
 "metadata": {
  "kernelspec": {
   "display_name": "Python 3 (ipykernel)",
   "language": "python",
   "name": "python3"
  },
  "language_info": {
   "codemirror_mode": {
    "name": "ipython",
    "version": 3
   },
   "file_extension": ".py",
   "mimetype": "text/x-python",
   "name": "python",
   "nbconvert_exporter": "python",
   "pygments_lexer": "ipython3",
   "version": "3.11.6"
  },
  "vscode": {
   "interpreter": {
    "hash": "916dbcbb3f70747c44a77c7bcd40155683ae19c65e1c03b4aa3499c5328201f1"
   }
  }
 },
 "nbformat": 4,
 "nbformat_minor": 4
}
