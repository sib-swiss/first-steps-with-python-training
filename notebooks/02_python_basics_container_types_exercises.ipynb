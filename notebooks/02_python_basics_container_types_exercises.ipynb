{
 "cells": [
  {
   "cell_type": "markdown",
   "metadata": {},
   "source": [
    "# Exercises module 2 - python basics\n",
    "-------------------------------------------------------\n"
   ]
  },
  {
   "cell_type": "markdown",
   "metadata": {},
   "source": [
    "## Exercise 2.1\n",
    "\n",
    "1. Create a string variable called `seq` that contains the following nucleotice sequence:  \n",
    "   `GTGCCCCTCGAGAGGAGGGCGCGCGCCGCGCGCTCGACGCGATCGGCGCTCAGCGAGCGAGCTCCTCGAAGCGATCCGCGCGCGCT`\n",
    "   \n",
    "2. Use the **`find()`** method of strings to determine the position(s) of the motif `CTCGA` in the sequence.\n",
    "\n",
    "<br>\n",
    "\n",
    "What is a limitation of `find()` in this application?\n",
    "\n",
    "> **🦉 Reminder:**, a method is a function associated to a particular object.\n",
    "> * Methods are called using the syntax **`object.method()`**.  \n",
    "> * For instance if your string variable is called `my_str` you would write `my_str.find(...)`."
   ]
  },
  {
   "cell_type": "code",
   "execution_count": null,
   "metadata": {},
   "outputs": [],
   "source": []
  },
  {
   "cell_type": "markdown",
   "metadata": {},
   "source": [
    "<br>\n",
    "\n",
    "### Solution:\n",
    "Uncomment and run the cell below to show the solution."
   ]
  },
  {
   "cell_type": "code",
   "execution_count": null,
   "metadata": {},
   "outputs": [],
   "source": [
    "# %load solutions/solution_21.py"
   ]
  },
  {
   "cell_type": "markdown",
   "metadata": {},
   "source": [
    "<br>\n",
    "<br>\n",
    "\n",
    "## Exercise 2.2 \n",
    "\n",
    "1. Put your favorite quote in a string variable.\n",
    "2. Find a way to replace all spaces by `@` in the quote.\n",
    "\n",
    "> 🎯 **Hint:** does replacing a character by another seem like a problem that other people have encountered before?  \n",
    "> If so, it might be worth to browse the help of class `str`, either in the notebook (`help(str)`), or somewhere online."
   ]
  },
  {
   "cell_type": "code",
   "execution_count": null,
   "metadata": {},
   "outputs": [],
   "source": []
  },
  {
   "cell_type": "markdown",
   "metadata": {},
   "source": [
    "<br>\n",
    "\n",
    "### Solution:\n",
    "Uncomment and run the cell below to show the solution."
   ]
  },
  {
   "cell_type": "code",
   "execution_count": null,
   "metadata": {},
   "outputs": [],
   "source": [
    "# %load solutions/solution_22.py"
   ]
  },
  {
   "cell_type": "markdown",
   "metadata": {},
   "source": [
    "<br>\n",
    "<br>\n",
    "\n",
    "## Exercise 2.3\n",
    "\n",
    "1. **Create a dictionary** whose key/value pairs are the scientific classification of the [Python genus](https://en.wikipedia.org/wiki/Python_(genus)):\n",
    "\n",
    "\n",
    "| key    | value      |\n",
    "|--------|------------|\n",
    "| Class  | Reptilia   |\n",
    "| Order  | Squamata   |\n",
    "| Family | Pythonidae |\n",
    "| Genus  | Python     |\n",
    "\n",
    "\n",
    "2. **After** having created the dictionary, add a key `\"Species\"` whose value is a list containing **2 or more**\n",
    "   python species of your choice (you can lookup the link above for inspiration).\n",
    "\n",
    "3. Print the lists of keys and values as two separate lists.  \n",
    "   🎯 **Hint:** use the `.keys()` and `.values()` methods of dictionary objects.  \n",
    "   \n",
    "   Your output should look like this:\n",
    "   ```python\n",
    "   List of keys: ['Class', 'Order', 'Family', 'Genus', 'Species']\n",
    "   List of values: ['Reptilia', 'Squamata', 'Pythonidae', 'Python', < your species here > ]\n",
    "   ```"
   ]
  },
  {
   "cell_type": "code",
   "execution_count": null,
   "metadata": {},
   "outputs": [],
   "source": []
  },
  {
   "cell_type": "markdown",
   "metadata": {},
   "source": [
    "<br>\n",
    "\n",
    "### Solution:\n",
    "Uncomment and run the cell below to show the solution."
   ]
  },
  {
   "cell_type": "code",
   "execution_count": null,
   "metadata": {},
   "outputs": [],
   "source": [
    "# %load solutions/solution_23.py"
   ]
  },
  {
   "cell_type": "markdown",
   "metadata": {},
   "source": [
    "<br>\n",
    "<br>\n",
    "<br>\n",
    "\n",
    "# Additional exercises\n",
    "--------------------------------\n",
    "\n",
    "## Additional exercise 2.4\n",
    "\n",
    "Consider the two dictionaries below, describing the number of PhD degrees delivered in 1999 in the US (adapted from [nsf data](http://www.nsf.gov/statistics/infbrief/nsf11305/)):"
   ]
  },
  {
   "cell_type": "code",
   "execution_count": null,
   "metadata": {},
   "outputs": [],
   "source": [
    "science_doc = {\"Agricultural sciences\": 1065,\n",
    "                \"Biochemistry\": 759,\n",
    "                \"Molecular biology\": 716,\n",
    "                \"Neurosciences\": 431,\n",
    "                \"Other biological sciences\": 3675,\n",
    "                \"Computer sciences\": 856,\n",
    "                \"Earth, atmospheric, and ocean sciences\": 706,\n",
    "                \"Mathematics\": 1083,\n",
    "                \"Chemistry\": 2132,\n",
    "                \"Physics and astronomy\": 715,\n",
    "                \"Astrology\": 2012, \n",
    "                \"Psychology\": 3668,\n",
    "                \"Social sciences\": 4063}\n",
    "\n",
    "engineering_doc = {\"Aerospace/aeronautical engineering\": 206,\n",
    "                    \"Chemical engineering\": 576,\n",
    "                    \"Civil engineering\": 506,\n",
    "                    \"Electrical engineering\": 1236,\n",
    "                    \"Industrial/manufacturing engineering\": 211,\n",
    "                    \"Materials science engineering\": 393,\n",
    "                    \"Mechanical engineering\": 786,\n",
    "                    \"Other engineering\": 1416 }\n",
    "\n",
    "humanities_doc = {\"Foreign languages and literature\": 626,\n",
    "                    \"History\": 960,\n",
    "                    \"Letters\": 1516,\n",
    "                    \"Other humanities\": 1934}\n"
   ]
  },
  {
   "cell_type": "markdown",
   "metadata": {},
   "source": [
    "1. Merge these three dictionaries in a `all_doc` dictionary (ie, a dictionary that has all the keys and values of these 3 dictionaries)\n",
    "2. What is the length of the `all_doc` dictionary?\n",
    "3. Add the \"Health\" doctorates of the `all_doc` dictionary, with 1407 degrees awarded.\n",
    "4. Multiply by 2 the number of Physics and astronomy degrees in `all_doc`.\n",
    "5. Remove the Astrology key from `all_doc`."
   ]
  },
  {
   "cell_type": "code",
   "execution_count": null,
   "metadata": {},
   "outputs": [],
   "source": []
  },
  {
   "cell_type": "markdown",
   "metadata": {},
   "source": [
    "<br>\n",
    "\n",
    "### Solution:\n",
    "Uncomment and run the cell below to show the solution."
   ]
  },
  {
   "cell_type": "code",
   "execution_count": null,
   "metadata": {},
   "outputs": [],
   "source": [
    "# %load solutions/solution_24.py"
   ]
  },
  {
   "cell_type": "markdown",
   "metadata": {},
   "source": [
    "<br>\n",
    "<br>\n",
    "\n",
    "## Additional exercise 2.5\n",
    "\n",
    "Set a variable called `is_divisible` to `True` if 7453102041884640481897 is evenly divisible by 135138672131"
   ]
  },
  {
   "cell_type": "code",
   "execution_count": null,
   "metadata": {},
   "outputs": [],
   "source": []
  },
  {
   "cell_type": "markdown",
   "metadata": {},
   "source": [
    "<br>\n",
    "\n",
    "### Solution:\n",
    "Uncomment and run the cell below to show the solution."
   ]
  },
  {
   "cell_type": "code",
   "execution_count": null,
   "metadata": {},
   "outputs": [],
   "source": [
    "# %load solutions/solution_25.py"
   ]
  },
  {
   "cell_type": "markdown",
   "metadata": {},
   "source": [
    "<br>\n",
    "<br>\n",
    "\n",
    "## Additional exercise 2.6\n",
    "\n",
    "Here is a list containing the name of all swiss cantons. Your task is to:\n",
    "\n",
    "1. Sort it alphabetically.\n",
    "2. Reverse it.\n"
   ]
  },
  {
   "cell_type": "code",
   "execution_count": null,
   "metadata": {},
   "outputs": [],
   "source": [
    "canton_list = [\n",
    "    'Zürich',\n",
    "    'Bern',\n",
    "    'Luzern',\n",
    "    'Uri',\n",
    "    'Schwyz',\n",
    "    'Obwalden',\n",
    "    'Nidwalden',\n",
    "    'Glarus',\n",
    "    'Zug',\n",
    "    'Fribourg',\n",
    "    'Solothurn',\n",
    "    'Basel-Stadt',\n",
    "    'Basel-Landschaft',\n",
    "    'Schaffhausen',\n",
    "    'Appenzell Ausserrhoden',\n",
    "    'Appenzell Innerrhoden',\n",
    "    'St. Gallen',\n",
    "    'Graubünden',\n",
    "    'Aargau',\n",
    "    'Thurgau',\n",
    "    'Ticino',\n",
    "    'Vaud',\n",
    "    'Valais',\n",
    "    'Neuchâtel',\n",
    "    'Geneva',\n",
    "    'Jura']"
   ]
  },
  {
   "cell_type": "markdown",
   "metadata": {},
   "source": [
    "<br>\n",
    "\n",
    "### Solution:\n",
    "Uncomment and run the cell below to show the solution."
   ]
  },
  {
   "cell_type": "code",
   "execution_count": null,
   "metadata": {},
   "outputs": [],
   "source": [
    "# %load solutions/solution_26.py"
   ]
  }
 ],
 "metadata": {
  "kernelspec": {
   "display_name": "Python 3 (ipykernel)",
   "language": "python",
   "name": "python3"
  },
  "language_info": {
   "codemirror_mode": {
    "name": "ipython",
    "version": 3
   },
   "file_extension": ".py",
   "mimetype": "text/x-python",
   "name": "python",
   "nbconvert_exporter": "python",
   "pygments_lexer": "ipython3",
   "version": "3.13.0"
  }
 },
 "nbformat": 4,
 "nbformat_minor": 4
}
