{
 "cells": [
  {
   "cell_type": "markdown",
   "metadata": {},
   "source": [
    "# Exercises module 8 - Plotting in python using `matplotlib`\n",
    "---------------------------------------------------------------------------------------\n",
    "\n",
    "## Exercise 8.1\n",
    "\n",
    "Using the data of Usain Bolt's 2008 100 meter olympic record, try to plot the Distance, Velocity, and Acceleration vs. Time.\n",
    "\n",
    "You should draw the following elements:\n",
    "* Plot distance, velocity and acceleration as a function of time.\n",
    "* Add a title.\n",
    "* Add legends to your axes.\n",
    "* Add a legend to the plot.  \n",
    "\n",
    "Here is the raw data:\n",
    "```python\n",
    "time = [0, 1.85, 2.87, 3.78, 4.65, 5.50, 6.31, 7.14, 7.96, 8.79, 9.69]\n",
    "distance = [0, 10, 20, 30, 40, 50, 60, 70, 80, 90, 100]\n",
    "velocity = [0, 5.41, 9.80, 10.99, 11.49, 11.76, 12.35, 12.05, 12.20, 12.05, 11.11]\n",
    "acceleration = [0, 2.92, 4.30, 1.31, 0.57, 0.32, 0.73, -0.36, 0.18, -0.18, -1.04]\n",
    "```"
   ]
  },
  {
   "cell_type": "code",
   "execution_count": null,
   "metadata": {},
   "outputs": [],
   "source": []
  },
  {
   "cell_type": "markdown",
   "metadata": {},
   "source": [
    "<br>\n",
    "\n",
    "### Solution:\n",
    "Uncomment and run the cell below to show the solution."
   ]
  },
  {
   "cell_type": "code",
   "execution_count": 1,
   "metadata": {},
   "outputs": [],
   "source": [
    "# %load solutions/solution_81.py"
   ]
  },
  {
   "cell_type": "markdown",
   "metadata": {},
   "source": [
    "<br>\n",
    "<br>\n",
    "\n",
    "## Exercise 8.2\n",
    "\n",
    "Using the same data as in exercise 6.1, change the styling of your Usain Bolt 100m plot, e.g.:\n",
    "* Draw some lines with dashes.\n",
    "* Add data point marker symbols on some lines.\n",
    "* Change the color of lines and marker symbols."
   ]
  },
  {
   "cell_type": "code",
   "execution_count": null,
   "metadata": {},
   "outputs": [],
   "source": []
  },
  {
   "cell_type": "markdown",
   "metadata": {},
   "source": [
    "<br>\n",
    "\n",
    "### Solution:\n",
    "Uncomment and run the cell below to show the solution."
   ]
  },
  {
   "cell_type": "code",
   "execution_count": 2,
   "metadata": {},
   "outputs": [],
   "source": [
    "# %load solutions/solution_82.py"
   ]
  },
  {
   "cell_type": "markdown",
   "metadata": {},
   "source": [
    "<br>\n",
    "<br>\n",
    "\n",
    "## Exercise 8.3\n",
    "\n",
    "Given the a lists of height, weight and gender below:\n",
    "* Create a scatter plot of height (y) as a function of weight (x).\n",
    "* Give different colors to females and males (see `gender` list below). \n",
    "  Specifically, use \"teal\" color for males, and \"darkorange\" for females.\n",
    "* Add a title, and axes labels.\n",
    "\n",
    "```python\n",
    "height = [150, 152, 152, 152, 152, 152, 152, 152, 155, 155, 155, 155, 155, 155, \n",
    "          155, 155, 155, 155, 157, 157, 157, 157, 157, 157, 157, 157, 160, 160, \n",
    "          160, 160, 160, 160, 160, 160, 160, 160, 160, 163, 163, 163, 163, 163, \n",
    "          163, 163, 163, 163, 163, 163, 165, 165, 165, 165, 165, 165, 165, 165, \n",
    "          168, 168, 168, 168, 168, 168, 168, 168, 168, 168, 168, 168, 168, 168, \n",
    "          170, 170, 170, 170, 170, 170, 170, 173, 173, 173, 173, 173, 173, 173, \n",
    "          173, 173, 173, 173, 175, 175, 175, 175, 175, 175, 175, 178, 178, 178, \n",
    "          178, 178, 178, 178, 180, 180, 180, 183, 183, 183, 183, 183, 183, 183, \n",
    "          183, 183, 183, 183, 183, 185, 188, 188, 191, 193]\n",
    "\n",
    "weight = [73, 72, 45, 59, 95, 62, 54, 68, 77, 92, 83, 56, 47, 77, 63, 81, 52, \n",
    "          110, 54, 59, 61, 90, 81, 63, 63, 59, 52, 77, 50, 63, 58, 72, 63, 65, \n",
    "          69, 59, 72, 67, 59, 59, 65, 77, 61, 111, 93, 74, 68, 59, 68, 50, 77, \n",
    "          74, 65, 72, 77, 86, 61, 65, 53, 60, 67, 99, 61, 70, 97, 54, 88, 99, \n",
    "          68, 70, 56, 86, 63, 65, 72, 81, 68, 79, 70, 81, 79, 85, 99, 77, 71, \n",
    "          81, 89, 72, 106, 56, 90, 81, 87, 81, 94, 83, 77, 94, 86, 95, 77, 77, \n",
    "          92, 77, 77, 131, 97, 101, 108, 99, 90, 91, 86, 113, 126, 104, 81, 77, \n",
    "          117, 63, 68, 101]\n",
    "\n",
    "gender = [2, 2, 2, 2, 2, 2, 2, 2, 2, 2, 2, 2, 2, 2, 2, 2, 2, 2, 2, 2, 2, 2, 2, \n",
    "          2, 2, 2, 2, 2, 2, 2, 2, 2, 1, 2, 2, 2, 2, 2, 2, 2, 2, 2, 2, 2, 1, 1, \n",
    "          2, 2, 2, 2, 2, 1, 2, 2, 1, 1, 2, 1, 2, 2, 2, 2, 2, 2, 2, 2, 1, 2, 1, \n",
    "          1, 2, 2, 1, 2, 2, 1, 1, 1, 2, 1, 1, 1, 1, 1, 2, 1, 1, 1, 1, 2, 1, 1, \n",
    "          1, 1, 1, 1, 1, 1, 1, 2, 2, 1, 1, 1, 1, 1, 1, 1, 1, 1, 1, 1, 1, 1, 1, \n",
    "          1, 1, 1, 1, 1, 1, 1]\n",
    "```"
   ]
  },
  {
   "cell_type": "code",
   "execution_count": null,
   "metadata": {},
   "outputs": [],
   "source": []
  },
  {
   "cell_type": "markdown",
   "metadata": {},
   "source": [
    "<br>\n",
    "\n",
    "### Solution:\n",
    "Uncomment and run the cell below to show the solution."
   ]
  },
  {
   "cell_type": "code",
   "execution_count": 3,
   "metadata": {},
   "outputs": [],
   "source": [
    "# %load solutions/solution_83.py"
   ]
  },
  {
   "cell_type": "markdown",
   "metadata": {},
   "source": [
    "<br>\n",
    "<br>\n",
    "<br>\n",
    "\n",
    "\n",
    "# Additional exercises\n",
    "---------------------------------\n",
    "\n",
    "## Additional exercise 8.4 \n",
    "\n",
    "Given a dictionary with the popularity of each programming language, plot the popularity of the different languages in the best way.\n",
    "\n",
    "```python\n",
    "code_languages = {\n",
    "    'Java': 17.2,\n",
    "    'Python': 22.2, \n",
    "    'PHP': 8.8,\n",
    "    'JavaScript':8, \n",
    "    'R':9.3,\n",
    "    'C++': 6.7\n",
    "}\n",
    "```"
   ]
  },
  {
   "cell_type": "code",
   "execution_count": null,
   "metadata": {},
   "outputs": [],
   "source": []
  },
  {
   "cell_type": "markdown",
   "metadata": {},
   "source": [
    "<br>\n",
    "\n",
    "### Solution:\n",
    "Uncomment and run the cell below to show the solution."
   ]
  },
  {
   "cell_type": "code",
   "execution_count": 4,
   "metadata": {},
   "outputs": [],
   "source": [
    "# %load solutions/solution_84.py"
   ]
  },
  {
   "cell_type": "markdown",
   "metadata": {},
   "source": [
    "<br>\n",
    "\n",
    "## Additional exercise 8.5\n",
    "\n",
    "Grab the most recent data on:\n",
    " * [number of hospitalised person](https://raw.githubusercontent.com/daenuprobst/covid19-cases-switzerland/master/covid19_hospitalized_switzerland_openzh.csv)\n",
    "\n",
    "1. download and read this data file as pandas `DataFrame`\n",
    "\n",
    "> import pandas as pd\n",
    "\n",
    "> datHospit = pd.read_csv(file.csv)\n",
    "\n",
    "2. replace all the nan values by 0\n",
    "> df.fillna(0)\n",
    "3. plot the distribution of one canton, to see how it was evolving througth time"
   ]
  },
  {
   "cell_type": "code",
   "execution_count": null,
   "metadata": {},
   "outputs": [],
   "source": []
  },
  {
   "cell_type": "markdown",
   "metadata": {},
   "source": [
    "<br>\n",
    "\n",
    "### Solution:\n",
    "Uncomment and run the cell below to show the solution."
   ]
  },
  {
   "cell_type": "code",
   "execution_count": 5,
   "metadata": {},
   "outputs": [],
   "source": [
    "# %load solutions/solution_85.py"
   ]
  }
 ],
 "metadata": {
  "kernelspec": {
   "display_name": "Python 3 (ipykernel)",
   "language": "python",
   "name": "python3"
  },
  "language_info": {
   "codemirror_mode": {
    "name": "ipython",
    "version": 3
   },
   "file_extension": ".py",
   "mimetype": "text/x-python",
   "name": "python",
   "nbconvert_exporter": "python",
   "pygments_lexer": "ipython3",
   "version": "3.11.6"
  }
 },
 "nbformat": 4,
 "nbformat_minor": 2
}
