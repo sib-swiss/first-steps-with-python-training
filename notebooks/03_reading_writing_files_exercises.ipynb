{
 "cells": [
  {
   "cell_type": "markdown",
   "metadata": {},
   "source": [
    "# Exercises module 3 - reading and writing files\n",
    "----------------------------------------------------------------------\n",
    "\n",
    "\n",
    "## Exercise 3.1\n",
    "\n",
    "Write a function that reads the first 10 lines of the file `data/Homo_sapiens.GRCh38.99.MT.gtf` and writes them to another file."
   ]
  },
  {
   "cell_type": "code",
   "execution_count": null,
   "metadata": {},
   "outputs": [],
   "source": []
  },
  {
   "cell_type": "markdown",
   "metadata": {},
   "source": [
    "<br>\n",
    "\n",
    "### Solution:\n",
    "Uncomment and run the cell below to show the solution."
   ]
  },
  {
   "cell_type": "code",
   "execution_count": null,
   "metadata": {},
   "outputs": [],
   "source": [
    "# %load solutions/solution_31.py"
   ]
  },
  {
   "cell_type": "markdown",
   "metadata": {},
   "source": [
    "<br>\n",
    "\n",
    "## Exercise 3.2\n",
    "\n",
    "The file `data/genbank.sars-cov2.metadata.csv` contains geographic metadata about the SARS-CoV-2 strains found in the genbank database.\n",
    "\n",
    "Here are the first 10 lines from that file:\n",
    "\n",
    "```\n",
    "strain;region;country\n",
    "ARG/Cordoba-1006-155/2020;South America;Argentina\n",
    "ARG/Cordoba-1083-6/2020;South America;Argentina\n",
    "ARG/Cordoba-11300-61/2020;South America;Argentina\n",
    "ARG/Cordoba-11301-61/2020;South America;Argentina\n",
    "ARG/Cordoba-11419-61/2020;South America;Argentina\n",
    "mink/NED/NB03_index/2020;Europe;Netherlands\n",
    "mink/NED/NB04_index/2020;Europe;Netherlands\n",
    "mink/NLD/1/2020;Europe;Netherlands\n",
    "tiger/NY/040420/2020;North America;USA\n",
    "```\n",
    "\n",
    "<br>\n",
    "\n",
    "As you can see, each line is composed of 3 fields, separated by a `;`.\n",
    "* The **first field** corresponds to the **strain ID**.\n",
    "* The **second field** corresponds to the **geographic region** of origin of the strain.\n",
    "* The **third field** corresponds to the **country**.\n",
    "\n",
    "Furthermore, the first line does not contain data, but a **header** giving column names.\n",
    "\n",
    "<br>\n",
    "\n",
    "Your tasks are the following:\n",
    "* Read the file and store the strain id, geographic regions, and country in three different\n",
    "  lists: `strain`,`region`,`country`.\n",
    "* After the file is read, print length of each list (`strain`,`region`,`country`) as well as the first\n",
    "  3 elements of each list.\n",
    "\n"
   ]
  },
  {
   "cell_type": "code",
   "execution_count": null,
   "metadata": {},
   "outputs": [],
   "source": []
  },
  {
   "cell_type": "markdown",
   "metadata": {},
   "source": [
    "<br>\n",
    "\n",
    "### Solution:\n",
    "Uncomment and run the cell below to show the solution."
   ]
  },
  {
   "cell_type": "code",
   "execution_count": null,
   "metadata": {},
   "outputs": [],
   "source": [
    "# %load solutions/solution_32.py"
   ]
  },
  {
   "cell_type": "markdown",
   "metadata": {},
   "source": [
    "<br>\n",
    "<br>\n",
    "\n",
    "# Additional exercises\n",
    "--------------------------------\n",
    "\n",
    "<br>\n",
    "\n",
    "## Additional exercise 3.3\n",
    "Using the same `data/Homo_sapiens.GRCh38.99.MT.gtf` GFF file you used in exercise 3.1, report (print to terminal) all of the feature entries for genes on the mitochondrial chromosome (`MT`) between coordinates 7500 and 10000 on the forward strand.  \n",
    "The complete GFF file format description can be found <a href=\"https://www.ensembl.org/info/website/upload/gff.html\">here</a>, but here is a succinct description:\n",
    "\n",
    "* Column 1: chromosome\n",
    "* Column 2: data source\n",
    "* Column 3: feature type\n",
    "* Column 4: feature start coordinate\n",
    "* Column 5: feature end coordinate\n",
    "* Column 6: score\n",
    "* Column 7: strand\n",
    "\n",
    "**Hint:** what is the separator between fields ?"
   ]
  },
  {
   "cell_type": "code",
   "execution_count": null,
   "metadata": {},
   "outputs": [],
   "source": [
    "   "
   ]
  },
  {
   "cell_type": "markdown",
   "metadata": {},
   "source": [
    "<br>\n",
    "\n",
    "### Solution:\n",
    "Uncomment and run the cell below to show the solution."
   ]
  },
  {
   "cell_type": "code",
   "execution_count": null,
   "metadata": {},
   "outputs": [],
   "source": [
    "# %load solutions/solution_33.py"
   ]
  }
 ],
 "metadata": {
  "kernelspec": {
   "display_name": "Python 3 (ipykernel)",
   "language": "python",
   "name": "python3"
  },
  "language_info": {
   "codemirror_mode": {
    "name": "ipython",
    "version": 3
   },
   "file_extension": ".py",
   "mimetype": "text/x-python",
   "name": "python",
   "nbconvert_exporter": "python",
   "pygments_lexer": "ipython3",
   "version": "3.12.2"
  }
 },
 "nbformat": 4,
 "nbformat_minor": 4
}
