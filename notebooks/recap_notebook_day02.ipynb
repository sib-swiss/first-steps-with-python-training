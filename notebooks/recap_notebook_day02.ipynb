{
 "cells": [
  {
   "cell_type": "markdown",
   "metadata": {},
   "source": [
    "# First steps with Python - Day 2 recap\n",
    "---------------------------------------\n"
   ]
  },
  {
   "cell_type": "markdown",
   "metadata": {},
   "source": [
    "<br>\n",
    "\n",
    "## Conditional code execution\n",
    "\n",
    "Run a block of code if the given `condition` evaluates to `True`, otherwise run the `else` block.\n",
    "\n",
    "  ```python\n",
    "  if condition_1:\n",
    "      lines to run if condition_1 evaluates to True...\n",
    "      ...\n",
    "  \n",
    "  elif condition_2:\n",
    "      lines to run if condition_2 evaluates to True...\n",
    "      ...\n",
    "      \n",
    "  else:\n",
    "      lines to run if all earlier conditions evaluated to False...\n",
    "      ...\n",
    "  ```\n",
    "  \n",
    "<br>\n",
    "\n",
    "**Reminder:** to delimit the start and end of all of these structures, **code blocks** are used => don't forget to **indent** the lines that are part of the code block.\n",
    "\n",
    "<br>"
   ]
  },
  {
   "cell_type": "code",
   "execution_count": null,
   "metadata": {},
   "outputs": [],
   "source": [
    "# single \"if\" condition:\n",
    "\n",
    "a = 42\n",
    "b = 7\n",
    "\n",
    "if a % b == 0:\n",
    "    print(a, \"is a multiple of\", b)"
   ]
  },
  {
   "cell_type": "code",
   "execution_count": null,
   "metadata": {},
   "outputs": [],
   "source": [
    "# if... else...\n",
    "\n",
    "day_of_week = \"Sunday\"\n",
    "\n",
    "if day_of_week in [\"Saturday\", \"Sunday\"]:   # day_of_week == \"Saturday\" or day_of_week == \"Sunday\"\n",
    "    print(\"Enjoy the weekend !\")\n",
    "else:\n",
    "    print(\"Keep coding...\")"
   ]
  },
  {
   "cell_type": "code",
   "execution_count": null,
   "metadata": {},
   "outputs": [],
   "source": [
    "# if... elif... else...\n",
    "\n",
    "day_of_week = \"Friday\"\n",
    "\n",
    "if day_of_week in [\"Saturday\", \"Sunday\"]:   # Same as: day_of_week == \"Saturday\" or day_of_week == \"Sunday\"\n",
    "    print(\"Enjoy the weekend !\")\n",
    "\n",
    "elif day_of_week == \"Friday\":\n",
    "    print(\"Happy Friday !\")\n",
    "\n",
    "else:\n",
    "    print(\"Keep coding...\")"
   ]
  },
  {
   "cell_type": "markdown",
   "metadata": {},
   "source": [
    "<br>\n",
    "<br>\n",
    "\n",
    "## Loops\n",
    "\n",
    "* **`for`** ---> iterate over a known sequence of elements (list, string, dict, tuples, range, ...)."
   ]
  },
  {
   "cell_type": "code",
   "execution_count": null,
   "metadata": {},
   "outputs": [],
   "source": [
    "s = \"recap\"\n",
    "\n",
    "for element in s:\n",
    "    print(element)\n"
   ]
  },
  {
   "cell_type": "code",
   "execution_count": null,
   "metadata": {},
   "outputs": [],
   "source": [
    "squares = []\n",
    "\n",
    "for x in range(1, 8):\n",
    "    squares.append(x**2)\n",
    "    print(squares)\n"
   ]
  },
  {
   "cell_type": "markdown",
   "metadata": {},
   "source": [
    "<br>\n",
    "\n",
    "* `enumerate(sequence_object)` returns a **sequence of tuples** of the form **`(index, value)`**:\n",
    "\n",
    "```python\n",
    "breakfast_ingredients = [\"spam\", \"eggs\", \"sausages\", \"and spam\"]\n",
    "\n",
    "enumerate(breakfast_ingredients)\n",
    "--> [(0, 'spam'), (1, 'eggs'), (2, 'sausages'), (3, 'and spam')]\n",
    "```"
   ]
  },
  {
   "cell_type": "code",
   "execution_count": null,
   "metadata": {},
   "outputs": [],
   "source": [
    "breakfast_ingredients = [\"spam\", \"eggs\", \"sausages\", \"and spam\"]\n",
    "\n",
    "for index, item in enumerate(breakfast_ingredients):\n",
    "    print(index, item, sep=\" --> \")"
   ]
  },
  {
   "cell_type": "markdown",
   "metadata": {},
   "source": [
    "<br>\n",
    "\n",
    "* `dict.items()` returns a **sequence of tuples** of the form **`(key, value)`**:\n",
    "\n",
    "```python\n",
    "languages = {\n",
    "    \"FORTRAN\": 1957,\n",
    "    \"C\": 1972,\n",
    "    \"C++\": 1983,\n",
    "}\n",
    "\n",
    "languages.items()\n",
    "--> [('FORTRAN', 1957), ('C', 1972), ('python', 1991)]\n",
    "```"
   ]
  },
  {
   "cell_type": "code",
   "execution_count": null,
   "metadata": {},
   "outputs": [],
   "source": [
    "# Some programming langues and their creation date.\n",
    "languages = {\n",
    "    \"FORTRAN\": 1957,\n",
    "    \"C\": 1972,\n",
    "    \"C++\": 1983,\n",
    "    \"Perl\": 1987,\n",
    "    \"Bash\": 1989,\n",
    "    \"python\": 1991,\n",
    "    \"R\": 1993,\n",
    "    \"Java\": 1995,\n",
    "    \"JavaScript\": 1995,\n",
    "    \"Go\": 2009,\n",
    "    \"Rust\": 2010,   \n",
    "}\n",
    "\n",
    "for language, creation_year in languages.items():\n",
    "    print(\"Language\", language, \"was created in\", creation_year)"
   ]
  },
  {
   "cell_type": "markdown",
   "metadata": {},
   "source": [
    "<br>\n",
    "\n",
    "* **`while`** ---> iterate a not-known-in-advance number of times, while a given condition is **`True`**."
   ]
  },
  {
   "cell_type": "code",
   "execution_count": null,
   "metadata": {},
   "outputs": [],
   "source": [
    "answer = 0\n",
    "\n",
    "while answer != 7:\n",
    "    answer = int(input(\"What is 3 + 4 ?\"))\n",
    "    print(\"The user entered:\", answer)\n",
    "\n",
    "print(\"Correct! Well done.\")"
   ]
  },
  {
   "cell_type": "markdown",
   "metadata": {},
   "source": [
    "<br>\n",
    "<br>\n",
    "\n",
    "Loops (and code blocks in general) can be **nested** by adding **multiple levels of identation**.\n",
    "\n",
    "* Example of nested for loops."
   ]
  },
  {
   "cell_type": "code",
   "execution_count": null,
   "metadata": {},
   "outputs": [],
   "source": [
    "breakfast_ingredients = [\"spam\", \"eggs\"]\n",
    "\n",
    "for ingredient in breakfast_ingredients:\n",
    "    print(ingredient)\n",
    "    \n",
    "    for letter in ingredient:\n",
    "        print(letter)\n"
   ]
  },
  {
   "cell_type": "code",
   "execution_count": null,
   "metadata": {},
   "outputs": [],
   "source": [
    "# Small script to compute a discount factor for different people.\n",
    "\n",
    "people = {\n",
    "    \"Bob\": 57,\n",
    "    \"Bob Jr.\": 7,\n",
    "    \"Alice\": 16,\n",
    "    \"John\": 38,\n",
    "    \"Chuck Norris\": 2025 - 1940\n",
    "}\n",
    "full_price = 30\n",
    "\n",
    "# Loop through the dict keys.\n",
    "for name, age in people.items():\n",
    "    \n",
    "    # Attribute age group.\n",
    "    if age < 12:\n",
    "        age_group = \"child\"\n",
    "    elif age < 18:\n",
    "        age_group = \"teenager\"\n",
    "    else:\n",
    "        age_group = \"adult\"\n",
    "    \n",
    "    # Compute discount factor:\n",
    "    # * Kids and teenagers pay only half price.\n",
    "    # * Chuck Norris does not pay...    \n",
    "    discount_factor = 0\n",
    "    if age_group in [\"child\", \"teenager\"]:\n",
    "        discount_factor = 0.5\n",
    "    if name.endswith(\"Norris\"):\n",
    "        discount_factor = 1\n",
    "    \n",
    "    # Compute price.\n",
    "    price = full_price * (1-discount_factor)\n",
    "    print(name, \" (age \", age, \", \", age_group, \") will pay \", round(price), sep=\"\")\n",
    "    "
   ]
  },
  {
   "cell_type": "markdown",
   "metadata": {},
   "source": [
    "<br>\n",
    "\n",
    "### Loop keywords: **`break`** and **`continue`**.\n",
    "* **`break`** --> exit loop.\n",
    "* **`continue`** --> go to the start of the loop (skipping whatever is left of the current loop)"
   ]
  },
  {
   "cell_type": "code",
   "execution_count": null,
   "metadata": {},
   "outputs": [],
   "source": [
    "users = {\n",
    "    \"Morpheus\": \"blue pill\",\n",
    "    \"Neo\": \"red pill\",\n",
    "}\n",
    "\n",
    "while True:\n",
    "    name = input(\"Enter your name: \")\n",
    "    if name not in users:\n",
    "        print(\"Unknown user...\")\n",
    "        continue\n",
    "        \n",
    "    password = input(\"Enter your password: \")\n",
    "    if password == users[name]:\n",
    "        print(\"Welcome,\", name)\n",
    "        break\n",
    "    else:\n",
    "        print(\"Wrong password...\")\n",
    "        "
   ]
  },
  {
   "cell_type": "markdown",
   "metadata": {},
   "source": [
    "<br>\n",
    "<br>\n",
    "<br>\n",
    "\n",
    "## Writing functions\n",
    "\n",
    "There are many **good reasons to use functions**:\n",
    "* **Re-use** code (DRY principle = Don't Repeat Yourself).\n",
    "* **Structure** your code in logical units.\n",
    "* **Isolate** different parts of the code (encapsulation)."
   ]
  },
  {
   "cell_type": "code",
   "execution_count": null,
   "metadata": {},
   "outputs": [],
   "source": [
    "def square_root(x):\n",
    "    \"\"\"Computes the square of a value.\"\"\"\n",
    "    square_root = x ** 0.5\n",
    "    return square_root\n",
    "\n",
    "square_root(64)"
   ]
  },
  {
   "cell_type": "code",
   "execution_count": null,
   "metadata": {},
   "outputs": [],
   "source": [
    "def discount_factor(name, age_group=\"adult\"):\n",
    "    \"\"\"Returns a discount factor between 0 (no discount) and 1 (100% discount)\"\"\"\n",
    "    \n",
    "    discount_factor = 0\n",
    "    \n",
    "    # Kids and teenagers pay only half price.\n",
    "    if age_group in [\"child\", \"teenager\"]:\n",
    "        discount_factor = 0.5\n",
    "\n",
    "    # Chuck Norris does not pay...    \n",
    "    if name.endswith(\"Norris\"):\n",
    "        discount_factor = 1\n",
    "        \n",
    "    return discount_factor\n",
    "\n",
    "\n",
    "# Testing our function.\n",
    "print(discount_factor(\"Alice\"))\n",
    "print(discount_factor(\"Bob\", age_group=\"child\"))\n",
    "print(discount_factor(\"Chuck Norris\"))"
   ]
  },
  {
   "cell_type": "code",
   "execution_count": null,
   "metadata": {},
   "outputs": [],
   "source": [
    "def compute_age_group(age):\n",
    "    \"\"\"Returns the age group of a person based on their age.\n",
    "    \n",
    "    Possible age groups are: child, teenager, adult.\n",
    "    \"\"\"\n",
    "    if age < 12:\n",
    "        return \"child\"\n",
    "    elif age < 18:\n",
    "        return \"teenager\"\n",
    "    else:\n",
    "        return \"adult\"\n",
    "\n",
    "\n",
    "# Testing our function.\n",
    "print(compute_age_group(7))\n",
    "print(compute_age_group(15))\n",
    "print(compute_age_group(25))"
   ]
  },
  {
   "cell_type": "markdown",
   "metadata": {},
   "source": [
    "<br>\n",
    "\n",
    "We can now re-write our original price computing pipeline in a much simpler form:"
   ]
  },
  {
   "cell_type": "code",
   "execution_count": null,
   "metadata": {},
   "outputs": [],
   "source": [
    "people = {\n",
    "    \"Bob\": 57,\n",
    "    \"Bob Jr.\": 7,\n",
    "    \"Alice\": 16,\n",
    "    \"John\": 38,\n",
    "    \"Chuck Norris\": 2025 - 1940\n",
    "}\n",
    "full_price = 30\n",
    "\n",
    "# Loop through the list of people and compute the ticket price.\n",
    "for name, age in people.items():\n",
    "    \n",
    "    # Attribute age group.\n",
    "    age_group = compute_age_group(age)\n",
    "    # Compute discount.\n",
    "    discount = discount_factor(name, age_group)\n",
    "    \n",
    "    # Compute price.\n",
    "    price = full_price * (1 - discount)    \n",
    "    print(name, \" (age \", age, \", \", age_group, \") will pay \", round(price), sep=\"\")"
   ]
  },
  {
   "cell_type": "markdown",
   "metadata": {},
   "source": [
    "<br>\n",
    "<br>\n",
    "\n",
    "## Namespaces (scopes)\n",
    "\n",
    "* Variables defined outside of functions (**Global scope**) are available inside functions (**Local scope**).\n",
    "* Variables defined inside of functions are only available in the function.\n",
    "* **Accessing variables from the Global scope inside functions is most of the time bad practice**.\n",
    "  If a value from the outside the function is needed, it should be **passed as an argument**."
   ]
  },
  {
   "cell_type": "code",
   "execution_count": null,
   "metadata": {},
   "outputs": [],
   "source": [
    "message = \"Greetings from the global scope!\"\n",
    "\n",
    "def greetings():\n",
    "    message = \"Greetings from the function's scope!\"\n",
    "    print(message)\n",
    "\n",
    "print(message)\n",
    "greetings()\n",
    "print(message)"
   ]
  },
  {
   "cell_type": "code",
   "execution_count": null,
   "metadata": {},
   "outputs": [],
   "source": [
    "x = 1\n",
    "\n",
    "def arguments_are_overrated():\n",
    "    \"\"\"An example of what NOT to do...\"\"\"\n",
    "    y = 2\n",
    "    summed_value = x + y  # This is possible, but discouraged.\n",
    "    return summed_value\n",
    "\n",
    "return_value = arguments_are_overrated()\n",
    "print(return_value)"
   ]
  }
 ],
 "metadata": {
  "kernelspec": {
   "display_name": "Python 3 (ipykernel)",
   "language": "python",
   "name": "python3"
  },
  "language_info": {
   "codemirror_mode": {
    "name": "ipython",
    "version": 3
   },
   "file_extension": ".py",
   "mimetype": "text/x-python",
   "name": "python",
   "nbconvert_exporter": "python",
   "pygments_lexer": "ipython3",
   "version": "3.13.0"
  }
 },
 "nbformat": 4,
 "nbformat_minor": 4
}
