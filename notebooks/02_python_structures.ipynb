{
 "cells": [
  {
   "cell_type": "markdown",
   "metadata": {},
   "source": [
    "# Module 2 - Code structure and flow control\n",
    "--------------------------------------------\n",
    "\n",
    "<div class=\"alert alert-block alert-info\">\n",
    "<b>Note:</b> this notebook contains <b>Additional Material</b> sections (in blue boxes, like this one) that will be skipped during the class due to time constraints. If you are going through this notebook on your own, feel free to\n",
    "read these sections or skip them depending on your interest.\n",
    "</div>"
   ]
  },
  {
   "cell_type": "markdown",
   "metadata": {},
   "source": [
    "### Table of Content <a id='toc'></a>\n",
    "\n",
    "[**Introduction**](#0)\n",
    "\n",
    "[**Code blocks**](#10)\n",
    "\n",
    "[**Conditional statements : `if` , `elif`, `else`**](#20)  \n",
    "&nbsp;&nbsp;&nbsp;&nbsp;[Micro exercise 1](#21)  \n",
    "&nbsp;&nbsp;&nbsp;&nbsp;[Micro exercise 2](#22)  \n",
    "\n",
    "[**Loops**](#30)  \n",
    "&nbsp;&nbsp;&nbsp;&nbsp;[`for` loops](#31)  \n",
    "&nbsp;&nbsp;&nbsp;&nbsp;[`while` loops](#32)  \n",
    "&nbsp;&nbsp;&nbsp;&nbsp;[Micro exercise 3](#33)  \n",
    "\n",
    "[**Exercises 2.1 and 2.2**](#40)\n",
    "\n",
    "[**`for` loop tricks**](#50)  \n",
    "&nbsp;&nbsp;&nbsp;&nbsp;[Using the `range()` function](#51)  \n",
    "&nbsp;&nbsp;&nbsp;&nbsp;[Using the `enumerate()` function to access a value and its index at the same time](#52)  \n",
    "&nbsp;&nbsp;&nbsp;&nbsp;[Using the `items()` method to loop over dictionaries key and values](#53)  \n",
    "\n",
    "[**Loop control : `break` and `continue`**](#60)\n",
    "\n",
    "[**Exercise 2.3**](#70)  \n",
    "\n",
    "[**Writing your own functions**](#80)  \n",
    "&nbsp;&nbsp;&nbsp;&nbsp;[Function arguments](#81)  \n",
    "&nbsp;&nbsp;&nbsp;&nbsp;[Micro exercise 4](#82)  \n",
    "&nbsp;&nbsp;&nbsp;&nbsp;[Function return values](#83)  \n",
    "&nbsp;&nbsp;&nbsp;&nbsp;[Docstring - a function's documentation](#84)  \n",
    "&nbsp;&nbsp;&nbsp;&nbsp;[Beware of namespaces](#85)  \n",
    "&nbsp;&nbsp;&nbsp;&nbsp;[Functions - Summary](#86)  \n",
    "&nbsp;&nbsp;&nbsp;&nbsp;[Micro exercise 5](#87)  \n",
    "\n",
    "[**Exercise 2.4**](#90)"
   ]
  },
  {
   "cell_type": "markdown",
   "metadata": {},
   "source": [
    "\n",
    "<br>\n",
    "\n",
    "## Introduction <a id='0'></a>\n",
    "-------------------\n",
    "\n",
    "In the previous lesson we learned about **basic object types**: `bool`,`int`,`float`,`str`,`tuple`,`list` and `dict`.\n",
    "\n",
    "In this lesson we look at 3 different concepts that allow to **structure python code** and **control the code flow**, i.e. which code is executed and when:\n",
    "\n",
    "* **Conditional statement**: `if`, `else` and `elif`\n",
    "* **Loops**: `for` and `while`\n",
    "* **Functions**\n",
    "\n",
    "*Note:* these constructs are conceptually similar to what is found in many other programming languages. Therefore, depending on your experience with other languages, you will be able to assimilate this content more or less quickly.\n",
    "\n",
    "<br>\n",
    "<br>\n",
    "\n",
    "## Code blocks <a id='10'></a>\n",
    "-------------------\n",
    "\n",
    "The Python code structures mentioned above all rely on the concept of **code block** to delimit their start and end location.  \n",
    "In Python, a code block:\n",
    "* Starts after a line that **ends with the colon operator `:`**.\n",
    "* Is delimited by a **fixed number of spaces at the start of each line** (indentation). This replaces\n",
    "  curly braces `{}` or parentheses `()` found in other languages such as R or C.\n",
    "* Can contain other nested code blocks (these must then also start with a `:` and be further indented).\n",
    "\n",
    "The standard indentation level for code blocks is **4 spaces**, and we **highly recommend** you follow this guideline.\n",
    "\n",
    "<br>\n",
    "\n",
    "**Example:** code block with an indentation of 4 spaces."
   ]
  },
  {
   "cell_type": "code",
   "execution_count": null,
   "metadata": {},
   "outputs": [],
   "source": [
    "x = 10\n",
    "y = 3\n",
    "\n",
    "if x > y:\n",
    "    print(\"I'm an indented line - looks like we just entered a code-block...\")\n",
    "    print(\"I'm indented too - that means I'm still part of this code block\")\n",
    "    print(\"I got printed because\", x, \"is greater than\", y)\n",
    "    \n",
    "\n",
    "# When the indentation stops, the code block is over.\n",
    "print(\"\\nI'm always printed, even if x <= y ... because I'm not part of the code block any more.\")\n"
   ]
  },
  {
   "cell_type": "markdown",
   "metadata": {},
   "source": [
    "<br>\n",
    "\n",
    "**Example:** in principle, any number of spaces can be used for indentation as long as that number is consistent within the code block...\n",
    "but **the convention is to use 4 spaces** for good readability."
   ]
  },
  {
   "cell_type": "code",
   "execution_count": null,
   "metadata": {},
   "outputs": [],
   "source": [
    "# \"Bad\" indenting that uses 1 space - this is valid python syntax, but goes against convention.\n",
    "if x > y:\n",
    " print(\"I'm an indented line - looks like we just entered a code-block...\")\n",
    " print(\"I'm indented too - that means I'm still part of this code block\")\n",
    "\n",
    "# Correct indenting of 4 spaces.\n",
    "if x > y:\n",
    "    print(\"I'm an indented line - looks like we just entered a code-block...\")\n",
    "    print(\"I'm indented too - that means I'm still part of this code block\")"
   ]
  },
  {
   "cell_type": "markdown",
   "metadata": {},
   "source": [
    "<br>\n",
    "\n",
    "**Example:** inconsistent indentation raises an **`IndentationError`** !"
   ]
  },
  {
   "cell_type": "code",
   "execution_count": null,
   "metadata": {},
   "outputs": [],
   "source": [
    "if x > y:\n",
    "    print(\"I'm an indented line - looks like we just entered a code-block...\")\n",
    "     print(\"I'm indented too - that means I'm still part of this code block\")"
   ]
  },
  {
   "cell_type": "markdown",
   "metadata": {},
   "source": [
    "<br>\n",
    "\n",
    "**Example:** nested code blocks - each additional nesting level must be further indented by 4 spaces."
   ]
  },
  {
   "cell_type": "code",
   "execution_count": null,
   "metadata": {},
   "outputs": [],
   "source": [
    "x = 10\n",
    "y = 2\n",
    "if x > 3:\n",
    "    print(\"I get printed whenever x is > 3...\")\n",
    "    \n",
    "    if y > 3:\n",
    "        print(\"I get printed when both x and y are > 3...\")\n"
   ]
  },
  {
   "cell_type": "markdown",
   "metadata": {},
   "source": [
    "<br>\n",
    "<br>\n",
    "\n",
    "[Back to ToC](#toc)\n",
    "\n",
    "## Conditional statements: `if` , `elif`, `else` <a id='20'></a>\n",
    "---------------------------------------------------------------\n",
    "\n",
    "### `if` and `if... else...`\n",
    "\n",
    "The **`if`** keyword followed by an **expression that can evaluate to `True` or `False`** (`condition` in the code below), defines a block that will be executed if the expression evaluates to `True`.\n",
    "\n",
    "  ```python\n",
    "    if condition:\n",
    "        # This code block is executed if the condition evaluates to `True`.\n",
    "        # If the condition is `False`, the code block is skipped.\n",
    "        ...\n",
    "  ```\n",
    "    \n",
    "The **`else`** keyword defines a block to be executed if the previous `if` expression evaluated to `False`.\n",
    "  \n",
    "  ```python\n",
    "    if condition:\n",
    "        # This code block is executed if the condition evaluates to `True`.\n",
    "        ...\n",
    "    else:\n",
    "        # This code block is executed if the condition evaluates to `False`.\n",
    "        ...\n",
    "  ```\n",
    "\n",
    "* **Important:** don't forget the **`:`** at the end of the `if` and `else` lines (start of a code block).\n",
    "\n",
    "<br>\n",
    "\n",
    "The following graphics illustrate the code flow in an `if... else...` code block:\n",
    "\n",
    "![image.png](img/if_else_figure_2.png)"
   ]
  },
  {
   "cell_type": "markdown",
   "metadata": {},
   "source": [
    "<br>\n",
    "\n",
    "**Example:** single **`if`** statement."
   ]
  },
  {
   "cell_type": "code",
   "execution_count": null,
   "metadata": {},
   "outputs": [],
   "source": [
    "toppings = \"spam\"\n",
    "with_eggs = True\n",
    "\n",
    "if with_eggs == True:\n",
    "    toppings += \" and eggs\"\n",
    "    \n",
    "print(\"This is a\", toppings, \"sandwich\")"
   ]
  },
  {
   "cell_type": "markdown",
   "metadata": {},
   "source": [
    "*Note:* a more \"pythonic\" was to write the above condition test is to ommit the `== True` part, since the value we are evaluating is iteself already boolean."
   ]
  },
  {
   "cell_type": "code",
   "execution_count": null,
   "metadata": {},
   "outputs": [],
   "source": [
    "if with_eggs:\n",
    "    toppings += \" and eggs\"\n",
    "    \n",
    "print(\"This is a\", toppings, \"sandwich\")"
   ]
  },
  {
   "cell_type": "markdown",
   "metadata": {},
   "source": [
    "<br>\n",
    "\n",
    "**Example:** **`if... else...`** statement."
   ]
  },
  {
   "cell_type": "code",
   "execution_count": null,
   "metadata": {},
   "outputs": [],
   "source": [
    "age = 25\n",
    "\n",
    "if age < 18:\n",
    "    print(\"This is a child\")\n",
    "else:\n",
    "    print(\"This is an adult\")\n",
    "    "
   ]
  },
  {
   "cell_type": "markdown",
   "metadata": {},
   "source": [
    "Here `if toppings` is a shortcut for `if len(toppings) > 0`."
   ]
  },
  {
   "cell_type": "code",
   "execution_count": null,
   "metadata": {},
   "outputs": [],
   "source": [
    "toppings = [\"spam\", \"eggs\"]\n",
    "\n",
    "if toppings:\n",
    "    print(\"Your sandwich choice:\", \", \".join(toppings))\n",
    "else:\n",
    "    print(\"Please choose a topping.\")"
   ]
  },
  {
   "cell_type": "markdown",
   "metadata": {},
   "source": [
    "\n",
    "<br>\n",
    "<br>\n",
    "\n",
    "[Back to ToC](#toc)\n",
    "\n",
    "<div class=\"alert alert-block alert-success\">\n",
    "\n",
    "### Micro exercise 1 <a id='21'></a>\n",
    "* Create a variable `word = \"shrubbery\"`.\n",
    "* Write an `if... else` block that prints a text indicating whether the word stored\n",
    "  in `word` is a long or a short word.\n",
    "  The average word length in English is 5 characters.\n",
    "* Try changing the value of `word` to verify that your code works properly.\n",
    "\n",
    "* A pseudo-code for this task would look something like:\n",
    "    ```\n",
    "    word = \"shrubbery\"\n",
    "    \n",
    "    if word has more than 5 chars -> print \"this is a long word\"\n",
    "    else -> print \"This is a short word\"\n",
    "    ```\n",
    "\n",
    "<div>"
   ]
  },
  {
   "cell_type": "code",
   "execution_count": null,
   "metadata": {},
   "outputs": [],
   "source": []
  },
  {
   "cell_type": "markdown",
   "metadata": {},
   "source": [
    "<br>\n",
    "\n",
    "### Adding additional condition checks: `if... elif... else...`\n",
    "\n",
    "To tests for additional conditions inside an `if... else` block, the **`elif`** keyword (contraction of `else if`) is used:\n",
    "\n",
    "  ```python\n",
    "    if condition_1:\n",
    "        # This code block is executed if condition_1 evaluates to `True`.\n",
    "        ...\n",
    "    elif condition_2:\n",
    "        # This code block is executed if condition_2 evaluates to `True`,\n",
    "        # and all earlier conditions evalutated to `False`.\n",
    "        ...\n",
    "    else:\n",
    "        # This code block is executed if none of the earlier conditions evaluated to `True`.\n",
    "        ...\n",
    "  ```\n",
    "  <br>\n",
    "\n",
    "* **Important:** as soon as one of the conditions evaluates to `True`, all the remaining `elif` blocks\n",
    "  are skipped (i.e. their associated code block is not run, even if their condition would evaluate to\n",
    "  `True`. In fact, to save time, they are not even tested).\n",
    "\n",
    "The following graphics illustrate the code flow:\n",
    "\n",
    "![image.png](img/if_else_figure_3.png)\n",
    "\n",
    "<br>\n",
    "\n",
    "**Example:**"
   ]
  },
  {
   "cell_type": "code",
   "execution_count": null,
   "metadata": {},
   "outputs": [],
   "source": [
    "age = 25\n",
    "\n",
    "if age >= 18:                               # First statement.\n",
    "    print(\"This is an adult\")      \n",
    "elif age >= 13:                             # This statement is tested only if the previous one was False.\n",
    "    print(\"This is a teenager\")\n",
    "elif age >= 0:                              # This statement is tested only if the previous one was False.\n",
    "    print(\"This is a child\")\n",
    "else:                                       # The \"else\" block is run only if all previous one were False.\n",
    "    print(\"Error: age cannot be negative\")"
   ]
  },
  {
   "cell_type": "markdown",
   "metadata": {},
   "source": [
    "> **Note**: the **order in which conditions are tested** can be importance when the conditions overlap.\n",
    ">\n",
    "> Consider the following re-ordering of the conditions we tested just before: what is wrong with this code?\n",
    ">\n",
    "> \n",
    "> ```python\n",
    "> if age >= 0:\n",
    ">     print(\"This is a child\")      \n",
    "> elif age >= 13:\n",
    ">     print(\"This is a teenager\")\n",
    "> elif age >= 18:\n",
    ">     print(\"This is an adult\")\n",
    "> else:\n",
    ">     print(\"Error: age cannot be negative\")\n",
    "> ```\n",
    "> "
   ]
  },
  {
   "cell_type": "markdown",
   "metadata": {},
   "source": [
    "<br>\n",
    "<br>\n",
    "\n",
    "<div class=\"alert alert-block alert-info\">\n",
    "\n",
    "### [Additional Material] The ternary operator\n",
    "\n",
    "There are often cases where an `if... else` condition is needed only for executing (or not) a single statement (a single line of code).\n",
    "For such cases, the so-called **ternary operator** can be used as a shorthand to make the code more concise.\n",
    "\n",
    "* The **syntax of the ternary operator** is as follows: `<true-value> if condition else <false-value>`  \n",
    "  Examples:\n",
    "\n",
    "    ```python\n",
    "    \"this is true\" if 3 > 2 else \"this is false\"   # returns \"this is true\".\n",
    "    42 if \"spam\" in [\"eggs\", \"bacon\"] else -1      # returns -1.\n",
    "    ```\n",
    "\n",
    "<br>\n",
    "\n",
    "Consider the following code where we want to set a variable `category` to either `\"adult\"` or `\"child\"` depending\n",
    "on the condition `age >= 18`.  \n",
    "* Using a regular `if... else` statement, this would take 4 lines of code:\n",
    "  \n",
    "    ```python\n",
    "    if age >= 18:\n",
    "        category = \"adult\"\n",
    "    else:\n",
    "        category = \"child\"\n",
    "    ```\n",
    "\n",
    "<br>\n",
    "\n",
    "* Using the **ternary operator**, we can shorten this down to a single line, making the code **more concise** and **avoiding repetition**:\n",
    "  \n",
    "    ```python\n",
    "    category = \"adult\" if age >= 18 else \"child\"\n",
    "    ```\n",
    "\n",
    "<br>\n",
    "\n",
    "Here are some more examples:\n",
    "* Creating a string `order`, that should be either `\"spam and eggs\"` or `\"spam and spinach\"`.\n",
    "\n",
    "    ```python\n",
    "    with_eggs = True\n",
    "    \n",
    "    # Using the ternary operator:\n",
    "    order = \"spam and \" + (\"eggs\" if with_eggs else \"spinach\")\n",
    "    print(order)\n",
    "    \n",
    "    # Using a regular if...else statement:\n",
    "    order = \"spam and \"\n",
    "    if with_eggs:\n",
    "        order += \"eggs\"\n",
    "    else:\n",
    "        order += \"spinach\"\n",
    "    print(order)\n",
    "    ```\n",
    "\n",
    "<br>\n",
    "\n",
    "* Printing `\"This is a child\"` or `\"This is an adult\"` depending on the `age` variable.\n",
    "\n",
    "    ```python\n",
    "    age = 7\n",
    "    \n",
    "    # Using the ternary operator:\n",
    "    print(\"This is a\", \" child\" if age < 18 else \"n adult\", sep=\"\")\n",
    "    \n",
    "    # Using a regular if...else statement:\n",
    "    if age < 18:\n",
    "        print(\"This is a child\")\n",
    "    else:\n",
    "        print(\"This is an adult\")\n",
    "    ```\n",
    "\n",
    "</div>"
   ]
  },
  {
   "cell_type": "markdown",
   "metadata": {},
   "source": [
    "<br>\n",
    "\n",
    "### Combining conditions using logical operators\n",
    "\n",
    "The conditions evaluated in `if` statements are often built using **comparison operators**, which you have seen in the previous lesson: \n",
    "    `==`,`>`,`<`,`>=`,`<=`,`!=`.\n",
    "\n",
    "These conditions can be combined using **logical operators** :\n",
    "* **`and`**: combines 2 statements and returns `True` if both are `True`.\n",
    "* **`or`** : combines 2 statements and returns `True` if at least one is `True`.\n",
    "* **`in`** : returns `True` if the element to its left is found inside the container to its right (**`not in`** can be used to check the reverse).\n",
    "* **`not`** : inverts a `True` to `False` and vice-versa.\n",
    "* **`is`**  : returns `True` if two variable reference the same object - but we have not talked about this yet... (**`is not`** can be used to check the reverse).\n"
   ]
  },
  {
   "cell_type": "markdown",
   "metadata": {},
   "source": [
    "<br>\n",
    "\n",
    "**Example:** combine conditions with logical **`and`** and **`or`**."
   ]
  },
  {
   "cell_type": "code",
   "execution_count": null,
   "metadata": {},
   "outputs": [],
   "source": [
    "a = 7\n",
    "b = 22\n",
    "\n",
    "if a > 0 and b < 10 :\n",
    "    print('Both conditions satisfied.')\n",
    "\n",
    "if a > 0 or b < 10 :\n",
    "    print('At least 1 condition satisfied.')"
   ]
  },
  {
   "cell_type": "markdown",
   "metadata": {},
   "source": [
    "<br>\n",
    "\n",
    "**Example:** invert a condition with **`not`**."
   ]
  },
  {
   "cell_type": "code",
   "execution_count": null,
   "metadata": {},
   "outputs": [],
   "source": [
    "condition = False\n",
    "\n",
    "if not condition:\n",
    "    print('The condition is False... but the code bock is run because we inverted it with \"not\".')"
   ]
  },
  {
   "cell_type": "markdown",
   "metadata": {},
   "source": [
    "<br>\n",
    "\n",
    "**Example:** **`in`** and **`not in`**."
   ]
  },
  {
   "cell_type": "code",
   "execution_count": null,
   "metadata": {},
   "outputs": [],
   "source": [
    "a = 7\n",
    "l = [125, 7, 48, 52, 2, 22, 1]\n",
    "\n",
    "if a in l :\n",
    "    print(a, 'is in', l)\n",
    "else:\n",
    "    print(a, 'is absent from', l)\n",
    "\n",
    "word = \"shrubbery\"\n",
    "if \"x\" not in word:\n",
    "    print(\"There is no 'x' in '\", word, \"'\", sep=\"\")"
   ]
  },
  {
   "cell_type": "markdown",
   "metadata": {},
   "source": [
    "For **dictionaries**, the `in` operator applies to **key values**:"
   ]
  },
  {
   "cell_type": "code",
   "execution_count": null,
   "metadata": {},
   "outputs": [],
   "source": [
    "languages = {\"Python\": 1991, \"C\": 1972, \"C++\": 1983, \"R\": 1993}\n",
    "\n",
    "lang = \"Python\"\n",
    "if lang in languages:\n",
    "    print(\"The language\", lang, \"was released in\", languages[lang], \".\")\n",
    "else:\n",
    "    print(\"Unknown language:\", lang)"
   ]
  },
  {
   "cell_type": "markdown",
   "metadata": {},
   "source": [
    "<br>\n",
    "\n",
    "**Example:** Multiple logical operators can be combined into more complex conditions.  \n",
    "Note that using brackets is `()` sometimes necessary to indicate the precedence of operations (otherwise comparisons are carried-out from left to right)."
   ]
  },
  {
   "cell_type": "code",
   "execution_count": null,
   "metadata": {},
   "outputs": [],
   "source": [
    "a = 7\n",
    "b = 22\n",
    "l = [7, 125, 48, 52, 2, 22, 1]\n",
    "\n",
    "if a not in l or (a > 0 and b not in l):\n",
    "    print('Success')\n",
    "else:\n",
    "    print(\"This is false...\")"
   ]
  },
  {
   "cell_type": "markdown",
   "metadata": {
    "jp-MarkdownHeadingCollapsed": true
   },
   "source": [
    "\n",
    "<br>\n",
    "\n",
    "<div class=\"alert alert-block alert-success\">\n",
    "\n",
    "### Micro exercise 2 <a id='22'></a>\n",
    "* In the above code, set the value of `a` and/or `b` so that the whole expression becomes `True`.\n",
    "  \"Success\" should be printed when you execute the cell.\n",
    "\n",
    "<div>"
   ]
  },
  {
   "cell_type": "markdown",
   "metadata": {},
   "source": [
    "<br>\n",
    "<br>\n",
    "\n",
    "[Back to ToC](#toc)\n",
    "\n",
    "## Loops <a id='30'></a>\n",
    "\n",
    "**Loops** are very important code structures that allow to **repeatedly run a block of code** a certain number of times.  \n",
    "As in most programming languages, python has 2 types of loops:\n",
    "\n",
    "* **`for`** loops: repeats as many times as there are elements in a sequence of elements\n",
    "  (an **iterable**, in python lingo).\n",
    "* **`while`** loops: repeats as long as a defined condition evaluates to `True`.\n",
    "\n",
    "`for` loops are used when looping over pre-defined elements, and `while` loops when the number of times we need to repeat a loop is not known in advance.\n",
    "\n",
    "\n",
    "<br>\n",
    "\n",
    "### `for` loops <a id='31'></a>\n",
    "**`for` loops repeat as many times as there are elements in the given iterable** object (*i.e.* a container/sequence). Their structure is the following (note the indentation of the code, to indicate which lines are part of the loop):\n",
    "\n",
    "```python\n",
    "for x in iterable:\n",
    "    # do something...\n",
    "    # do more...\n",
    "    \n",
    "    # Repeat loop, each time updating the value of x to the next element in the iterable, \n",
    "    # until the end of the iterable is reached.\n",
    "```\n",
    "\n",
    "<br>\n",
    "\n",
    "Where `iterable` is an iterable (e.g. a `list`, `tuple` or `dict`), and `x` is the variable that will successively assume the values of the elements of the `iterable` during the loop's execution.\n",
    "\n",
    "* **Note:** you can use any variable name to represent the elements in the iterable\n",
    "  (here we use `x` you can use another name).\n",
    "* **Important:** don't forget the **`:`** at the end of the `for` loop line to indicate the start\n",
    "  of a code block.\n",
    "\n",
    "![image.png](img/for_loop_figure.png)\n",
    "\n",
    "<br>\n",
    "\n",
    "**Example:** iterate over a list and print each of its elements."
   ]
  },
  {
   "cell_type": "code",
   "execution_count": null,
   "metadata": {
    "scrolled": true
   },
   "outputs": [],
   "source": [
    "my_list = [1 , 47 , 59 , \"spam\"]\n",
    "\n",
    "for element in my_list:\n",
    "    print('element in list:', element)"
   ]
  },
  {
   "cell_type": "markdown",
   "metadata": {},
   "source": [
    "<br>\n",
    "\n",
    "**Example:** iterate over a dictionary's keys. Note that by default **dictionaries iterate overs keys**, not values."
   ]
  },
  {
   "cell_type": "code",
   "execution_count": null,
   "metadata": {},
   "outputs": [],
   "source": [
    "my_dict = {'a':34 , 'b':26 , 'c':456}\n",
    "\n",
    "for key in my_dict:\n",
    "    print(\"key\", key, \"has value\" , my_dict[key])"
   ]
  },
  {
   "cell_type": "markdown",
   "metadata": {},
   "source": [
    "<br>\n",
    "\n",
    "[Back to ToC](#toc)\n",
    "\n",
    "### `while` loops <a id='32'></a>\n",
    "\n",
    "**`while`** followed by an expression defines a block that is **repeatedly executed for as long as the given expression evaluates to `True`**.\n",
    "\n",
    "```python\n",
    "while condition:\n",
    "    # eat...\n",
    "    # code...\n",
    "    # sleep...\n",
    "    \n",
    "    # repeat as long as condition is `True`.\n",
    "```\n",
    "\n",
    "![image.png](img/while_loop_figure.png)\n",
    "\n",
    "<br>\n",
    "\n",
    "**Example:** execute a loop while the value of `i` is smaller than 10."
   ]
  },
  {
   "cell_type": "code",
   "execution_count": null,
   "metadata": {},
   "outputs": [],
   "source": [
    "i = 0                      # Initialize a counter.\n",
    "while i < 10:              # While the counter is less than 10, continue.\n",
    "    print('counter: ', i)\n",
    "    i += 1                 # Increment the counter: DO NOT FORGET that line or the loop becomes infinite!\n",
    "    # i = i + 1"
   ]
  },
  {
   "cell_type": "markdown",
   "metadata": {},
   "source": [
    "<br>\n",
    "\n",
    "**Example:** loops can be used to populate a container object such as a list."
   ]
  },
  {
   "cell_type": "code",
   "execution_count": null,
   "metadata": {},
   "outputs": [],
   "source": [
    "squares = []               # Define an empty list to be populated.\n",
    "i = 0                      # Initialize a counter.\n",
    "\n",
    "while i < 10: \n",
    "    squares.append(i**2)   # Add value to list.\n",
    "    i += 1                 # Increment the counter : DO NOT FORGET that line or the loop becomes infinite!\n",
    "    \n",
    "print(squares)"
   ]
  },
  {
   "cell_type": "markdown",
   "metadata": {},
   "source": [
    "Another example: find all occurences of a pattern in a string (automating the task we had in exercise 1.3)."
   ]
  },
  {
   "cell_type": "code",
   "execution_count": null,
   "metadata": {},
   "outputs": [],
   "source": [
    "seq = \"GTGCCCCTCGAGAGGAGGGCGCGCGCCGCGCGCTCGACGCGATCGGCGCTCAGCGAGCGAGCTCCTCGAAGCGATCCGCGCGCGCT\"\n",
    "pattern = \"CTCGA\"\n",
    "\n",
    "positions = []\n",
    "pos = seq.find(\"CTCGA\")\n",
    "\n",
    "# This loop will run as long as new matches are found...\n",
    "while pos != -1:\n",
    "    positions.append(pos)             # Add motif position to result list.\n",
    "    pos = seq.find(\"CTCGA\", pos + 1)  # Attempt to find another motif.\n",
    "\n",
    "print(positions)"
   ]
  },
  {
   "cell_type": "markdown",
   "metadata": {},
   "source": [
    "If you forget to increment your counter (or whatever thing you test for in the while loop), then you will face an **infinite loop**.  \n",
    "Your only solution is then to interrupt the code execution: \n",
    "* Jupyter : click on the \"interrupt the kernel\" square button at the top of the window.\n",
    "* Linux or MacOS console : `Ctrl-C`.\n",
    "* Windows console : `Ctrl-Break` or `Ctrl-Alt-Esc`, then find your process and kill it.\n",
    "\n",
    "Infinite loops can get particularly nasty if you also allocate memory within the loop (as we are doing when we `append` values to a list), since your program will start hogging all the memory from your machine. The silver lining is that the operating system will eventually kill it (so it's no longer infinite), but in the mean time it may slow down - or even freeze - your computer for some time..."
   ]
  },
  {
   "cell_type": "code",
   "execution_count": null,
   "metadata": {},
   "outputs": [],
   "source": [
    "i = 0\n",
    "x = 5\n",
    "while i < 10:\n",
    "    x += 1\n",
    "    print(\"stuck in an infinite loop...\")\n",
    "    \n",
    "    # Note the \"*\" in the Jupyter cell execution counter, indicating the cell is still running.\n",
    "    # Press on the \"interrupt the kernel\" square button at the top of the window."
   ]
  },
  {
   "cell_type": "markdown",
   "metadata": {},
   "source": [
    "\n",
    "<br>\n",
    "\n",
    "<div class=\"alert alert-block alert-success\">\n",
    "\n",
    "### Micro exercise 3<a id='33'></a>\n",
    "1. Use a `while` loop to create a list containing the multiples of 13 that are under 100. \n",
    "2. Then use a `for` loop to go though this list and print its elements.\n",
    "\n",
    "<div>"
   ]
  },
  {
   "cell_type": "code",
   "execution_count": null,
   "metadata": {},
   "outputs": [],
   "source": []
  },
  {
   "cell_type": "markdown",
   "metadata": {},
   "source": [
    "<br>\n",
    "<br>\n",
    "\n",
    "[Back to ToC](#toc)\n",
    "\n",
    "## Exercises 2.1 and 2.2 <a id='40'></a>\n"
   ]
  },
  {
   "cell_type": "markdown",
   "metadata": {},
   "source": [
    "<br>\n",
    "<br>\n",
    "\n",
    "[Back to ToC](#toc)\n",
    "\n",
    "## `for` loop tricks <a id='50'></a>\n",
    "-----------------------\n",
    "\n",
    "### Using the `range()` function to loop over a range of integers <a id='51'></a>\n",
    "\n",
    "The **`range()`** function takes between 1 and 3 integer arguments `range(start, stop, step)`:\n",
    "* `start`: start value for the range of values. Optional argument, by default it is `0`.\n",
    "* `stop`: excluded end-value, the only non optional argument.\n",
    "* `step`: the increment. Optional argument, by default it is `1`.\n",
    "\n",
    "The `range()` function returns a **range object** that contains integers from `start` (included) to `stop` **(excluded)** in increments of `step`.\n",
    "\n",
    "**`range` objects are iterables**, and therefore the `range()` function is frequently used in combination with a `for` loop.  \n",
    "\n",
    "> To save memory, **range objects** generate their values as they are needed (in this way they are similar to python **generators**) -\n",
    "> they do not generate them all at once. You can consider range objects as functions that produce a finite series of values that can\n",
    "> be iterated over (this class of objects is called **iterators**).\n",
    "\n",
    "<br>\n",
    "\n",
    "**Example:** `range` objects can easily be converted to `lists` or `tuples`."
   ]
  },
  {
   "cell_type": "code",
   "execution_count": null,
   "metadata": {},
   "outputs": [],
   "source": [
    "for x in range(10):\n",
    "    print(\"hello\", x)  # Note how x varies from 0 to 9. The \"stop\" value of the range, here \"10\", is excluded."
   ]
  },
  {
   "cell_type": "code",
   "execution_count": null,
   "metadata": {},
   "outputs": [],
   "source": [
    "print(list(range(10)))\n",
    "print(list(range(0, 10, 1)))\n",
    "print(list(range(1, 11)))\n",
    "print(list(range(10, 0, -1)))\n",
    "\n",
    "print(\"\\nType of object returned by range():\", type(range(0, 10, 1)))"
   ]
  },
  {
   "cell_type": "markdown",
   "metadata": {},
   "source": [
    "<br>\n",
    "\n",
    "**Example:** `range()` can be used to iterate over indices in a list... (but a better way to do it is to use the `enumerate()` function - see below)."
   ]
  },
  {
   "cell_type": "code",
   "execution_count": null,
   "metadata": {},
   "outputs": [],
   "source": [
    "my_list = [1 , 47 , 59 , 59]\n",
    "list_length = len(my_list)\n",
    "\n",
    "for i in range(list_length):\n",
    "    print('index =', i , ': value =', my_list[i])"
   ]
  },
  {
   "cell_type": "markdown",
   "metadata": {},
   "source": [
    "<br>\n",
    "\n",
    "### Using the `enumerate()` function to access a value and its index at the same time <a id='52'></a>\n",
    "\n",
    "The **`enumerate()`** function takes an **iterable** as argument and returns an object of class **enumerate**. This type of objects can be iterated over as if they were a list of `tuples` of the form `(index, value)`. It can also be converted to an actual list of `(index, value)` tuples using `list()`, as illustrated below.\n",
    "\n",
    "`enumerate()` is very useful when one needs to access both the element and its index in a list."
   ]
  },
  {
   "cell_type": "code",
   "execution_count": null,
   "metadata": {},
   "outputs": [],
   "source": [
    "my_list = [1 , 47 , 59 , 59]\n",
    "print(type(enumerate(my_list)))  # The enumerate() function returns an object of class \"enumerate\".\n",
    "print(list(enumerate(my_list)))  # Converts the enumerate object to a list of (index, value) tuples.\n"
   ]
  },
  {
   "cell_type": "markdown",
   "metadata": {},
   "source": [
    "<br>\n",
    "\n",
    "Without `enumerate()`, we would need to do something like:\n",
    "```python\n",
    "index = 0\n",
    "for element in my_list:\n",
    "    print('element' , element , 'is at index' , index)\n",
    "    index += 1\n",
    "\n",
    "# Or alternatively:\n",
    "for index in range(len(my_list)):\n",
    "    print('element' , my_list[index] , 'is at index' , index)\n",
    "```\n",
    "\n",
    "<br>\n",
    "\n",
    "Thanks to `enumerate()`, we can rewrite this in a more efficient and elegant manner:"
   ]
  },
  {
   "cell_type": "code",
   "execution_count": null,
   "metadata": {},
   "outputs": [],
   "source": [
    "my_list = [1 , 47 , 59 , 59]\n",
    "\n",
    "for index, element in enumerate(my_list):\n",
    "    print('element', element, 'is at index', index)"
   ]
  },
  {
   "cell_type": "markdown",
   "metadata": {},
   "source": [
    "<br>\n",
    "<br>\n",
    "\n",
    "<div class=\"alert alert-block alert-info\">\n",
    "\n",
    "### [Additional Material] Value unpacking\n",
    "\n",
    "* Assigning values of a sequence to multiples variables on a single line is known as **value unpacking**.\n",
    "\n",
    "\n",
    "    ```python \n",
    "    a, b, c = (1, 24, 33)\n",
    "    print(a)\n",
    "    print(b)\n",
    "    print(c)\n",
    "    ```\n",
    "    <br>\n",
    "\n",
    "\n",
    "* Value unpacking works with iterables and generator objects as well:\n",
    "\n",
    "    ```python\n",
    "    a, b, c = range(3)\n",
    "    print(a)  # -> 0\n",
    "    print(b)  # -> 1\n",
    "    print(c)  # -> 2\n",
    "    ```\n",
    "    <br>\n",
    "\n",
    "* More complex types of unpacking are also possible, such as assigning a range of values or assigning nested values.\n",
    "\n",
    "    ```python\n",
    "    # The first value is assigned to \"a\", and all subsequent values to \"b\" as a list.\n",
    "    a, *b = range(10)\n",
    "    print(a)  # -> 0\n",
    "    print(b)  # -> [1, 2, 3, 4, 5, 6, 7, 8, 9]\n",
    "\n",
    "    # Assignment of nested values.\n",
    "    a, (b, c) = [11, [23, 8]]\n",
    "    print(a)  # -> 11\n",
    "    print(b)  # -> 23\n",
    "    print(c)  # -> 8\n",
    "    ```\n",
    "\n",
    "</div>\n"
   ]
  },
  {
   "cell_type": "markdown",
   "metadata": {},
   "source": [
    "<br>\n",
    "\n",
    "### Using the `.items()` method to loop over dictionaries key and values <a id='53'></a>\n",
    "\n",
    "The **`.items()`** method of dictionaries returns a **`dict_items`** object, that can be iterated over as if it was a list of `(key, value)` tuples:"
   ]
  },
  {
   "cell_type": "code",
   "execution_count": null,
   "metadata": {},
   "outputs": [],
   "source": [
    "shopping_list = {\n",
    "    \"peach\":7, \n",
    "    \"pineapple\":20, \n",
    "    \"spam\":18, \n",
    "    \"egg\":105\n",
    "}\n",
    "\n",
    "# Let's see what the \"dict_items\" object contains:\n",
    "print(type(shopping_list.items()))         # The .items() method returns an object class 'dict_items'.\n",
    "print(list(shopping_list.items()), '\\n')   # It can be converted to list of tuples with the 'list()' function."
   ]
  },
  {
   "cell_type": "code",
   "execution_count": null,
   "metadata": {},
   "outputs": [],
   "source": [
    "# Print key and values in the dictionary.\n",
    "for food, count in shopping_list.items():\n",
    "    print(\"key '\", food, \"' has value '\", count, \"'\", sep='')\n",
    "    "
   ]
  },
  {
   "cell_type": "markdown",
   "metadata": {},
   "source": [
    "<br>\n",
    "<br>\n",
    "\n",
    "[Back to ToC](#toc)\n",
    "\n",
    "## Loop control : `break` and `continue` <a id='60'></a>\n",
    "-------------------------------------------------\n",
    "\n",
    "These two keywords can help you control the flow of your loops:\n",
    "* **`break`**: exit the current loop block.\n",
    "* **`continue`**: skip the rest of the current iteration of the loop block to the beginning of the next iteration.\n",
    "\n",
    "<br>\n",
    "\n",
    "**Example:** illustration of the difference between `break` and `continue`."
   ]
  },
  {
   "cell_type": "code",
   "execution_count": null,
   "metadata": {},
   "outputs": [],
   "source": [
    "print(\"Loop with 'break':\")\n",
    "\n",
    "for x in range(1, 11):\n",
    "    if x % 3 == 0:\n",
    "        break        # The loop will exit when x == 3.\n",
    "    print(x)\n"
   ]
  },
  {
   "cell_type": "code",
   "execution_count": null,
   "metadata": {
    "scrolled": true
   },
   "outputs": [],
   "source": [
    "print(\"Loop with 'continue':\")\n",
    "\n",
    "for x in range(1, 11):\n",
    "    if x % 3 == 0:\n",
    "        continue       # The remainder of the loop is skipped when x is a multiple of 3.\n",
    "    print(x)\n"
   ]
  },
  {
   "cell_type": "markdown",
   "metadata": {},
   "source": [
    "<br>\n",
    "\n",
    "**Example of `break`**: find the first vowel of a sentence."
   ]
  },
  {
   "cell_type": "code",
   "execution_count": null,
   "metadata": {},
   "outputs": [],
   "source": [
    "sentence = \"This is a sentence. This is another sentence\"\n",
    "\n",
    "firstVowel = ''\n",
    "for c in sentence:         # Remember that strings are sequences of letters, so they can be iterated over.\n",
    "    if c in 'aeiouy':      # Test if letter is a vowel.\n",
    "        firstVowel = c\n",
    "        break              # Break after first vowel is found, to avoid testing all other letters.      \n",
    "    \n",
    "print(\"The first vowel is:\", firstVowel)"
   ]
  },
  {
   "cell_type": "markdown",
   "metadata": {},
   "source": [
    "<br>\n",
    "\n",
    "**Example of `continue`**: compute the fraction of vowels in the sentence (ignoring spaces and punctuations)."
   ]
  },
  {
   "cell_type": "code",
   "execution_count": null,
   "metadata": {},
   "outputs": [],
   "source": [
    "sentence = \"This is a sentence. This is another sentence\"\n",
    "nb_letters = 0\n",
    "nb_vowels = 0\n",
    "\n",
    "for c in sentence:     \n",
    "    if not c.isalpha():   # Test if the character is an letter or not.\n",
    "        continue          # If it is not, skip the rest of the current iteration of the loop.\n",
    "    \n",
    "    nb_letters += 1       # Increment the letter counter.\n",
    "    if c in 'aeiouy':     # Test if the current character is a vowel.\n",
    "        nb_vowels += 1    # Increment the vowel counter.\n",
    "\n",
    "print(\"The fraction of vowels is:\" , round(nb_vowels / nb_letters * 100, 1), \"%\" )"
   ]
  },
  {
   "cell_type": "markdown",
   "metadata": {},
   "source": [
    "> **Note:**  \n",
    "> In many cases, it can be argued that a `break` or a `continue` could be replaced by an `if ... else` structure or a different loop.  \n",
    "> Choose one option or the other depending on what seems to make sense to you and leads to clear, tidy and easy-to-understand code.\n",
    ">\n",
    "> For example, the small loop we saw earlier:\n",
    ">\n",
    ">  ```python\n",
    ">  for x in range(1, 11):\n",
    ">      if x % 3 == 0:\n",
    ">          continue\n",
    ">      print(x)\n",
    ">  ```\n",
    "> <br>\n",
    "> \n",
    "> Can also be written this without `continue`, and would arguably be a better solution in that case:\n",
    "> \n",
    ">  ```python\n",
    ">  for x in range(1, 11):\n",
    ">      if x % 3 != 0:\n",
    ">          print(x)\n",
    ">  ```\n",
    ">  <br>\n",
    ">\n",
    "> But if the loop contains a lot of code, then `continue` can be useful to make it more readable\n",
    "> and avoid having to indent the whole content of the loop by one additional level.\n",
    ">\n",
    "> * It is up to developers to write their code so that it **performs properly** but is also\n",
    ">   **as easy as possible to understand, maintain, and extend**."
   ]
  },
  {
   "cell_type": "markdown",
   "metadata": {},
   "source": [
    "<br>\n",
    "<br>\n",
    "\n",
    "[Back to ToC](#toc)\n",
    "\n",
    "## Exercise 2.3 <a id='70'></a>\n"
   ]
  },
  {
   "cell_type": "markdown",
   "metadata": {},
   "source": [
    "<br>\n",
    "<br>\n",
    "\n",
    "[Back to ToC](#toc)\n",
    "\n",
    "## Writing your own functions <a id='80'></a>\n",
    "-------------------------------------\n",
    "\n",
    "In the first lesson we have already used a few of python's built-in functions: `help()`,`print()`,`len()`, ... , as well as some objects methods, which are functions as well.\n",
    "\n",
    "While it is recommended to use python's built-in functions when available (they will almost always be much faster than your own code), they obviously do not cover all the possible functionalities we might need. This is why it is really useful to be able to write our own functions!\n",
    "\n",
    "> Why and when to write functions:\n",
    "> * To **avoid code duplications:** having the same (or similar) lines of code repeating multiple times in your code is an indication\n",
    ">   this logic should be encapsulated in a function (DRY principle - Do not Repeat Yourself).\n",
    "> * To **organize code**: even if a function is used only once, organizing code in functions can help to structure your code, making\n",
    ">   it easier to read and manage.\n",
    "\n",
    "<br>\n",
    "\n",
    "In python, **functions are declared using the `def` keyword**, followed by the name of the function, brackets `()` where arguments can be specified, and finally a column `:` character.\n",
    "\n",
    "```python\n",
    "def function_name(argument_1, argument_2):\n",
    "    \"\"\"Documentation for the function - This is optional.\"\"\"\n",
    "    # Function code starts here...\n",
    "    # Each line must be indented (ideally with 4 spaces).\n",
    "    \n",
    "```\n",
    "\n",
    "<br>\n",
    "\n",
    "**Example:** Basic function that takes no arguments and simply prints something to the screen. "
   ]
  },
  {
   "cell_type": "code",
   "execution_count": null,
   "metadata": {},
   "outputs": [],
   "source": [
    "def greetings():\n",
    "    print(\"greetings, stranger!\")\n",
    "\n",
    "# Let's try to call our new function.\n",
    "greetings()\n",
    "greetings()\n",
    "greetings()"
   ]
  },
  {
   "cell_type": "markdown",
   "metadata": {},
   "source": [
    "<br>\n",
    "\n",
    "### Function arguments <a id='81'></a>\n",
    "\n",
    "Our above `greetings()` function has no arguments - no variable is defined between the `()` in its declaration. While not  a problem *per se*, it limits the usefulness and flexibility of the function, since it will always do the exact same thing each time we call it.\n",
    "\n",
    "Here is a variation of this function, with a `name` **argument** added.\n",
    "* An **argument** is a value that is passed to a function, can be used in the function as a variable that can make its behavior change.\n",
    "* If there is more than 1 argument, **arguments are separated by commas `,`**."
   ]
  },
  {
   "cell_type": "code",
   "execution_count": null,
   "metadata": {
    "scrolled": true
   },
   "outputs": [],
   "source": [
    "def greetings_personalised(name):\n",
    "    print(\"greetings,\", name)\n",
    "\n",
    "# Let's try to call our new function with different argument values.\n",
    "greetings_personalised(\"Bob\")\n",
    "greetings_personalised(\"Alice\")"
   ]
  },
  {
   "cell_type": "markdown",
   "metadata": {},
   "source": [
    "<br>\n",
    "\n",
    "Functions arguments can be either **positional** or **optional**:\n",
    "* **Positional arguments** are compulsory: the function cannot be called without them.\n",
    "* **Optional arguments** are - you guessed it - optional. They **have a default value** that is used\n",
    "  when the function is called without a value passed to the argument.\n",
    "\n",
    "When defining a function: \n",
    "* Optional arguments are created by assigning them a default value using the `=` operator.\n",
    "* Optional arguments must always be given **after positional arguments**.\n"
   ]
  },
  {
   "cell_type": "code",
   "execution_count": null,
   "metadata": {},
   "outputs": [],
   "source": [
    "def greetings_personalised(name, day_of_week = \"Sunday\"):\n",
    "    print(\"greetings, \" + name + \". Have a good \" + day_of_week)\n",
    "\n",
    "# Let's try to call our new function with different argument values.\n",
    "greetings_personalised(\"Alice\")\n",
    "greetings_personalised(\"Bob\", \"Monday\")\n",
    "greetings_personalised(\"Bob\", day_of_week=\"Tuesday\")"
   ]
  },
  {
   "cell_type": "markdown",
   "metadata": {},
   "source": [
    "<br>\n",
    "\n",
    "When calling a function:\n",
    "* Arguments are **separated by commas**: `test_function(arg_1, arg_2, arg_3)`.\n",
    "* **Positional arguments** must be passed **in the correct order** and **before** optional arguments.\n",
    "* When all arguments are passed by name, optional arguments can be passed before positional ones\n",
    "  (i.e. the order of arguments doesn't matter).\n",
    "\n",
    "**Examples:**\n",
    "\n",
    "* **OK** - order does not matter if all arguments are passed by name."
   ]
  },
  {
   "cell_type": "code",
   "execution_count": null,
   "metadata": {},
   "outputs": [],
   "source": [
    "greetings_personalised(name=\"Bob\", day_of_week=\"Wednesday\")\n",
    "greetings_personalised(day_of_week=\"Thursday\", name=\"Bob\")"
   ]
  },
  {
   "cell_type": "markdown",
   "metadata": {},
   "source": [
    "<br>\n",
    "\n",
    "* **Not OK** - this call to the function is valid, but **does not produce the output we want**."
   ]
  },
  {
   "cell_type": "code",
   "execution_count": null,
   "metadata": {},
   "outputs": [],
   "source": [
    "greetings_personalised(\"Friday\", \"Bob\")"
   ]
  },
  {
   "cell_type": "markdown",
   "metadata": {},
   "source": [
    "<br>\n",
    "\n",
    "* **Not OK** - passing named arguments before positional arguments **raises a `SyntaxError` error**."
   ]
  },
  {
   "cell_type": "code",
   "execution_count": null,
   "metadata": {},
   "outputs": [],
   "source": [
    "greetings_personalised(day_of_week=\"Friday\", \"Bob\")"
   ]
  },
  {
   "cell_type": "markdown",
   "metadata": {},
   "source": [
    "\n",
    "<br>\n",
    "\n",
    "<div class=\"alert alert-block alert-success\">\n",
    "    \n",
    "### Micro exercise 4: <a id='82'></a>\n",
    "* Write a function named `print_to_screen` that takes a string as input, and prints it to the terminal.\n",
    "  Then run it with a string of your choice.\n",
    "* Add an optional argument named `reverse`, that, when set to `True`, will print the input in reverse\n",
    "  order, i.e. from last to first character. The default value for the argument should be `False`.\n",
    "  Try running it on the string `\"!nuf si nohtyp\"`.\n",
    "\n",
    "<div>"
   ]
  },
  {
   "cell_type": "code",
   "execution_count": null,
   "metadata": {},
   "outputs": [],
   "source": []
  },
  {
   "cell_type": "markdown",
   "metadata": {},
   "source": [
    "<br>\n",
    "<br>\n",
    "\n",
    "[Back to ToC](#toc)\n",
    "\n",
    "### Function return values <a id='83'></a>\n",
    "We might not have realized it from our examples so far, but all functions in python have a **return value**.\n",
    "\n",
    "A return value is what the code calling the function receives from it. It is specified in the function using the **`return` keyword**:\n",
    "* The **`return`** statement is what allows the code to get something from a function.\n",
    "* If no explicit return is made by the function, it returns **`None` by default**.\n",
    "* **Whenever a `return` statement is reached** during code execution, **the function exits**.\n",
    "* A function can have **multiple return statements**.\n",
    "* When writing a function with multiple return statements, it is best practice to **always return the \n",
    "  same type** of objects (e.g. always strings, always integers).\n",
    "  \n",
    "<br>\n",
    "  \n",
    "**Example:** function that **returns `None`**"
   ]
  },
  {
   "cell_type": "code",
   "execution_count": null,
   "metadata": {},
   "outputs": [],
   "source": [
    "def greetings_personalised(name):\n",
    "    print(\"greetings,\", name)\n",
    "    # return None                 # This is implicit: when no return statement is given, a function returns None.\n",
    "\n",
    "return_value = greetings_personalised(\"Alice\")\n",
    "print(\"The return value of our function is:\", return_value)"
   ]
  },
  {
   "cell_type": "markdown",
   "metadata": {},
   "source": [
    "<br>\n",
    "\n",
    "**Example:** function that takes 2 arguments and returns their product:"
   ]
  },
  {
   "cell_type": "code",
   "execution_count": null,
   "metadata": {},
   "outputs": [],
   "source": [
    "def multiply(arg1, arg2):\n",
    "    result = arg1 * arg2\n",
    "    return result\n",
    "    \n",
    "value_1 = 2\n",
    "value_2 = 3\n",
    "value_3 = 10\n",
    "result_1 = multiply(value_1, value_2)\n",
    "result_2 = multiply(value_1 + value_2, value_3)\n",
    "\n",
    "print(\"The result of\", value_1, \"*\", value_2, \"is\", result_1)\n",
    "print(\"The result of\", value_1 + value_2, \"*\", value_3, \"is\", result_2)"
   ]
  },
  {
   "cell_type": "markdown",
   "metadata": {},
   "source": [
    "<br>\n",
    "\n",
    "**Returning multiple values:**\n",
    "* Python automatically returns a **tuple of values** when multiple values are given to `return`.\n",
    "* Alternatively, one can also return a container/sequence type of objects, e.g. `tuple`, `list`, `dict`, ...\n",
    "\n",
    "\n",
    "**Example:** function that takes no argument, and returns 2 values as a tuple.  \n",
    "Here `return user_name, password` is returned as a tuple of 2 values `(user_name, password)`."
   ]
  },
  {
   "cell_type": "code",
   "execution_count": null,
   "metadata": {},
   "outputs": [],
   "source": [
    "# Note: this is for demonstration purpose only. Please do not use this function\n",
    "# to ask for a password in a production service.\n",
    "\n",
    "def get_username_and_password():\n",
    "    user_name = input(\"Please enter your name: \")\n",
    "    password = input(\"Please enter your password: \")\n",
    "    return user_name, password\n",
    "\n",
    "return_value = get_username_and_password()\n",
    "print(\"The return value is:\", return_value)\n",
    "\n",
    "name = return_value[0]\n",
    "pwd = return_value[1]\n",
    "print(name + \"'s password is '\" + pwd + \"' (but don't tell anyone!)\")\n",
    "\n"
   ]
  },
  {
   "cell_type": "markdown",
   "metadata": {},
   "source": [
    "<br>\n",
    "\n",
    "**Tip:** if a function returns multiple values, we can use **value unpacking** to assign them to multiple variables in a single statement."
   ]
  },
  {
   "cell_type": "code",
   "execution_count": null,
   "metadata": {},
   "outputs": [],
   "source": [
    "name, pwd = get_username_and_password()\n",
    "print(name + \"'s password is '\" + pwd + \"' (but don't tell anyone!)\")"
   ]
  },
  {
   "cell_type": "markdown",
   "metadata": {},
   "source": [
    "<br>\n",
    "\n",
    "### Docstring - a function's documentation <a id='84'></a>\n",
    "The **docstring** (documentation string) is a triple-quoted string that can be written on one or more lines at the very start of a function. Its sole purpose is to document the function, it does not have any effect when the function is run:\n",
    "* The docstring content is documentation for people using your function (and maybe yourself in the future).\n",
    "* It is displayed when `help()` is run on a function."
   ]
  },
  {
   "cell_type": "code",
   "execution_count": null,
   "metadata": {},
   "outputs": [],
   "source": [
    "def multiply(arg1, arg2):\n",
    "    \"\"\"Function that returns the product of arg1 and arg2\n",
    "    Works both with integers and float values.\n",
    "    \"\"\"\n",
    "    result = arg1 * arg2\n",
    "    return result\n",
    "\n",
    "help(multiply)"
   ]
  },
  {
   "cell_type": "markdown",
   "metadata": {},
   "source": [
    "<br>\n",
    "\n",
    "[Back to ToC](#toc)\n",
    "\n",
    "### Beware of namespaces <a id='85'></a>\n",
    "\n",
    "A **namespace** is a mapping (link) from names (variable names) to objects (the content of the variable).\n",
    "\n",
    "Multiple namespaces exist in a python session:\n",
    "* **Built-in namespace**: contains all of Python’s built-in objects (variables and functions). These are the objects that are available\n",
    "  by default in every python session (e.g. the `len()` function and the `int()` class).\n",
    "* **Global namespace**: contains objects defined in the \"main section\" of your code (i.e. not within a\n",
    "  function).\n",
    "* **Local namespace**: contains objects defined inside a function.\n",
    "\n",
    "<br>\n",
    "\n",
    "Thus, while a function has access to the **built-in** and **global** namespaces, it also defines its own **local namespace** where all the variables defined inside the function live.\n",
    "\n",
    "<div class=\"alert alert-block alert-info\">\n",
    "\n",
    "**[Additional Material]** The content of the different namespaces can be listed using the following functions:\n",
    "* `dir(__builtins__)` [Built-in namespace]\n",
    "* `globals()` [Global namespace]\n",
    "* `locals()` [local namespace].\n",
    "\n",
    "</div>"
   ]
  },
  {
   "cell_type": "markdown",
   "metadata": {},
   "source": [
    "<br>\n",
    "\n",
    "**Example:**"
   ]
  },
  {
   "cell_type": "code",
   "execution_count": null,
   "metadata": {},
   "outputs": [],
   "source": [
    "# Create variables \"x\" and \"Y\" in the global namespace (outside of the function).\n",
    "x = 5\n",
    "y = 23\n",
    "\n",
    "def function():\n",
    "    print(\"Inside of this function, the value of x is:\", x)\n",
    "    y = 7\n",
    "    z = 8\n",
    "    print(\"Inside of this function, the value of y is:\", y)\n",
    "\n",
    "# Calling the function:\n",
    "# The value of \"y\" that is printed is the value as defined inside the function.\n",
    "function()\n",
    "\n",
    "# Let's now see what is the value of \"y\" outside the function...\n",
    "print('The value of y outside the function is:', y)"
   ]
  },
  {
   "cell_type": "code",
   "execution_count": null,
   "metadata": {},
   "outputs": [],
   "source": [
    "# Let's now try to access \"z\" outside of the function...\n",
    "print(\"The value of 'z' outside the function is:\", z)    # -> raises NameError !"
   ]
  },
  {
   "cell_type": "markdown",
   "metadata": {},
   "source": [
    "<br>\n",
    "\n",
    "What happens is that:\n",
    "* The function can access `x`, because it is part of the **global namespace**.  \n",
    "* `z` was only defined inside of the function, and is therefore restricted to the **functions's namespace**. \n",
    "  It cannot be accessed from outside the function.\n",
    "\n",
    "> <span style=\"color:blue\"> Although it is possible, it is generally considered bad practice to \n",
    "    access variables that were created outside a function from inside a function. \n",
    "    Instead, one should use arguments to \"pass\" values to functions.    \n",
    "    The reason for this is that it makes code more error prone and harder to debug or reuse if a\n",
    "    function depends on its context, then I cannot simply copy/paste it to into another code...\n",
    "</span>.\n",
    "\n",
    "\n",
    "\n",
    "<br>\n",
    "\n",
    "If a (variable) name exists in multiple namespaces, the precedence order is **Local > Global > Built-in**. For this reason, you should **never create a variable that has the same name as a built-in variable**, as this will override the built-in variable with the one you created.\n",
    "\n",
    "* **Example** of what **NOT TO DO**: here we define a variable named `list` in our Global namespace, thereby overriding\n",
    "  the `list` name (variable) from the Built-in namespace.\n",
    "  The next time we try to use `list()` to create a list, disaster strikes..."
   ]
  },
  {
   "cell_type": "code",
   "execution_count": null,
   "metadata": {},
   "outputs": [],
   "source": [
    "print(\"In the built-in namespace, 'list' is:\", list)\n",
    "\n",
    "# Create a variable named \"list\" in the Global namespace.\n",
    "# This variable will now override the name \"list\" from the Built-in namespace.\n",
    "list = [\"how should\", \"I\", \"name\", \"my variable?\", \"It's a list, so how about list?\"]\n",
    "print(list)"
   ]
  },
  {
   "cell_type": "code",
   "execution_count": null,
   "metadata": {},
   "outputs": [],
   "source": [
    "# If we now try to use the Built-in \"list\" class we get an error because\n",
    "# the value of \"list\" from the Global namespace is user instead.\n",
    "sequence = list(range(10))"
   ]
  },
  {
   "cell_type": "code",
   "execution_count": null,
   "metadata": {},
   "outputs": [],
   "source": [
    "# To fix the problem, delete the \"list\" variable from the Global namespace so\n",
    "# that the \"list\" from the Built-in namespace becomes available again.\n",
    "del list\n",
    "print(\"'list' is now again:\", list)"
   ]
  },
  {
   "cell_type": "markdown",
   "metadata": {},
   "source": [
    "<br>\n",
    "\n",
    "[Back to ToC](#toc)\n",
    "\n",
    "### Summary: <a id='86'></a>\n",
    "\n",
    "The following are the crucial parts of a function:\n",
    "* Its **name**.\n",
    "* Its **arguments**: what it receives from the caller of the function. Arguments can be \n",
    "  **positional** or **optional**.\n",
    "* Its **return value**: what the caller gets from the function. It is specified in the function using the\n",
    "  `return` keyword. If no `return` is made by the function, it returns `None` by default.\n",
    "* The code inside the function. Must be indented.\n",
    "* While optional, it is good practice to provide a **docstring** to document your functions.\n",
    "\n",
    "```python\n",
    "def my_first_function(argument_1, argument_2 = 10):\n",
    "    \"\"\"Docstring: one or more lines of text that describe the function.\n",
    "    \n",
    "    The docstring content is documentation for people using your function.\n",
    "    It is displayed when running help() on your function.\n",
    "    \"\"\"\n",
    "       \n",
    "    # Do something with the input arguments...\n",
    "    result = argument_1 + argument_2\n",
    "    \n",
    "    # Return a value...\n",
    "    return result\n",
    "```\n",
    "\n",
    "<br>\n",
    "\n",
    "> **Note:** the function's name and argument list is often referred-to as the **signature** of the function.  \n",
    "> In our example above, the signature would be: `my_first_function(argument_1, argument_2 = 10)`"
   ]
  },
  {
   "cell_type": "markdown",
   "metadata": {},
   "source": [
    "\n",
    "<br>\n",
    "\n",
    "<div class=\"alert alert-block alert-success\">\n",
    "\n",
    "### Micro exercise 5<a id='87'></a>\n",
    "* Write a function that takes a number and returns its square (for example, if you give it 12 it should return 144).\n",
    "    \n",
    "<div>"
   ]
  },
  {
   "cell_type": "code",
   "execution_count": null,
   "metadata": {},
   "outputs": [],
   "source": []
  },
  {
   "cell_type": "markdown",
   "metadata": {},
   "source": [
    "<br>\n",
    "<br>\n",
    "\n",
    "[Back to ToC](#toc)\n",
    "\n",
    "## Exercise 2.4 <a id='90'></a>\n",
    "\n",
    "<br>\n",
    "\n",
    "If you have time, feel tree to do the **additional exercises**."
   ]
  }
 ],
 "metadata": {
  "kernelspec": {
   "display_name": "Python 3",
   "language": "python",
   "name": "python3"
  },
  "language_info": {
   "codemirror_mode": {
    "name": "ipython",
    "version": 3
   },
   "file_extension": ".py",
   "mimetype": "text/x-python",
   "name": "python",
   "nbconvert_exporter": "python",
   "pygments_lexer": "ipython3",
   "version": "3.7.4"
  }
 },
 "nbformat": 4,
 "nbformat_minor": 4
}
