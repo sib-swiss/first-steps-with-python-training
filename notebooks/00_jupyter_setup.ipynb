{
 "cells": [
  {
   "cell_type": "markdown",
   "metadata": {},
   "source": [
    "# Module 0 - Getting started with Jupyter Notebooks and Conda\n",
    "---------------------------------------------------------------------------------------------\n",
    "\n",
    "### Table of Content <a id='toc'></a>\n",
    "\n",
    "**[Introduction to Jupyter Notebook](#1)**  \n",
    "&nbsp;&nbsp;&nbsp;&nbsp;[Command vs Edit mode](#1.1)  \n",
    "&nbsp;&nbsp;&nbsp;&nbsp;[Code cells: order of execution](#1.2)  \n",
    "\n",
    "**[Markdown basics](#2)**  \n",
    "\n",
    "**[Jupyter shortcuts and \"magic\" commands](#3)**  \n",
    "&nbsp;&nbsp;&nbsp;&nbsp;[Useful jupyter notebooks shortcuts](#3.1)  \n",
    "&nbsp;&nbsp;&nbsp;&nbsp;[Jupyter \"magic\" commands](#3.2)  \n",
    "&nbsp;&nbsp;&nbsp;&nbsp;[Ready !](#3.3)  \n",
    "\n",
    "**[Exercises](#5)**  \n",
    "&nbsp;&nbsp;&nbsp;&nbsp;[exercise 0.1](#5.1)  \n",
    "&nbsp;&nbsp;&nbsp;&nbsp;[exercise 0.2](#5.2)  \n",
    "\n",
    "**[Additional Material](#6)**  \n",
    "&nbsp;&nbsp;&nbsp;&nbsp;[Restarting the Jupyter Notebook kernel](#6.1)  \n",
    "&nbsp;&nbsp;&nbsp;&nbsp;[Configuring Jupyter](#6.2)  "
   ]
  },
  {
   "cell_type": "markdown",
   "metadata": {},
   "source": [
    "<br>\n",
    "\n",
    "## Introduction to Jupyter Notebook <a id='1'></a>\n",
    "---------------------------------------------\n",
    "\n",
    "Jupyter Notebooks are made of a successions of **cells**, that contain either code or text/comments. The type of a cell (`Code`, `Markdown` or `Raw`) can be set via the drop-down menu found at the top of the notebook, and determines what happens when the cell is **run**:\n",
    "* **Code** cells: the content of code cells is executed as **python code** (e.g. the cell below this one).\n",
    "* **Markdown** cells: when run, these cells are rendered as [markdown text](https://www.markdownguide.org/getting-started) (e.g. the current cell is a markdown cell). Markdown cells are used to **comment** your code.\n",
    "* **Raw** cells: when run the text in these cells is simply left as is. We will not be using this type of cells in this course."
   ]
  },
  {
   "cell_type": "code",
   "execution_count": null,
   "metadata": {},
   "outputs": [],
   "source": [
    "# This is a Code cell.\n",
    "\n",
    "# Short comments can be added to code cells by starting a line with a \"#\" character, \n",
    "# but in general comments for your notebook are best put in Markdown cells.\n",
    "\n",
    "greetings = \"Hello, world!\"\n",
    "print(greetings)"
   ]
  },
  {
   "cell_type": "markdown",
   "metadata": {},
   "source": [
    "<br>\n",
    "\n",
    "### Running/executing cells\n",
    "\n",
    "To run the content of the currently selected cell, you can either:\n",
    "* Click on the \"Run\" button at the top of the Jupyter Notebook.\n",
    "* Press the `Ctrl + Enter` key combination.\n",
    "* Press the `Shift + Enter` key combination. This will run the cell and select the next cell.\n"
   ]
  },
  {
   "cell_type": "markdown",
   "metadata": {},
   "source": [
    "<br>\n",
    "\n",
    "### Command vs Edit mode <a id='1.1'></a>\n",
    "\n",
    "In a Jupyter Notebook, a cell can be in either of 2 modes:\n",
    "* In **command mode**, a cell has a **blue left-border** and is (generally) in its run/rendered state: code cells are executed and markdown cells are rendered. In this mode, input from the keyboard does not affect the content of the cell, but is instead interpreted by Jupyter as shortcuts (see below for a list shortcuts).\n",
    "* In **edit mode**, a cell has a **green border**. In this mode, input from the keyboard is interpreted as characters to be typed into the cell.\n",
    "\n",
    "<br>\n",
    "\n",
    "Switching between edit and command modes:\n",
    "* **To enter edit mode:** press \"Enter\" on your keyboard, or by double clicking the cell with the mouse pointer.\n",
    "* **To exit edit mode:** run the cell or press the \"Esc\" key on your keyboard (this will exit edit mode without running the cell).\n"
   ]
  },
  {
   "cell_type": "markdown",
   "metadata": {},
   "source": [
    "<br>\n",
    "\n",
    "### Code cells: order of execution <a id='1.2'></a>\n",
    "\n",
    "For code cells, the **order in which they are run matters**:\n",
    "* Code cells affect your python environment (e.g. by adding or modifying a variable)\n",
    "  **in the order in which they are run** - not in the order in which they appear in the Notebook.\n",
    "  Although, in practice, cells are often run in order they appear in the Notebook (i.e. top to bottom).\n",
    "* The order in which cells have been run can be seen by looking at the number in square brackets, e.g. `[3]`,\n",
    "  located to the left of the cell.\n",
    "  \n",
    "**Example:** if you have run the code cell above that defines the `greetings` variable, then the cell below will execute as expected. But if you did not run it (you can simulate it by going to **Kernel** > **Restart** in the top menu), then trying to execute the following cell will raise an error:"
   ]
  },
  {
   "cell_type": "code",
   "execution_count": null,
   "metadata": {},
   "outputs": [],
   "source": [
    "print(greetings)"
   ]
  },
  {
   "cell_type": "markdown",
   "metadata": {},
   "source": [
    "Similarly, if your run the code cell below (that re-defines `greetings`), and then run the above code cell again, the printed message will be different, because executing the cell below will have overwritten the `greetings` variable in your python session."
   ]
  },
  {
   "cell_type": "code",
   "execution_count": null,
   "metadata": {},
   "outputs": [],
   "source": [
    "greetings = \"O Knights of Ni, you are just and fair, and we will return with a shrubbery.\""
   ]
  },
  {
   "cell_type": "markdown",
   "metadata": {},
   "source": [
    "<br>\n",
    "<br>\n",
    "\n",
    "[Back to ToC](#toc)\n",
    "\n",
    "## Markdown basics <a id='2'></a>\n",
    "\n",
    "[Markdown](https://www.markdownguide.org/getting-started) is a lightweight markup language used to add formatting to plain text.\n",
    "\n",
    "> **What is Markdown?**\n",
    "> Markdown is a lightweight markup language that can be used to add formatting to plain text text\n",
    "> documents. Created in 2004, Markdown is now one of the world’s most popular markup languages.\n",
    "> \n",
    "> Here-below we provide an overview of basic Markdown formatting. If you are interested in learning more,\n",
    "> here are some external resources:\n",
    "> * [Markdown syntax](https://www.markdownguide.org/basic-syntax)\n",
    "> * [Markdown tutorial](https://www.markdowntutorial.com).\n",
    "\n",
    "<br>\n",
    "\n",
    "Text in markdown cells can be formatted using standard markdown syntax. If you are unfamiliar with it, here is a short primer to get you started:\n",
    "* Starting a line with 1 to 5 `#` characters creates headers. Lower number of `#` indicate higher\n",
    "  levels of headings.\n",
    "  ```\n",
    "  # Main header (level 1)\n",
    "  ## Level 2 header\n",
    "  ### Level 3 header\n",
    "  #### Level 4 header\n",
    "  ##### Level 5 header (lowest level of header)\n",
    "  ```\n",
    "* Text quoted in `**double stars**` or `__double underscores__` is **rendered in bold**.\n",
    "* Text quoted in `*single stars*` or `_single underscores_` is _rendered in italic_.\n",
    "* Text quoted in \\`single backticks\\` is `rendered as inline code`.\n",
    "* Text quoted in triple backticks \\`\\`\\` is rendered as a code block (can be python or other languages), \n",
    "  as illustrated here. Note that the cell must be in edit mode for you to see the backticks.  \n",
    "  **Important:** this type of code is _**not**_ executed when a Markdown cell is run.\n",
    "\n",
    "    ```py\n",
    "    # This is rendered as a code block, but this code is not executed. \n",
    "    greetings = \"Hello, world!\"\n",
    "    print(greetings)\n",
    "    ```\n",
    "\n",
    "* Starting a line with a single star **`* `** + space, or dash **`- `** + space, creates a\n",
    "  bullet point  list (just like this line).\n",
    "* Starting a line with **`1. `**, **`2. `**, **`3. `**, etc. to create numbered lists. Example:\n",
    "\n",
    "    ```\n",
    "    This will render as a bullet point list: \n",
    "    * first bullet in list.\n",
    "    * second bullet.\n",
    "    * third bullet.\n",
    "    * ...\n",
    "\n",
    "    This will render as a numbered list: \n",
    "    1. first item in list.\n",
    "    2. second item.\n",
    "    3. third item.\n",
    "    ```\n",
    "\n",
    "* Starting a line with **`> `** will display it in \"quote\" formatting. This slightly indents the line and adds \n",
    "  a grey bar to its left, as in this example:\n",
    "  \n",
    "  > Ignorance more frequently begets confidence than does knowledge. *Charles Darwin*"
   ]
  },
  {
   "cell_type": "markdown",
   "metadata": {},
   "source": [
    "<br>\n",
    "<br>\n",
    "\n",
    "[Back to ToC](#toc)\n",
    "\n",
    "## Jupyter shortcuts and \"magic\" commands <a id='3'></a>\n",
    "\n",
    "### Useful jupyter notebooks shortcuts <a id='3.1'></a>\n",
    "* **Double-click** a cell, or press **Enter**, to enter edit mode. \n",
    "* Press **Shift-Enter** or **Ctrl-Enter** to \"run\" a cell: if the cell contains python code, the code \n",
    "  will be executed. If the cell contains markdown text, the text will be rendered.  \n",
    "  * **Shift-Enter**: after running the cell, the focus will move to the next cell below.\n",
    "  * **Ctrl-Enter**: after running the cell, the focus stays on the same cell (useful to quickly check\n",
    "    your Markdown formatting, then continue editing the same cell again by pressing **Enter**).\n",
    "* Press **Esc** (escape key) to exit edit mode without running the cell.\n",
    "* Press **h** (as in **h**elp) to display a list of all shortcuts.\n",
    "\n",
    "Here are some useful shortcuts for when you are in **command mode** (all these actions can also be done using the **Edit menu** found at the top of the Jupyter notebook interface):\n",
    "* `m`: change cell to **markdown** cell.\n",
    "* `y`: change cell to **code** cell.\n",
    "* up/down arrow: change focus to the cell above/below.\n",
    "* `a`: **insert new cell above** the currently selected cell (**a** as in **a**bove).\n",
    "* `b`: **insert new cell below** the currently selected cell (**b** as in **b**elow).\n",
    "* `dd`: **delete** the selected cell.\n",
    "* `z`: **undo delete** cell.\n",
    "* `h`: display the full list of shortcuts.\n",
    "* `Ctrl + /`: in a code cell, **comment/un-comment multiple lines** at once."
   ]
  },
  {
   "cell_type": "markdown",
   "metadata": {},
   "source": [
    "<br>\n",
    "\n",
    "### Jupyter \"magic\" commands <a id='3.2'></a>\n",
    "\n",
    "Jupyter [magic commands](https://ipython.readthedocs.io/en/stable/interactive/magics.html) are commands that are prefixed with **`%`** or **`%%`** and that only work in Jupyter (i.e. IPython). They are *not* python commands.\n",
    "\n",
    "* Commands prefixed with **`%%`** apply to the entire cell (they must be placed at the top of the cell):\n",
    "    * **`%%time`**: prints the CPU and wall time it takes to run a cell.\n",
    "    * **`%%bash`**: run the cell in BASH (i.e. a terminal) instead of python.\n",
    "    * **`%%writefile <file name>`**: writes the output produced by the cell to the specified file instead\n",
    "      of printing it in Jupyter Notebook.\n",
    "\n",
    "<br>\n",
    "\n",
    "* Commands prefixed with **`%`** apply to the line on which the command is found:\n",
    "    * **`%whos`**: list all user-defined variables in the current session.\n",
    "    * **`%pwd`**: return the current working directory path.\n",
    "    * **`%timeit`**: time execution of a Python statement or expression.\n",
    "\n",
    "<br>\n",
    "\n",
    "**Examples:**\n",
    "* Timing the execution of individual individual lines."
   ]
  },
  {
   "cell_type": "code",
   "execution_count": null,
   "metadata": {},
   "outputs": [],
   "source": [
    "%timeit squares = [x**2 for x in range(100000)]\n",
    "%timeit squares2 = list(map(lambda x: x**2, range(100000)))"
   ]
  },
  {
   "cell_type": "markdown",
   "metadata": {},
   "source": [
    "* Timing the execution of an entire cell."
   ]
  },
  {
   "cell_type": "code",
   "execution_count": null,
   "metadata": {},
   "outputs": [],
   "source": [
    "%%timeit\n",
    "\n",
    "squares = []\n",
    "for x in range(100000):\n",
    "    squares.append(x**2)"
   ]
  },
  {
   "cell_type": "markdown",
   "metadata": {},
   "source": [
    "<br>\n",
    "\n",
    "### Ready ! <a id='3.3'></a>\n",
    "During the course, feel free to modify or add cells in the notebooks we provide - they are your working copy, so customize them as you like.  \n",
    "You can always download this notebook again, but it's probably a good moment to **make a copy**."
   ]
  },
  {
   "cell_type": "markdown",
   "metadata": {},
   "source": [
    "<br>\n",
    "<br>\n",
    "\n",
    "[Back to ToC](#toc)\n",
    "\n",
    "\n",
    "## Exercises <a id='5'></a>\n",
    "----------------\n",
    "\n",
    "### Exercise 0.1 <a id='5.1'></a>\n",
    "\n",
    "* Create a new cell in this Jupyter Notebook.\n",
    "* Set it as a markdown cell.\n",
    "* Add a title (i.e. a header) to your cell.\n",
    "* Write your favorite quote, possibly with some formatting (e.g. some words in bold).\n",
    "* Add the author's name in italic.\n",
    "* Run/render the cell.\n"
   ]
  },
  {
   "cell_type": "markdown",
   "metadata": {},
   "source": [
    "### Exercise 0.2 <a id='5.2'></a>\n",
    "\n",
    "* Create a new cell in this Jupyter Notebook.\n",
    "* Set it as a code cell.\n",
    "* Print \"Hello, world!\" to the screen (remember to run the cell to actually execute your code).\n",
    "  The python command to print something to screen is simply `print(\"text to print\")`."
   ]
  },
  {
   "cell_type": "markdown",
   "metadata": {},
   "source": [
    "<br>\n",
    "<br>\n",
    "<br>\n",
    "\n",
    "[Back to ToC](#toc)\n",
    "\n",
    "<div class=\"alert alert-block alert-info\">\n",
    "\n",
    "# Additional material <a id='6'></a>\n",
    "------------------------------\n",
    "\n",
    "</div>\n",
    "\n",
    "\n",
    "<br>\n",
    "\n",
    "## Restarting the Jupyter Notebook kernel <a id='6.1'></a>\n",
    "\n",
    "Sometimes it is desirable to **restart the kernel** of a running Jupyter Notebook. This will re-start a new python session for your current notebook, which means that any object (variables, functions, etc.) you have in the current session will be deleted.\n",
    "\n",
    "To restart the kernel, go to the **Kernel** menu and select:\n",
    "\n",
    "> **Kernel** > **Restart**  \n",
    "> or  \n",
    "> **Kernel** > **Restart & Clear Output**  (this additionally clears all outputs in your current Notebook)\n",
    "\n",
    "A warning message will ask you to confirm the restart (click the red button): \n",
    "\n",
    "<img src=\"img/jupyter_kernel_restart.png\" alt=\"drawing\" width=\"700\"/>\n"
   ]
  },
  {
   "cell_type": "markdown",
   "metadata": {},
   "source": [
    "<br>\n",
    "<br>\n",
    "\n",
    "[Back to ToC](#toc)\n",
    "\n",
    "\n",
    "## Configuring Jupyter <a id='6.2'></a>\n",
    "\n",
    "### Selecting a working directory\n",
    "\n",
    "#### Selecting the working directory with Jupyter\n",
    "The easiest solution to start Jupyter Notebook in a particular working directory is to:\n",
    "* Open a terminal and change to the directory of interest.\n",
    "* Execute `jupyter notebook`.\n",
    "\n",
    "Alternatively, you can also execute the `jupyter notebook` command from anywhere, then manually browse to the directory containing your Jupyter Notebook files (`.ipynb` extension).\n",
    "\n",
    "#### Using a Jupyter config file\n",
    "An other way of setting the working directory for your Jupyter Notebook is to create and use a Jupyter **config file**.\n",
    "\n",
    "* Open a shell or command prompt (cmd in Windows) and type: `jupyter notebook --generate-config`\n",
    "\n",
    "* This will create a new configuration file, which normally lives at: \n",
    "  * Windows: `C:\\Users\\<username>\\.jupyter\\jupyter_notebook_config`\n",
    "  * UNIX (Linux, Mac): `~/.jupyter/jupyter_notebook_config.p`\n",
    "  \n",
    "  <br>\n",
    "  \n",
    "* In the file, find the following line (usually 179):\n",
    "\n",
    "      #c.NotebookApp.notebook_dir = ''\n",
    "\n",
    "  and change it to (note the `#` that is removed at the start of the line):\n",
    "\n",
    "      c.NotebookApp.notebook_dir = '<your_path>'\n",
    "\n",
    "  Be sure to use forward slashes in your path.\n",
    "\n",
    "#### Changing the working directory in python\n",
    "Finally, you can also change the working directory in python using the module called `os` (more on modules later):\n",
    "```python\n",
    "    import os\n",
    "    print(\"current directory :\", os.getcwd())\n",
    "    os.chdir('<your_path>')\n",
    "    print(\"new directory :\", os.getcwd())\n",
    "```\n",
    "\n",
    "<br>\n",
    "\n",
    "### Changing the default browser\n",
    "To use a specific browser with Jupyter Notebook, the variable to modify in the config file is `c.NotebookApp.browser` (see above for the location of the config file).\n",
    "* On Mac OSX e.g., you could use the following line to set Chrome as default browser:  \n",
    "  `c.NotebookApp.browser = u'open -a /Applications/Google\\ Chrome.app %s'`.\n",
    "* Otherwise just set `c.NotebookApp.browser` to the path of the executable of your favorite browser.\n",
    "\n",
    "<br>\n",
    "\n",
    "[Back to ToC](#toc)"
   ]
  }
 ],
 "metadata": {
  "kernelspec": {
   "display_name": "Python 3 (ipykernel)",
   "language": "python",
   "name": "python3"
  },
  "language_info": {
   "codemirror_mode": {
    "name": "ipython",
    "version": 3
   },
   "file_extension": ".py",
   "mimetype": "text/x-python",
   "name": "python",
   "nbconvert_exporter": "python",
   "pygments_lexer": "ipython3",
   "version": "3.12.2"
  }
 },
 "nbformat": 4,
 "nbformat_minor": 4
}
