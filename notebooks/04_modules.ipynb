{
 "cells": [
  {
   "cell_type": "markdown",
   "metadata": {},
   "source": [
    "# Module 4 - working with modules\n",
    "---------------------------------------------------\n",
    "\n",
    "<div class=\"alert alert-block alert-info\">\n",
    "<b>Note:</b> this notebook contains <b>Additional Material</b> sections (in blue boxes, like this one) that will be skipped during the class due to time constraints. If you are going through this notebook on your own, feel free to\n",
    "read these sections or skip them depending on your interest.\n",
    "</div>\n",
    "\n",
    "### Table of Content <a id='toc'></a>\n",
    "\n",
    "<br>\n",
    "\n",
    "[**Introduction**](#1) \n",
    "\n",
    "[**Importing modules**](#2)  \n",
    "&nbsp;&nbsp;&nbsp;&nbsp;[1. Import the module name, without adding all of its content to your namespace](#2.1)  \n",
    "&nbsp;&nbsp;&nbsp;&nbsp;[2. Import the module name as an alias](#2.2)  \n",
    "&nbsp;&nbsp;&nbsp;&nbsp;[3. Import specific objects from a module](#2.3)  \n",
    "&nbsp;&nbsp;&nbsp;&nbsp;[Micro-Exercise 1](#2.4)  \n",
    "\n",
    "[**Importing your own module**](#3)\n",
    "\n",
    "\n",
    "[**Some python built-in modules of interest...**](#4)\n",
    "\n",
    "[**Install modules needed for the upcoming notebooks**](#5)\n",
    "\n",
    "\n",
    "\n",
    "[**Additional Material**](#7)  \n",
    "&nbsp;&nbsp;&nbsp;&nbsp;[Installing python modules/packages](#7.1)  \n",
    "&nbsp;&nbsp;&nbsp;&nbsp;[Python native module example: `os`](#7.2)  \n",
    "&nbsp;&nbsp;&nbsp;&nbsp;[Python native module example: `time`](#7.3)  \n",
    "&nbsp;&nbsp;&nbsp;&nbsp;[The `%timeit` \"magic\" function (only works in Jupyter Notebooks)](#7.4)  \n",
    "&nbsp;&nbsp;&nbsp;&nbsp;[Building your own modules](#7.5)   \n",
    "&nbsp;&nbsp;&nbsp;&nbsp;[Additional exercises 4.1-4.4](#7.6)  "
   ]
  },
  {
   "cell_type": "markdown",
   "metadata": {},
   "source": [
    "<br>\n",
    "<br>\n",
    "\n",
    "## Introduction <a id='1'></a>\n",
    "-------------------\n",
    "\n",
    "Good news: almost everything you will want to do in Python has already been implemented by someone else. \n",
    "Many workflows have been developed into **modules** which can be **imported** into your Python session.\n",
    "\n",
    "There are 2 categories of modules:\n",
    "* **Built-in modules**: modules that come bundled with the basic Python installation and therefore do not need to be installed.\n",
    "* **External modules**: modules that need to be specifically installed. The large majority of modules fall in this category. Most\n",
    "  of them are hosted on <a href=\"https://pypi.org\">PyPI.org</a> (the Python Package Index).\n",
    "\n",
    "The <a href=https://www.anaconda.com>**Anaconda distribution**</a> - which in principle is the way you installed python for this course - is a project that bundles the base python distribution with a number of popular external packages/modules for data science, such as `numpy`, `scipy`, or `pandas`.\n",
    "\n",
    "Additional packages with modules can be installed to your (environment-specific) library using the <a href=\"https://docs.conda.io/projects/conda/en/latest/user-guide/tasks/manage-pkgs.html\">`conda package manager`</a> or <a href=\"https://pypi.org\">`pip`</a>, both of which are shipped with Anaconda. \n",
    "\n",
    "> **It is not advisable to mix installations via `conda` and via `pip` within a same Conda environment.**  \n",
    "  So it's best if you stick to using conda for the time being.\n",
    "\n",
    "<br>\n",
    "\n",
    "**Official python documentation**, including python native modules: https://docs.python.org  \n",
    "\n",
    "<br>"
   ]
  },
  {
   "cell_type": "markdown",
   "metadata": {},
   "source": [
    "<br>\n",
    "\n",
    "<div class=\"alert alert-block alert-info\">\n",
    "\n",
    "#### [Additional Material] Package vs. module: what's the difference?\n",
    "\n",
    "Technically:\n",
    "* A **module** is a simply a single `.py` file.\n",
    "* A **package** is a group of python modules stored in a directory that contains a `__init__.py` file\n",
    "  (this file is read when the module is loaded.\n",
    "\n",
    "As we will see in this notebook, both packages and modules are loaded with the same command, so in practice the terms package and module are often used interchangeably.\n",
    "\n",
    "<br>\n",
    "\n",
    "**Examples:**  \n",
    "Note: the file location is here shown for a standard installation on Linux. It will likely be different on your machine.\n",
    "\n",
    "* The **`os`** module (interactions with the file system) is composed of a single file.\n",
    "\n",
    "    ```sh\n",
    "    /usr/lib/python3.10\n",
    "                 └── os.py\n",
    "    ```\n",
    "    <br>\n",
    "\n",
    "* The **`json`** module (reading from and writing to JSON format) is a package containing multiple module files.\n",
    "  (note the `__init__.py` file at the root of the `json` directory).\n",
    "\n",
    "    ```sh\n",
    "    /usr/lib/python3.10/json\n",
    "                         ├── __init__.py\n",
    "                         ├── decoder.py\n",
    "                         ├── encoder.py\n",
    "                         └── tool.py\n",
    "    ```\n",
    "\n",
    "</div>"
   ]
  },
  {
   "cell_type": "markdown",
   "metadata": {},
   "source": [
    "<br>\n",
    "<br>\n",
    "\n",
    "[Back to ToC](#toc)\n",
    "\n",
    "\n",
    "## Importing modules <a id='2'></a>\n",
    "---------------------------\n",
    "\n",
    "There are 3 main ways to **import modules** into your code, which we will demonstrate here.\n",
    "\n",
    "\n",
    "### 1. Import the module name, without adding all of its content to your namespace <a id='2.1'></a>\n",
    "* This is the **simplest, and most frequently used**, way to import a module.\n",
    "* Any object of the module (e.g. a function) must be called using the syntax: **`modulename.object`**\n",
    "  as the name of the object is not directly made available in the namespace - only the name of the module is.  \n",
    "  This is actually a good thing because:\n",
    "    * It avoids adding a lot of names to the namespace (most of which we probably don't need).\n",
    "    * It gives an indication of where the function/class/object is taken from."
   ]
  },
  {
   "cell_type": "code",
   "execution_count": null,
   "metadata": {
    "scrolled": true
   },
   "outputs": [],
   "source": [
    "import os\n",
    "\n",
    "print(\"Your operating system is:\", os.name)\n",
    "print(\"The current work dir is:\\n\", os.getcwd(), sep=\"\")"
   ]
  },
  {
   "cell_type": "code",
   "execution_count": null,
   "metadata": {},
   "outputs": [],
   "source": [
    "import statistics\n",
    "\n",
    "statistics.mean(range(101))"
   ]
  },
  {
   "cell_type": "markdown",
   "metadata": {},
   "source": [
    "<br>\n",
    "\n",
    "* **Warning:** trying to call a function directly - in this case `mean()` - without prefixing it with its module name raises a **`NameError`**, because the name of individual functions are not imported into your python session's namespace."
   ]
  },
  {
   "cell_type": "code",
   "execution_count": null,
   "metadata": {},
   "outputs": [],
   "source": [
    "import statistics\n",
    "\n",
    "mean(range(101))   # -> Raises a NameError !"
   ]
  },
  {
   "cell_type": "markdown",
   "metadata": {},
   "source": [
    "<br>\n",
    "\n",
    "### 2. Import the module name as an alias <a id='2.2'></a>\n",
    "\n",
    "This is essentially the same as the first solution above, with the only difference that the module name is given an **alias**.  \n",
    "This is generally used for modules with long names."
   ]
  },
  {
   "cell_type": "code",
   "execution_count": null,
   "metadata": {},
   "outputs": [],
   "source": [
    "import statistics as stats\n",
    "\n",
    "stats.mean(range(11))"
   ]
  },
  {
   "cell_type": "code",
   "execution_count": null,
   "metadata": {},
   "outputs": [],
   "source": [
    "import numpy as np\n",
    "import pandas as pd\n",
    "import matplotlib.pyplot as plt\n",
    "\n",
    "plt.plot(np.linspace(0, 10, 100), [np.sin(x) for x in np.linspace(0, 10, 100)], color='darkorange')\n",
    "plt.show()"
   ]
  },
  {
   "cell_type": "markdown",
   "metadata": {},
   "source": [
    "<br>\n",
    "\n",
    "### 3. Import specific objects from a module <a id='2.3'></a>\n",
    "\n",
    "This is useful when you only need a limited number of objects from a module.\n",
    "\n",
    "In this example, we only import the function `getcwd()` and the attribute `name` from the `os` module:"
   ]
  },
  {
   "cell_type": "code",
   "execution_count": null,
   "metadata": {},
   "outputs": [],
   "source": [
    "from os import getcwd, name\n",
    "\n",
    "print(\"The type of the operating system running this Jupyter instance is:\\n ->\", name)\n",
    "print(\"The current working directory is:\\n ->\", getcwd())"
   ]
  },
  {
   "cell_type": "markdown",
   "metadata": {},
   "source": [
    "At first, this third method may appear nicer as it leads to shorter code. However, it often **hampers code readability**: you now have a variable called `name` but it is not immediately obvious from where it comes! Is a variable you created yourself? or was it imported from somewhere, and if so, from which module?\n",
    "\n",
    "Therefore **this third method should be used with parsimony**: only in specific cases, e.g. when you are using a specific function from a module many times in your code and don't want to each time prefix it with the name of the module to call it.\n",
    "\n",
    "<br>\n",
    "\n",
    "#### Importing all objects from a module - a bad idea\n",
    "\n",
    "Finally, it is also possible to import all the object from a module at once with **`from module import *`**.  \n",
    "While it might again look convenient, it is in reality **bad practice**, and we only show it here so you **know to avoid it** when you see it!\n",
    "\n",
    "Here is why importing all objects with **`from ... import *`** is bad practice:\n",
    "  1. **Unnecessarily pollutes your namespace** (i.e. creates many new names that you will not use).\n",
    "  2. **Can lead to unpredictable results**, since the content of a module might change over time and\n",
    "     you are simply importing it all without any check of what it actually is.\n"
   ]
  },
  {
   "cell_type": "code",
   "execution_count": null,
   "metadata": {},
   "outputs": [],
   "source": [
    "# Something to avoid !\n",
    "from pandas import *\n",
    "\n",
    "# Display objects in namespace with the \"%whos\" jupyter command.\n",
    "%whos"
   ]
  },
  {
   "cell_type": "code",
   "execution_count": null,
   "metadata": {
    "scrolled": true
   },
   "outputs": [],
   "source": [
    "import pandas\n",
    "\n",
    "%whos"
   ]
  },
  {
   "cell_type": "markdown",
   "metadata": {},
   "source": [
    "\n",
    "<br>\n",
    "\n",
    "<div class=\"alert alert-block alert-success\">\n",
    "\n",
    "### Micro Exercise 1 <a id='2.4'></a>\n",
    "* Compute the base 10 logarithm of the factorial of 101 (in mathematical notation: `log10(101!)`).  \n",
    "  **Hint:** have a look at the [math module](https://docs.python.org/3/library/math.html)\n",
    "    \n",
    "</div>"
   ]
  },
  {
   "cell_type": "code",
   "execution_count": null,
   "metadata": {},
   "outputs": [],
   "source": []
  },
  {
   "cell_type": "markdown",
   "metadata": {},
   "source": [
    "<br>\n",
    "<br>\n",
    "\n",
    "[Back to ToC](#toc)\n",
    "\n",
    "## Importing your own module <a id='3'></a>\n",
    "--------------------------------------\n",
    "\n",
    "Often it can be useful to import your **own module**. This is typically so that you can:\n",
    "* **Re-use elements** - e.g. a function you wrote earlier.\n",
    "* **Organize your code** into multiple files, e.g. your main workflow in one file, and functions \n",
    "  grouped by category in different files (modules).\n",
    "\n",
    "Importing your own module is done exactly like with built-in and external modules.\n",
    "\n",
    "<br>\n",
    "\n",
    "**Example:** import a module `my_own_module` from the file `my_own_module.py`.\n",
    "* *Note:* The following example works because `my_own_module.py` is located in the current working directory.  \n",
    "  Modules files must be stored at specific locations to be importable."
   ]
  },
  {
   "cell_type": "code",
   "execution_count": null,
   "metadata": {
    "scrolled": true
   },
   "outputs": [],
   "source": [
    "import my_own_module\n",
    "\n",
    "help(my_own_module)"
   ]
  },
  {
   "cell_type": "code",
   "execution_count": null,
   "metadata": {},
   "outputs": [],
   "source": [
    "import my_own_module\n",
    "\n",
    "my_own_module.greeting()\n",
    "my_own_module.greeting(my_own_module.DEFAULT_USER)"
   ]
  },
  {
   "cell_type": "markdown",
   "metadata": {},
   "source": [
    "<br>\n",
    "\n",
    "* **Importing individual objects** from the module."
   ]
  },
  {
   "cell_type": "code",
   "execution_count": null,
   "metadata": {},
   "outputs": [],
   "source": [
    "from my_own_module import greeting, DEFAULT_USER\n",
    "\n",
    "greeting(name=\"Bob\")\n",
    "greeting(DEFAULT_USER)"
   ]
  },
  {
   "cell_type": "markdown",
   "metadata": {},
   "source": [
    "<br>\n",
    "\n",
    "* Importing the module as an **alias**."
   ]
  },
  {
   "cell_type": "code",
   "execution_count": null,
   "metadata": {},
   "outputs": [],
   "source": [
    "import my_own_module as mom\n",
    "\n",
    "mom.greeting(name=\"James\")"
   ]
  },
  {
   "cell_type": "markdown",
   "metadata": {},
   "source": [
    "\n",
    "<br>\n",
    "\n",
    "[Back to ToC](#toc)\n",
    "\n",
    "# Some python built-in modules of interest... <a id='4'></a>\n",
    "\n",
    "There are [many modules](https://docs.python.org/3/py-modindex.html) integrated to the basic python distribution. Here are a few of them:\n",
    "* **`os`**: interact with the computer's system and files (see Additional Material section below).\n",
    "* **`time`**: access and measure time (see Additional Material section below).\n",
    "* **`argparse`**: to manage LINUX-like options for your scripts.\n",
    "* **`random`**: to generate random numbers with various common distributions.\n",
    "* **`collections`**: contains some useful container classes.\n",
    "* **`itertools`**: useful iterators. A must-go for combinatorics (eg. permutations, combinations, ...).\n",
    "\n",
    "<br>\n",
    "<br>\n",
    "<br>\n",
    "\n",
    "[Back to ToC](#toc)\n",
    "\n",
    "# Install modules needed for the upcoming notebooks <a id='5'></a>\n",
    "----------------------------------------------------------------------------------\n",
    "\n",
    "In the coming lessons, we will introduce you to several well known Python libraries that are particularly useful when doing bioinformatics or (biological) data-analysis.\n",
    "\n",
    "* **`matplotlib`**: creating graphics and images with python.\n",
    "* **`pandas`**: efficient and easy data tables (DataFrame) reading, writing and manipulation.\n",
    "  Allows to manipulate tabular data in a similar way as in R.\n",
    "* **`biopython`**: for manipulating biological sequences, database records and phylogenetic trees.\n",
    "* **`numpy and scipy`**: efficient matrix manipulation, and statistical functions.\n",
    "\n",
    "Use the following code to ensure every library is properly installed :\n"
   ]
  },
  {
   "cell_type": "code",
   "execution_count": null,
   "metadata": {},
   "outputs": [],
   "source": [
    "# Note: you may comment-out any library you are not interested in.\n",
    "\n",
    "import Bio            # biopython: bioinformatics in python.\n",
    "import matplotlib     # Create high-quality plots.\n",
    "import numpy          # Powerful array structure for fast numerical computation.\n",
    "import scipy          # Scientific computing package, with linear algebra and statistical tests.\n",
    "import pandas         # Powerful DataFrame structure that mimics R dataframe. A must for data analysis.\n",
    "print('All libraries imported successfully')"
   ]
  },
  {
   "cell_type": "markdown",
   "metadata": {},
   "source": [
    "If any of these fail, install them by typing the relevant command (see below) in your **terminal (Linux and MacOS)**, or the **conda console (Windows)** - not in the Jupyter Notebook:\n",
    "\n",
    "* **`biopython`**: type `conda install -c anaconda biopython`\n",
    "* **`matplotlib`**: follow instructions from [here](https://github.com/conda-forge/matplotlib-feedstock#installing-matplotlib-suite)\n",
    "* **`pandas`**: type `conda install pandas`\n",
    "* **`scipy`**: type `conda install scipy` \n",
    "* **`numpy`**: type `conda install numpy`"
   ]
  },
  {
   "cell_type": "markdown",
   "metadata": {},
   "source": [
    "<br>\n",
    "<br>\n",
    "<br>\n",
    "\n",
    "[Back to ToC](#toc)\n",
    "\n",
    "<div class=\"alert alert-block alert-info\">\n",
    "\n",
    "# Additional Material <a id='7'></a>\n",
    "-----------------------------\n",
    "\n",
    "</div>\n",
    "\n",
    "<br>\n",
    "\n",
    "## Installing python modules/packages <a id='7.1'></a>\n",
    "\n",
    "There are two package managers associated with Python:\n",
    "* **conda** - bundled with [Anaconda](https://www.anaconda.com) or\n",
    "  [miniconda](https://docs.conda.io/en/latest/miniconda.html).\n",
    "* **pip** - the [package installer for python](https://pip.pypa.io/en/stable/index.html).\n",
    "\n",
    "Generally they play nicely together, and package installation can be done with either of them. Nevertheless, the pseudo-consensus on best practices seems to be that, if you are using a conda virtual environment, then you should try to install packages with conda as much as possible (and only use `pip` in cases where a package is unavailable in the conda repos).\n",
    "\n",
    "The syntax to install a package with `conda` or `pip` is the following:\n",
    "\n",
    "    conda install mypkg\n",
    "    pip install --user mypkg\n",
    "\n",
    "### The Conda package manager\n",
    "\n",
    "Conda is an open-source **package and environment management system** that runs on Windows, macOS, and Linux.  \n",
    "It has 2 main functionalities:\n",
    "* Allows to easily install python packages (and other software too).\n",
    "* Allows to create so called **virtual-environments** that are isolated from each other and your main\n",
    "  operating system. This allows you to have a specific (and different) set of packages installed in\n",
    "  each environment. For instance, you could have one environment with Python 3.10 and a specific set of\n",
    "  modules, and another environment with Python 3.8 and a different set of modules.\n",
    "  \n",
    "The following section will give a very brief primer on using `conda`. For more info, please have a look at https://docs.conda.io.\n",
    "\n",
    "<br>\n",
    "\n",
    "#### Managing Conda environments\n",
    "\n",
    "We show here the command line interface with conda. \n",
    "If you prefer to use the anaconda navigator graphical interface, you can refer to their [environment](https://docs.anaconda.com/free/navigator/tutorials/manage-environments/) and [package](https://docs.anaconda.com/free/navigator/tutorials/manage-packages/) management tutorials\n",
    "\n",
    "\n",
    "Creating an environment with a specific version of Python:\n",
    "\n",
    "    conda create --name myenv python=2.7.11\n",
    "    \n",
    "To avoid any potential conflicts between modules, it is good practice to specify all the additional modules you will need at the time you create your environment. *eg:*\n",
    "\n",
    "    conda create --name myenv python=3.4 numpy scipy matplotlib pandas scikit-learn\n",
    "\n",
    "List your existing conda environments:\n",
    "\n",
    "    conda info --envs\n",
    "    \n",
    "List the packages installed installed in a given environment (`myenv`):\n",
    "\n",
    "    conda list --name myenv\n",
    "    \n",
    "Activating and deactivating an environment (Windows):\n",
    "\n",
    "    # from the Anaconda Prompt\n",
    "    activate myenv\n",
    "    deactivate\n",
    "    \n",
    "Activating and deactivating an environment (Linux / MacOS):\n",
    "\n",
    "    conda activate myenv\n",
    "    conda deactivate\n",
    "\n"
   ]
  },
  {
   "cell_type": "markdown",
   "metadata": {},
   "source": [
    "<br>\n",
    "<br>\n",
    "\n",
    "[Back to ToC](#toc)\n",
    "\n",
    "## Python native module example: `os` <a id='7.2'></a>\n",
    "--------------------------------------\n",
    "\n",
    "The <a href=\"https://docs.python.org/3/library/os.html\">`os`</a> module is a **native python module** (meaning it comes installed with base python) **designed to manage interactions with the operating system**.  \n",
    "It greatly enhances code portability, as it allows you to run the same code on different platforms (Linux, Windows, MacOS).\n",
    "\n",
    "Here we give an overview of a few useful functions from `os`, but there are plenty more.\n",
    "\n",
    "\n",
    "**Get** and **set working directory** with:\n",
    "* **`os.getcwd()`:** return the current working directory.\n",
    "* **`os.chdir(path)`:** set the working directory to `path`.\n",
    "\n",
    "<br>\n",
    "\n",
    "**Examples:** changing the current working directory."
   ]
  },
  {
   "cell_type": "code",
   "execution_count": null,
   "metadata": {},
   "outputs": [],
   "source": [
    "import os\n",
    "\n",
    "current_wd = os.getcwd()\n",
    "print('Current working dir:', current_wd, '\\n')"
   ]
  },
  {
   "cell_type": "code",
   "execution_count": null,
   "metadata": {},
   "outputs": [],
   "source": [
    "os.chdir('../slides')\n",
    "print('Working dir changed to:', os.getcwd(), '\\n')"
   ]
  },
  {
   "cell_type": "code",
   "execution_count": null,
   "metadata": {},
   "outputs": [],
   "source": [
    "os.chdir(current_wd)\n",
    "print('Working dir is now again:', os.getcwd(), '\\n')"
   ]
  },
  {
   "cell_type": "markdown",
   "metadata": {},
   "source": [
    "<br>\n",
    "\n",
    "#### Manipulate files and directories:\n",
    "* `os.mkdir(path)` - creates a new directory non-recursively. To create directories recursively use `os.makedirs(path)`.\n",
    "* `os.rmdir(path)` - deletes `path` if it is an empty directory.\n",
    "* `os.remove(path)` - deletes the file `path` (does not delete directories, even if empty).\n",
    "* `os.listdir(path)` - lists the content (files and directories) of `path`.\n",
    "\n",
    "#### Manipulate paths:\n",
    "* `os.path.basename(path)` - returns the **basename** of a path, i.e. the last element (file or dir) of a path.\n",
    "* `os.path.dirname(path)` - returns the parent directory of the last element of a path.\n",
    "* `os.path.isfile(path)` - returns `True` if `path` is an existing regular file (note: follows symlinks\n",
    "  -> returns `True` for symlinks).\n",
    "* `os.path.isdir(path)` - returns `True` if `path` is an existing directory.\n",
    "* `os.path.join(path1, path2, ...)` - returns a new path by appending all paths passed as arguments one after the other.\n",
    "\n",
    "<br>\n",
    "\n",
    "#### Examples:\n",
    "* Get the **parent directory** of a file or directory:"
   ]
  },
  {
   "cell_type": "code",
   "execution_count": null,
   "metadata": {},
   "outputs": [],
   "source": [
    "current_wd = os.getcwd()\n",
    "print(\"Current working directory:\", current_wd)\n",
    "\n",
    "parent_dir = os.path.dirname(current_wd)\n",
    "print(\"Its parent directory is  :\", parent_dir)"
   ]
  },
  {
   "cell_type": "markdown",
   "metadata": {},
   "source": [
    "<br>\n",
    "\n",
    "* List **content of a directory**:"
   ]
  },
  {
   "cell_type": "code",
   "execution_count": null,
   "metadata": {},
   "outputs": [],
   "source": [
    "print(os.listdir(current_wd))"
   ]
  },
  {
   "cell_type": "markdown",
   "metadata": {},
   "source": [
    "<br>\n",
    "\n",
    "* Test if a path **is a file or directory**:"
   ]
  },
  {
   "cell_type": "code",
   "execution_count": null,
   "metadata": {},
   "outputs": [],
   "source": [
    "path_1 = os.path.join(current_wd, \"00_jupyter_setup.ipynb\")\n",
    "path_2 = os.path.join(current_wd, \"data\")\n",
    "path_3 = os.path.join(current_wd, \"exam_solution.py\")\n",
    "\n",
    "for file_path in (path_1, path_2, path_3):\n",
    "    \n",
    "    print(\"Is '\", os.path.basename(file_path), \"' a file?  \", sep=\"\", end=\"\")\n",
    "    \n",
    "    if os.path.isfile(file_path):\n",
    "        print(\"Yes, it is!\")\n",
    "    elif os.path.isdir(file_path):\n",
    "        print(\"No, it is a directory.\")\n",
    "    else:\n",
    "        print(\"Looks like this file does not exist!\")"
   ]
  },
  {
   "cell_type": "markdown",
   "metadata": {},
   "source": [
    "> **Note:** creating a path with `os.path.join()` vs. string concatenation.\n",
    ">\n",
    "> **Question:** in the example below, the objective is to , what type of problem does using\n",
    "  `os.path.join()` solve?\n",
    "  \n",
    "  ```python\n",
    "      current_wd = os.getcwd()\n",
    "      output_file = \"my_output.csv\"\n",
    "\n",
    "      input_file = os.path.join(current_wd, file_name)\n",
    "      input_file = current_wd + \"/\" + file_name\n",
    "        \n",
    "      with open(output_file, \"w\") as f:\n",
    "          print(\"printing to file...\", file=f)\n",
    "  ```"
   ]
  },
  {
   "cell_type": "markdown",
   "metadata": {},
   "source": [
    "<br>\n",
    "\n",
    "* Example of a function that lists the content of a directory.\n",
    "  Can be used as **inspiration for exercise 4.1**"
   ]
  },
  {
   "cell_type": "code",
   "execution_count": null,
   "metadata": {},
   "outputs": [],
   "source": [
    "import os\n",
    "\n",
    "def list_files_from_dir(path, show_hidden=False):\n",
    "    \"\"\"Prints files and directories found at a given path.\n",
    "    Ignores files part of the ignored list.\n",
    "    \"\"\"\n",
    "    \n",
    "    # Print name of input directory:\n",
    "    input_summary = \"Content of directory: \" + os.path.basename(path)\n",
    "    if show_hidden:\n",
    "        input_summary += \" (including hidden files)\"\n",
    "    print(input_summary)\n",
    "    \n",
    "    # Print files in the directory.\n",
    "    if not os.listdir(path):\n",
    "        print(\" - directory is empty\")\n",
    "        \n",
    "    for f in os.listdir(path):\n",
    "        if not f.startswith(\".\") or show_hidden:\n",
    "            print(\" -\", f)\n",
    "    \n",
    "    # This simply adds an empty line at the end of the output.                        \n",
    "    print(\"\\n\", end=\"\")\n",
    "    \n",
    "    \n",
    "# List files in the parent of the current working directory.\n",
    "parent_dir = os.path.dirname(os.getcwd())\n",
    "list_files_from_dir(parent_dir)\n",
    "list_files_from_dir(parent_dir, show_hidden=True)\n",
    "\n",
    "files_orig = os.listdir(path='.')\n",
    "\n",
    "\n",
    "# Create a new directory:\n",
    "new_dir = os.path.join(parent_dir, 'tmp_dir')\n",
    "os.mkdir(new_dir)\n",
    "list_files_from_dir(new_dir)\n",
    "os.rmdir(new_dir)                # This removes the newly created directory\n"
   ]
  },
  {
   "cell_type": "markdown",
   "metadata": {},
   "source": [
    "<br>\n",
    "\n",
    "[Back to ToC](#toc)\n",
    "\n",
    "\n",
    "## Python native module example: `time` <a id='7.3'></a>\n",
    "\n",
    "The <a href=\"https://docs.python.org/3/library/time.html\">`time`</a> module is designed to measure and format time. It is very useful to monitor code execution times, e.g. when doing optimization.  \n",
    "Here are a few interesting functions from the `time` module:\n",
    "* `time.time()` - returns the **time in seconds since the epoch** as a floating point number.\n",
    "  The epoch is the point from when the time starts (for your computer!), and is platform dependent.\n",
    "  For Unix, the epoch is January 1, 1970, 00:00:00 (UTC - Coordinated Universal Time - the same as GMT).\n",
    "* `time.gmtime()` - transforms the number of seconds given by `time.time()` into a human readable \n",
    "  UTC **`struct_time`** object.\n",
    "* `time.localtime()` - same as `.gmtime()` but transforms to local time.\n",
    "* `time.asctime(struct_time)` - formats `struct_time` objects into a nice string."
   ]
  },
  {
   "cell_type": "code",
   "execution_count": null,
   "metadata": {},
   "outputs": [],
   "source": [
    "import time\n",
    "\n",
    "current_time = time.time()\n",
    "print(\"The current time is:\", current_time)\n",
    "print(\"Oh, sorry, I forgot you are a mere human... \\nLet me convert that for you:\", \n",
    "      time.asctime(time.localtime(current_time)), '\\n')"
   ]
  },
  {
   "cell_type": "markdown",
   "metadata": {},
   "source": [
    "Let's have a look at `time_struct` object."
   ]
  },
  {
   "cell_type": "code",
   "execution_count": null,
   "metadata": {},
   "outputs": [],
   "source": [
    "current_time_struct = time.localtime(current_time) \n",
    "print(\"This is the structure returned by 'localtime()' and 'gmtime()':\\n\", current_time_struct, \"\\n\")"
   ]
  },
  {
   "cell_type": "markdown",
   "metadata": {},
   "source": [
    "Let's look at what the epoch is for your system:"
   ]
  },
  {
   "cell_type": "code",
   "execution_count": null,
   "metadata": {},
   "outputs": [],
   "source": [
    "print(\"The current Epoch is:\", time.asctime(time.gmtime(0)))\n",
    "print(\"The current Epoch is:\", time.asctime(time.localtime(0)), \"(in local time)\")"
   ]
  },
  {
   "cell_type": "markdown",
   "metadata": {},
   "source": [
    "<br>\n",
    "\n",
    "**Example:** use the `time` module to measure the execution time of some code."
   ]
  },
  {
   "cell_type": "code",
   "execution_count": null,
   "metadata": {},
   "outputs": [],
   "source": [
    "# Implementation version 1 of the reverse complement function: uses if... else...\n",
    "def reverse_complement_v1(seq):\n",
    "    \"\"\"Returns the reverse complement of a DNA sequence\"\"\"\n",
    "    \n",
    "    reversed_seq = \"\" \n",
    "    for nucleotide in seq:\n",
    "        if nucleotide == 'A':\n",
    "            reversed_seq += 'T'\n",
    "        elif nucleotide == 'T':\n",
    "            reversed_seq += 'A'\n",
    "        elif nucleotide == 'G':\n",
    "            reversed_seq += 'C'\n",
    "        elif nucleotide == 'C':\n",
    "            reversed_seq += 'G'\n",
    "        else:\n",
    "            pass\n",
    "    \n",
    "    return reversed_seq[::-1]\n",
    "\n",
    "\n",
    "# Implementation version 2 of the reverse complement function: uses a dictionary.\n",
    "def reverse_complement_v2(seq):\n",
    "    \"\"\"Returns the reverse complement of a DNA sequence\"\"\"\n",
    "    \n",
    "    nucleotide_complements = {'A':'T', 'T':'A', 'C':'G', 'G':'C'}\n",
    "    reversed_complement = \"\"\n",
    "    for nucleotide in seq[::-1]:\n",
    "        reversed_complement += nucleotide_complements[nucleotide]\n",
    "    \n",
    "    return reversed_complement\n"
   ]
  },
  {
   "cell_type": "markdown",
   "metadata": {},
   "source": [
    "Let's benchmark our 2 implementations:\n",
    "\n",
    "To compute the time needed to run a function, we proceed as follow:\n",
    "1. Store the current time at start of execution in the \"start_time\" variable.\n",
    "2. Run our function.\n",
    "3. Compute the runtime by comparing the current time before and after the function is run."
   ]
  },
  {
   "cell_type": "code",
   "execution_count": null,
   "metadata": {
    "scrolled": true
   },
   "outputs": [],
   "source": [
    "import time \n",
    "\n",
    "test_sequence = \"ATAGAGCGATCGATCCCTAG\"\n",
    "\n",
    "start_time = time.time()                          \n",
    "rev_comp_v1 = reverse_complement_v1(test_sequence)\n",
    "time_v1 = time.time() - start_time\n",
    "print(time_v1)\n",
    "\n",
    "start_time = time.time()\n",
    "rev_comp_v2 = reverse_complement_v2(test_sequence)\n",
    "time_v2 = time.time() - start_time\n",
    "print(time_v2)"
   ]
  },
  {
   "cell_type": "code",
   "execution_count": null,
   "metadata": {},
   "outputs": [],
   "source": [
    "def time_it(function, argument):\n",
    "    \"\"\"Compute runtime of a function. NB: Only works with function that have a single argument\"\"\"\n",
    "    start_time = time.time()\n",
    "    function(argument)\n",
    "    return time.time() - start_time\n",
    "\n",
    "\n",
    "test_sequence_patterns = [\"ATAGAGCGATCGATCCCTAG\",\n",
    "                          \"AAAAAAAAAAAAAAAAAAAA\",\n",
    "                          \"CCCCCCCCCCCCCCCCCCCC\"]\n",
    "\n",
    "for sequence_pattern in test_sequence_patterns:\n",
    "    print(\"Starting benchmark for pattern:\", sequence_pattern)\n",
    "    \n",
    "    for sequence_length in (1e3, 1e6, 1e8):\n",
    "        test_sequence = sequence_pattern * int(sequence_length / 20)\n",
    "        \n",
    "        time_v1 = time_it(reverse_complement_v1, test_sequence)\n",
    "        time_v2 = time_it(reverse_complement_v2, test_sequence)\n",
    "        \n",
    "        print(\"Benchmark sequence length:\", len(test_sequence))\n",
    "        print(\"Time method 1 (uses if else):\", round(time_v1, 5))\n",
    "        print(\"Time method 1 (uses dict)   :\", round(time_v2, 5))\n",
    "        print(\"Time ratio: dict method is\", round(time_v1/time_v2, 2), \"times faster.\\n\")\n",
    "    "
   ]
  },
  {
   "cell_type": "markdown",
   "metadata": {},
   "source": [
    "<br>\n",
    "\n",
    "[Back to ToC](#toc)\n",
    "\n",
    "## The `%timeit` \"magic\" function (only works in Jupyter Notebooks) <a id='7.4'></a>\n",
    "\n",
    "`%timeit` is a so-called [\"magic function\"](https://ipython.readthedocs.io/en/stable/interactive/tutorial.html?highlight=timeit#magic-functions) for the IPython shell (the shell in which Notebooks run). See [here for details](https://ipython.readthedocs.io/en/stable/interactive/magics.html#magic-timeit).\n",
    "\n",
    "* Usage: `%timeit my_function(...)`\n",
    "\n",
    "Let's compare the two implementations of GC content computing from exercise 2.3:"
   ]
  },
  {
   "cell_type": "code",
   "execution_count": null,
   "metadata": {},
   "outputs": [],
   "source": [
    "from solutions.solution_23 import get_GC_percent, get_GC_percent_2\n",
    "# get_GC_percent   => single \"for nucleotide in seq\" loop.\n",
    "# get_GC_percent_2 => seq.count(\"G\") + seq.count(\"C\")\n",
    "\n",
    "sequence_pattern = \"ATAGAGCGATCGATCCCTAG\"\n",
    "for sequence_length in (1e3, 1e6):\n",
    "    test_sequence = sequence_pattern * int(sequence_length / len(sequence_pattern))\n",
    "    print(\"Sequence length:\", len(test_sequence))    \n",
    "    \n",
    "    print(\"-> single 'for' loop:            \", end='')\n",
    "    %timeit get_GC_percent(test_sequence)\n",
    "    \n",
    "    print(\"-> double call to 'str.count()': \", end='')\n",
    "    %timeit get_GC_percent_2(test_sequence)\n"
   ]
  },
  {
   "cell_type": "markdown",
   "metadata": {},
   "source": [
    "<br>\n",
    "<br>\n",
    "\n",
    "[Back to ToC](#toc)\n",
    "\n",
    "## Building your own modules <a id='7.5'></a>\n",
    "\n",
    "Building your own module in python is fairly easy.\n",
    "\n",
    "### From a regular script\n",
    "Any python script - i.e. a plain text file with **`.py`** extension and some python code in it - can be imported as a module. The only restriction is that the imported module must either:\n",
    " * Be in the same directory as the code that imports it.\n",
    " * Have been installed with anaconda: [here's an idea on how to do this](https://stackoverflow.com/questions/49474575/how-to-install-my-own-python-module-package-via-conda-and-watch-its-changes)\n",
    " * Be in a directory listed in the environment variable `PYTHONPATH` : [windows](https://docs.python.org/3/using/windows.html#excursus-setting-environment-variables), [UNIX-like](https://stackoverflow.com/a/3402176)\n",
    " \n",
    "You can lean more about creating modules in this [python3 module online tutorial](https://docs.python.org/3/tutorial/modules.html).\n",
    "\n",
    "<br>\n",
    "\n",
    "### From a Jupyter notebook\n",
    "Although it is a bit tricky, you can import a Jupyter notebook as a module, so that you may re-use the functions you have coded in it.\n",
    "\n",
    "E.g., to import a Jupyter Notebook named `MyOtherNotebook.ipynb`, you can use the following syntax that uses the `%run` \"magic\" command:\n",
    "* `%run MyOtherNotebook.ipynb`\n",
    "\n",
    "If you want to import a Notebook into a classical script, the [import-ipynb](https://pypi.org/project/import-ipynb/) module is what you are looking for."
   ]
  },
  {
   "cell_type": "code",
   "execution_count": null,
   "metadata": {},
   "outputs": [],
   "source": [
    "%run 01_python_basics.ipynb"
   ]
  },
  {
   "cell_type": "markdown",
   "metadata": {},
   "source": [
    "<br>\n",
    "\n",
    "[Back to ToC](#toc)"
   ]
  },
  {
   "cell_type": "markdown",
   "metadata": {},
   "source": [
    "<br>\n",
    "<br>\n",
    "\n",
    "\n",
    "## Additional exercises <a id='7.6'></a>\n",
    "-----------------------------\n",
    "\n",
    "**Exercises 4.1 - 4.4**"
   ]
  }
 ],
 "metadata": {
  "kernelspec": {
   "display_name": "Python 3 (ipykernel)",
   "language": "python",
   "name": "python3"
  },
  "language_info": {
   "codemirror_mode": {
    "name": "ipython",
    "version": 3
   },
   "file_extension": ".py",
   "mimetype": "text/x-python",
   "name": "python",
   "nbconvert_exporter": "python",
   "pygments_lexer": "ipython3",
   "version": "3.10.12"
  }
 },
 "nbformat": 4,
 "nbformat_minor": 4
}
