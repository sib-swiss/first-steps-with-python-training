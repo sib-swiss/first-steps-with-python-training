{
 "cells": [
  {
   "cell_type": "markdown",
   "metadata": {},
   "source": [
    "# Exercises module 6 - working with modules\n",
    "------------------------------------------------------------------"
   ]
  },
  {
   "cell_type": "markdown",
   "metadata": {},
   "source": [
    "<br>\n",
    "<br>\n",
    "\n",
    "\n",
    "# Additional Exercises\n",
    "---------------------------------"
   ]
  },
  {
   "cell_type": "markdown",
   "metadata": {},
   "source": [
    "<br>\n",
    "\n",
    "## Exercise 6.1\n",
    "\n",
    "Write a function that takes as argument the path of a directory and returns the number of files present in the directory (non-recursively, i.e. no need to search files in subdirectories).  \n",
    "* Make sure your function is still working with a directory that is not the current working directory.\n",
    "* **Hints:** you will need to use the `os.listdir()` and `os.path.isfile()` functions from the `os` module.\n",
    "* **Warning:** the `os.path.isfile()` function requires that you give the full path of the\n",
    "  file/directory you want to check (absolute or relative)."
   ]
  },
  {
   "cell_type": "code",
   "execution_count": null,
   "metadata": {},
   "outputs": [],
   "source": []
  },
  {
   "cell_type": "markdown",
   "metadata": {},
   "source": [
    "<br>\n",
    "\n",
    "### Solution:\n",
    "Uncomment and run the cell below to show the solution."
   ]
  },
  {
   "cell_type": "code",
   "execution_count": 1,
   "metadata": {},
   "outputs": [],
   "source": [
    "# %load solutions/solution_61.py"
   ]
  },
  {
   "cell_type": "markdown",
   "metadata": {},
   "source": [
    "## Exercise 6.2\n",
    "\n",
    "Re-use the function you wrote at exercise 4.1 above, and add the following improvement:\n",
    "* Add an optional argument `ignore_hidden` that, when set to `True`, will ignore hidden files (i.e.\n",
    "  files whose name is starting with a dot, e.g. `.DS_Store`).\n",
    "* The default value of `ignore_hidden` should be `False`."
   ]
  },
  {
   "cell_type": "code",
   "execution_count": null,
   "metadata": {},
   "outputs": [],
   "source": []
  },
  {
   "cell_type": "markdown",
   "metadata": {},
   "source": [
    "<br>\n",
    "\n",
    "### Solution:\n",
    "Uncomment and run the cell below to show the solution."
   ]
  },
  {
   "cell_type": "code",
   "execution_count": 2,
   "metadata": {},
   "outputs": [],
   "source": [
    "# %load solutions/solution_62.py"
   ]
  },
  {
   "cell_type": "markdown",
   "metadata": {},
   "source": [
    "<br>\n",
    "<br>\n",
    "\n",
    "## Exercise 6.3\n",
    "\n",
    "What does this line of code do?  \n",
    "`time.sleep(3)`"
   ]
  },
  {
   "cell_type": "code",
   "execution_count": null,
   "metadata": {},
   "outputs": [],
   "source": []
  },
  {
   "cell_type": "markdown",
   "metadata": {},
   "source": [
    "<br>\n",
    "\n",
    "### Solution:\n",
    "Uncomment and run the cell below to show the solution."
   ]
  },
  {
   "cell_type": "code",
   "execution_count": 3,
   "metadata": {},
   "outputs": [],
   "source": [
    "# %load solutions/solution_63.py"
   ]
  },
  {
   "cell_type": "markdown",
   "metadata": {},
   "source": [
    "<br>\n",
    "<br>\n",
    "\n",
    "## Exercise 6.4\n",
    "\n",
    "Import the function `is_part_of_set` of the `exercise_44_module` module, located in the same directory as this notebook.\n",
    "1. What does `is_part_of_set` do ?\n",
    "2. Use `is_part_of_set` to get the list of all prime numbers between 2 to 50000.\n",
    "3. How long does this computation takes ?\n",
    "\n",
    "\n",
    "**Optional:**\n",
    "* Try to devise a more time efficient way of getting this list of prime numbers.\n",
    "* Compute your speedup (time gain) compared to the original implementation. You might need to\n",
    "  read the **Additional Theory** section of Notebook 04 to learn how to benchmark a function.\n"
   ]
  },
  {
   "cell_type": "code",
   "execution_count": null,
   "metadata": {},
   "outputs": [],
   "source": []
  },
  {
   "cell_type": "markdown",
   "metadata": {},
   "source": [
    "<br>\n",
    "\n",
    "### Solution:\n",
    "Uncomment and run the cell below to show the solution."
   ]
  },
  {
   "cell_type": "code",
   "execution_count": 4,
   "metadata": {},
   "outputs": [],
   "source": [
    "# %load solutions/solution_64.py"
   ]
  }
 ],
 "metadata": {
  "kernelspec": {
   "display_name": "Python 3 (ipykernel)",
   "language": "python",
   "name": "python3"
  },
  "language_info": {
   "codemirror_mode": {
    "name": "ipython",
    "version": 3
   },
   "file_extension": ".py",
   "mimetype": "text/x-python",
   "name": "python",
   "nbconvert_exporter": "python",
   "pygments_lexer": "ipython3",
   "version": "3.11.6"
  }
 },
 "nbformat": 4,
 "nbformat_minor": 4
}
